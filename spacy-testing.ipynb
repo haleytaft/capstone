{
 "cells": [
  {
   "cell_type": "markdown",
   "metadata": {},
   "source": [
    "# Using spaCy for Capstone Project\n",
    "### This includes more cleaning and EDA with some modeling practice "
   ]
  },
  {
   "cell_type": "markdown",
   "metadata": {},
   "source": [
    "https://www.geeksforgeeks.org/python-sort-python-dictionaries-by-key-or-value/\n"
   ]
  },
  {
   "cell_type": "code",
   "execution_count": 50,
   "metadata": {},
   "outputs": [],
   "source": [
    "import pandas as pd\n",
    "import numpy as np\n",
    "import matplotlib.pyplot as plt\n",
    "import seaborn as sns\n",
    "\n",
    "import spacy"
   ]
  },
  {
   "cell_type": "code",
   "execution_count": 2,
   "metadata": {},
   "outputs": [],
   "source": [
    "nlp_sm = spacy.load('en_core_web_sm')\n",
    "nlp_lg = spacy.load('en_core_web_lg')"
   ]
  },
  {
   "cell_type": "code",
   "execution_count": 3,
   "metadata": {},
   "outputs": [],
   "source": [
    "data = pd.read_csv('./data/chewy.csv')"
   ]
  },
  {
   "cell_type": "code",
   "execution_count": 4,
   "metadata": {},
   "outputs": [
    {
     "data": {
      "text/html": [
       "<div>\n",
       "<style scoped>\n",
       "    .dataframe tbody tr th:only-of-type {\n",
       "        vertical-align: middle;\n",
       "    }\n",
       "\n",
       "    .dataframe tbody tr th {\n",
       "        vertical-align: top;\n",
       "    }\n",
       "\n",
       "    .dataframe thead th {\n",
       "        text-align: right;\n",
       "    }\n",
       "</style>\n",
       "<table border=\"1\" class=\"dataframe\">\n",
       "  <thead>\n",
       "    <tr style=\"text-align: right;\">\n",
       "      <th></th>\n",
       "      <th>title</th>\n",
       "      <th>price</th>\n",
       "      <th>descriptions</th>\n",
       "      <th>key_benefits</th>\n",
       "      <th>rating</th>\n",
       "      <th>reviews</th>\n",
       "      <th>subcat</th>\n",
       "      <th>cat</th>\n",
       "      <th>combined_text</th>\n",
       "      <th>combined_sent_len</th>\n",
       "      <th>combined_word_leng</th>\n",
       "      <th>tokenized_combined</th>\n",
       "    </tr>\n",
       "  </thead>\n",
       "  <tbody>\n",
       "    <tr>\n",
       "      <th>0</th>\n",
       "      <td>Nylabone Teething Pacifier Puppy Chew Toy</td>\n",
       "      <td>3.59</td>\n",
       "      <td>'Every puppy needs a pacifier to soothe teethi...</td>\n",
       "      <td>Designed to encourage positive play and teach ...</td>\n",
       "      <td>4.2</td>\n",
       "      <td>I do not know how to rate this. The puppy this...</td>\n",
       "      <td>moderate</td>\n",
       "      <td>chew toys</td>\n",
       "      <td>Every puppy needs a pacifier to soothe teethin...</td>\n",
       "      <td>50</td>\n",
       "      <td>1146</td>\n",
       "      <td>['every', 'puppy', 'needs', 'pacifier', 'sooth...</td>\n",
       "    </tr>\n",
       "    <tr>\n",
       "      <th>1</th>\n",
       "      <td>KONG Puppy Dog Toy, Color Varies</td>\n",
       "      <td>6.99</td>\n",
       "      <td>\"The Puppy KONG dog toy is customized for a gr...</td>\n",
       "      <td>Unpredictable bounce is great for energetic pu...</td>\n",
       "      <td>4.3</td>\n",
       "      <td>I have had dozens of dogs over the years, and ...</td>\n",
       "      <td>moderate</td>\n",
       "      <td>chew toys</td>\n",
       "      <td>\"The Puppy KONG dog toy is customized for a gr...</td>\n",
       "      <td>43</td>\n",
       "      <td>964</td>\n",
       "      <td>['puppy', 'kong', 'dog', 'toy', 'customized', ...</td>\n",
       "    </tr>\n",
       "    <tr>\n",
       "      <th>2</th>\n",
       "      <td>Petstages Dogwood Tough Dog Chew Toy</td>\n",
       "      <td>8.83</td>\n",
       "      <td>\"Chewing is a natural behavior in all dogs, as...</td>\n",
       "      <td>Chew toy that combines real wood with syntheti...</td>\n",
       "      <td>4.2</td>\n",
       "      <td>Our 8 month old, shepherd/mastiff has had this...</td>\n",
       "      <td>moderate</td>\n",
       "      <td>chew toys</td>\n",
       "      <td>\"Chewing is a natural behavior in all dogs, as...</td>\n",
       "      <td>48</td>\n",
       "      <td>1144</td>\n",
       "      <td>['chewing', 'natural', 'behavior', 'dogs', 'he...</td>\n",
       "    </tr>\n",
       "    <tr>\n",
       "      <th>3</th>\n",
       "      <td>Nylabone Teething Rings Puppy Chew Toy</td>\n",
       "      <td>6.57</td>\n",
       "      <td>'Great for teething and tugging! The Puppy Tee...</td>\n",
       "      <td>Designed to encourage positive play and teach ...</td>\n",
       "      <td>4.1</td>\n",
       "      <td>I have a small shih tzu who absolutely loves t...</td>\n",
       "      <td>moderate</td>\n",
       "      <td>chew toys</td>\n",
       "      <td>Great for teething and tugging! The Puppy Teet...</td>\n",
       "      <td>32</td>\n",
       "      <td>772</td>\n",
       "      <td>['great', 'teething', 'tugging', 'puppy', 'tee...</td>\n",
       "    </tr>\n",
       "    <tr>\n",
       "      <th>4</th>\n",
       "      <td>Nylabone Puppy Teething X Bone Beef Flavored P...</td>\n",
       "      <td>6.89</td>\n",
       "      <td>'Curious puppies have met their match with the...</td>\n",
       "      <td>Non-edible dog toy is made for teething puppie...</td>\n",
       "      <td>4.1</td>\n",
       "      <td>This is a great shoe for a tiny puppy in there...</td>\n",
       "      <td>moderate</td>\n",
       "      <td>chew toys</td>\n",
       "      <td>Curious puppies have met their match with the ...</td>\n",
       "      <td>25</td>\n",
       "      <td>804</td>\n",
       "      <td>['curious', 'puppies', 'met', 'match', 'nylabo...</td>\n",
       "    </tr>\n",
       "  </tbody>\n",
       "</table>\n",
       "</div>"
      ],
      "text/plain": [
       "                                               title  price  \\\n",
       "0          Nylabone Teething Pacifier Puppy Chew Toy   3.59   \n",
       "1                   KONG Puppy Dog Toy, Color Varies   6.99   \n",
       "2               Petstages Dogwood Tough Dog Chew Toy   8.83   \n",
       "3             Nylabone Teething Rings Puppy Chew Toy   6.57   \n",
       "4  Nylabone Puppy Teething X Bone Beef Flavored P...   6.89   \n",
       "\n",
       "                                        descriptions  \\\n",
       "0  'Every puppy needs a pacifier to soothe teethi...   \n",
       "1  \"The Puppy KONG dog toy is customized for a gr...   \n",
       "2  \"Chewing is a natural behavior in all dogs, as...   \n",
       "3  'Great for teething and tugging! The Puppy Tee...   \n",
       "4  'Curious puppies have met their match with the...   \n",
       "\n",
       "                                        key_benefits  rating  \\\n",
       "0  Designed to encourage positive play and teach ...     4.2   \n",
       "1  Unpredictable bounce is great for energetic pu...     4.3   \n",
       "2  Chew toy that combines real wood with syntheti...     4.2   \n",
       "3  Designed to encourage positive play and teach ...     4.1   \n",
       "4  Non-edible dog toy is made for teething puppie...     4.1   \n",
       "\n",
       "                                             reviews    subcat        cat  \\\n",
       "0  I do not know how to rate this. The puppy this...  moderate  chew toys   \n",
       "1  I have had dozens of dogs over the years, and ...  moderate  chew toys   \n",
       "2  Our 8 month old, shepherd/mastiff has had this...  moderate  chew toys   \n",
       "3  I have a small shih tzu who absolutely loves t...  moderate  chew toys   \n",
       "4  This is a great shoe for a tiny puppy in there...  moderate  chew toys   \n",
       "\n",
       "                                       combined_text  combined_sent_len  \\\n",
       "0  Every puppy needs a pacifier to soothe teethin...                 50   \n",
       "1  \"The Puppy KONG dog toy is customized for a gr...                 43   \n",
       "2  \"Chewing is a natural behavior in all dogs, as...                 48   \n",
       "3  Great for teething and tugging! The Puppy Teet...                 32   \n",
       "4  Curious puppies have met their match with the ...                 25   \n",
       "\n",
       "   combined_word_leng                                 tokenized_combined  \n",
       "0                1146  ['every', 'puppy', 'needs', 'pacifier', 'sooth...  \n",
       "1                 964  ['puppy', 'kong', 'dog', 'toy', 'customized', ...  \n",
       "2                1144  ['chewing', 'natural', 'behavior', 'dogs', 'he...  \n",
       "3                 772  ['great', 'teething', 'tugging', 'puppy', 'tee...  \n",
       "4                 804  ['curious', 'puppies', 'met', 'match', 'nylabo...  "
      ]
     },
     "execution_count": 4,
     "metadata": {},
     "output_type": "execute_result"
    }
   ],
   "source": [
    "data.head()"
   ]
  },
  {
   "cell_type": "code",
   "execution_count": 77,
   "metadata": {},
   "outputs": [],
   "source": [
    "# # messing around on first review\n",
    "# tokens = nlp_sm(data['combined_text'][0])\n",
    "# vect_list = list(tokens.vector)\n",
    "# np.array(vect_list)"
   ]
  },
  {
   "cell_type": "code",
   "execution_count": 78,
   "metadata": {},
   "outputs": [],
   "source": [
    "# data['token_vectors'] = ''\n",
    "# for i in data.index:\n",
    "# #     print(i)\n",
    "#     doc = nlp_lg(data.loc[i, 'combined_text'])\n",
    "#     data['token_vectors'][i] = list(doc.vector)\n",
    "# # data['token_vectors']"
   ]
  },
  {
   "cell_type": "code",
   "execution_count": 79,
   "metadata": {},
   "outputs": [],
   "source": [
    "# data.head()"
   ]
  },
  {
   "cell_type": "code",
   "execution_count": 80,
   "metadata": {},
   "outputs": [],
   "source": [
    "# # Going to try and average the vectors for each \n",
    "# data['avg_vector'] = ''\n",
    "# for i in data.index:\n",
    "#     vector_sum = 0\n",
    "#     for j in data['token_vectors'][i]:\n",
    "#         vector_sum += j\n",
    "#     avg = vector_sum / len(data['token_vectors'][i])\n",
    "#     data['avg_vector'][i] = avg"
   ]
  },
  {
   "cell_type": "code",
   "execution_count": 81,
   "metadata": {},
   "outputs": [],
   "source": [
    "# data.head()"
   ]
  },
  {
   "cell_type": "code",
   "execution_count": 82,
   "metadata": {},
   "outputs": [],
   "source": [
    "# plt.figure(figsize=(10, 6))\n",
    "# plt.hist(data['avg_vector'], bins=30)\n",
    "# plt.title(\"Average Vectors\")\n",
    "# plt.xlabel('Average Vector Values')\n",
    "# plt.ylabel('Count');"
   ]
  },
  {
   "cell_type": "code",
   "execution_count": 83,
   "metadata": {},
   "outputs": [],
   "source": [
    "# data[(data['cat'] == 'chew toys')]['avg_vector']"
   ]
  },
  {
   "cell_type": "code",
   "execution_count": 84,
   "metadata": {},
   "outputs": [],
   "source": [
    "# plt.figure(figsize=(10, 6))\n",
    "# plt.hist(data['avg_vector'], bins=30, color='blue')\n",
    "# plt.hist(data[(data['cat'] == 'plush toys')]['avg_vector'], bins=30, color='orange')\n",
    "# plt.hist(data[(data['cat'] == 'interactive toys')]['avg_vector'], bins=30, color='purple')\n",
    "# plt.hist(data[(data['cat'] == 'fetch toys')]['avg_vector'], bins=30, color='yellow')\n",
    "# plt.hist(data[(data['cat'] == 'rope & tug toys')]['avg_vector'], bins=30, color='red')\n",
    "# plt.hist(data[(data['cat'] == 'chew toys')]['avg_vector'], bins=30, color='green');"
   ]
  },
  {
   "cell_type": "code",
   "execution_count": 85,
   "metadata": {},
   "outputs": [],
   "source": [
    "# plt.figure(figsize=(10, 6))\n",
    "# ax = sns.boxplot(x=\"cat\", y=\"avg_vector\", data=data)\n",
    "# ax.set_title('Average Vectors in Each Category')\n",
    "# ax.set_xlabel('Categories')\n",
    "# ax.set_ylabel('Average Vector Values');"
   ]
  },
  {
   "cell_type": "markdown",
   "metadata": {},
   "source": [
    "This next section will be usefull code for the actual recommendation system "
   ]
  },
  {
   "cell_type": "code",
   "execution_count": 14,
   "metadata": {},
   "outputs": [],
   "source": [
    "# https://medium.com/@armandj.olivares/building-nlp-content-based-recommender-systems-b104a709c042\n",
    "\n",
    "list_docs = []\n",
    "for i in range(len(data)):\n",
    "    if data['combined_text'][i] != '':\n",
    "        doc = nlp_lg(\"u'\" + str(data['combined_text'][i]) + \"'\")\n",
    "        list_docs.append(doc)"
   ]
  },
  {
   "cell_type": "code",
   "execution_count": 15,
   "metadata": {},
   "outputs": [],
   "source": [
    "# https://medium.com/@armandj.olivares/building-nlp-content-based-recommender-systems-b104a709c042\n",
    "# This will take in what the users says and then score it based off that \n",
    "# I have added to this as well\n",
    "def calculate_similarity_with_spacy(nlp, df, user_text, n=6):\n",
    "    # Calculate similarity with Spacy \n",
    "    list_sim = []\n",
    "    toy_score = []\n",
    "    doc1 = nlp(user_text + \"'\")\n",
    "    vectors = doc1.vector # not quite sure if this will be useful bc not sure how to use the .most_similar here\n",
    "    for i in df.index:\n",
    "        try: \n",
    "            doc2 = list_docs[i]\n",
    "            score = doc1.similarity(doc2)\n",
    "            list_sim.append((doc1, doc2, score))\n",
    "            toy_score.append((score, df['title'][i]))\n",
    "        except:\n",
    "            continue\n",
    "    return toy_score #, vect_list  #list_sim"
   ]
  },
  {
   "cell_type": "code",
   "execution_count": 16,
   "metadata": {},
   "outputs": [],
   "source": [
    "ranking_list = calculate_similarity_with_spacy(nlp_lg, data, 'My dog is a puppy but will be bigger when it grows up. I want a toy for a dog that is energetic and a chewer. He also loves to fetch and run around a lot.')\n",
    "# , vectors"
   ]
  },
  {
   "cell_type": "code",
   "execution_count": 17,
   "metadata": {},
   "outputs": [],
   "source": [
    "# queries = numpy.asarray([numpy.random.uniform(-1, 1, (300,))])\n",
    "# most_similar = nlp_lg.vocab.vectors.most_similar(np.array(vectors), n=10)"
   ]
  },
  {
   "cell_type": "code",
   "execution_count": 18,
   "metadata": {},
   "outputs": [
    {
     "name": "stdout",
     "output_type": "stream",
     "text": [
      "0 0.9688176644941587\n",
      "1 0.966536147483859\n",
      "2 0.9636709649519845\n",
      "3 0.9695489134673047\n",
      "4 0.9682883131269454\n",
      "5 0.9676257582120139\n",
      "6 0.9659972169900718\n",
      "7 0.9646559007202359\n",
      "8 0.971437733232033\n",
      "9 0.9667909655396298\n"
     ]
    }
   ],
   "source": [
    "ranked_dict = {}\n",
    "for i, score_toy in enumerate(ranking_list[:10]):\n",
    "    print(i, score_toy[0])\n",
    "    ranked_dict[score_toy[0]] = {i : score_toy[1]}"
   ]
  },
  {
   "cell_type": "code",
   "execution_count": 19,
   "metadata": {},
   "outputs": [
    {
     "name": "stdout",
     "output_type": "stream",
     "text": [
      "(0.971437733232033, {8: 'KONG Puppy Goodie Bone Dog Toy, Color Varies'})\n",
      "(0.9695489134673047, {3: 'Nylabone Teething Rings Puppy Chew Toy'})\n",
      "(0.9688176644941587, {0: 'Nylabone Teething Pacifier Puppy Chew Toy'})\n",
      "(0.9682883131269454, {4: 'Nylabone Puppy Teething X Bone Beef Flavored Puppy Chew Toy, Small'})\n",
      "(0.9676257582120139, {5: 'Nylabone Puppy Petite Dental Puppy Chew Toy'})\n",
      "(0.9667909655396298, {9: \"Hartz Chew 'n Clean Tuff Bone Tough Dog Chew Toy Toy, Color Varies\"})\n",
      "(0.966536147483859, {1: 'KONG Puppy Dog Toy, Color Varies'})\n",
      "(0.9659972169900718, {6: 'Nylabone Puppy Chicken Flavored Teething Dinosaur Puppy Chew Toy, Petite'})\n",
      "(0.9646559007202359, {7: 'Petstages Cool Teething Stick Tough Dog Chew Toy'})\n",
      "(0.9636709649519845, {2: 'Petstages Dogwood Tough Dog Chew Toy'})\n"
     ]
    }
   ],
   "source": [
    "# https://www.geeksforgeeks.org/python-sort-python-dictionaries-by-key-or-value/\n",
    "final_dict = {}\n",
    "for i in sorted(ranked_dict, reverse=True) : \n",
    "    print ((i, ranked_dict[i]), end ='\\n')\n",
    "#     final_dict[i] = ranked_dict[i]\n",
    "# final_dict"
   ]
  },
  {
   "cell_type": "code",
   "execution_count": null,
   "metadata": {},
   "outputs": [],
   "source": []
  }
 ],
 "metadata": {
  "kernelspec": {
   "display_name": "Python 3",
   "language": "python",
   "name": "python3"
  },
  "language_info": {
   "codemirror_mode": {
    "name": "ipython",
    "version": 3
   },
   "file_extension": ".py",
   "mimetype": "text/x-python",
   "name": "python",
   "nbconvert_exporter": "python",
   "pygments_lexer": "ipython3",
   "version": "3.7.7"
  }
 },
 "nbformat": 4,
 "nbformat_minor": 4
}
