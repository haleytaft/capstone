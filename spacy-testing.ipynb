{
 "cells": [
  {
   "cell_type": "markdown",
   "metadata": {},
   "source": [
    "# Using spaCy for Capstone Project\n",
    "### This includes more cleaning and EDA with some modeling practice "
   ]
  },
  {
   "cell_type": "markdown",
   "metadata": {},
   "source": [
    "https://www.geeksforgeeks.org/python-sort-python-dictionaries-by-key-or-value/   \n",
    "https://medium.com/@armandj.olivares/building-nlp-content-based-recommender-systems-b104a709c042      \n",
    "https://towardsdatascience.com/so-whats-spacy-ad65aa1949e0   \n",
    "The following links from spacy.io were used to help create this system (note there are many links based off these that are used, but these are the main ones)  \n",
    "https://spacy.io/usage   \n",
    "https://spacy.io/usage/spacy-101   \n",
    "https://spacy.io/usage/vectors-similarity   \n",
    "https://spacy.io/api/span#vector    \n",
    "https://spacy.io/api/vectors     \n",
    "  "
   ]
  },
  {
   "cell_type": "code",
   "execution_count": 17,
   "metadata": {},
   "outputs": [],
   "source": [
    "import pandas as pd\n",
    "import numpy as np\n",
    "import matplotlib.pyplot as plt\n",
    "import seaborn as sns\n",
    "\n",
    "import spacy\n",
    "\n",
    "from nltk.tokenize import sent_tokenize, word_tokenize, RegexpTokenizer\n",
    "from nltk.corpus import stopwords \n",
    "from sklearn.feature_extraction.text import CountVectorizer, TfidfVectorizer"
   ]
  },
  {
   "cell_type": "code",
   "execution_count": 3,
   "metadata": {},
   "outputs": [],
   "source": [
    "nlp_sm = spacy.load('en_core_web_sm')\n",
    "nlp_lg = spacy.load('en_core_web_lg')"
   ]
  },
  {
   "cell_type": "code",
   "execution_count": 4,
   "metadata": {},
   "outputs": [],
   "source": [
    "data = pd.read_csv('./data/chewy.csv')"
   ]
  },
  {
   "cell_type": "code",
   "execution_count": 5,
   "metadata": {},
   "outputs": [
    {
     "data": {
      "text/html": [
       "<div>\n",
       "<style scoped>\n",
       "    .dataframe tbody tr th:only-of-type {\n",
       "        vertical-align: middle;\n",
       "    }\n",
       "\n",
       "    .dataframe tbody tr th {\n",
       "        vertical-align: top;\n",
       "    }\n",
       "\n",
       "    .dataframe thead th {\n",
       "        text-align: right;\n",
       "    }\n",
       "</style>\n",
       "<table border=\"1\" class=\"dataframe\">\n",
       "  <thead>\n",
       "    <tr style=\"text-align: right;\">\n",
       "      <th></th>\n",
       "      <th>title</th>\n",
       "      <th>price</th>\n",
       "      <th>descriptions</th>\n",
       "      <th>key_benefits</th>\n",
       "      <th>rating</th>\n",
       "      <th>reviews</th>\n",
       "      <th>subcat</th>\n",
       "      <th>cat</th>\n",
       "      <th>combined_text</th>\n",
       "      <th>combined_sent_len</th>\n",
       "      <th>combined_word_leng</th>\n",
       "      <th>tokenized_combined</th>\n",
       "      <th>token_vectors</th>\n",
       "      <th>avg_vector</th>\n",
       "    </tr>\n",
       "  </thead>\n",
       "  <tbody>\n",
       "    <tr>\n",
       "      <th>0</th>\n",
       "      <td>Nylabone Teething Pacifier Puppy Chew Toy</td>\n",
       "      <td>3.59</td>\n",
       "      <td>'Every puppy needs a pacifier to soothe teethi...</td>\n",
       "      <td>Designed to encourage positive play and teach ...</td>\n",
       "      <td>4.2</td>\n",
       "      <td>I do not know how to rate this. The puppy this...</td>\n",
       "      <td>moderate</td>\n",
       "      <td>chew toys</td>\n",
       "      <td>Every puppy needs a pacifier to soothe teethin...</td>\n",
       "      <td>50</td>\n",
       "      <td>1146</td>\n",
       "      <td>['every', 'puppy', 'needs', 'pacifier', 'sooth...</td>\n",
       "      <td>[-0.04003238, 0.16376925, -0.17635255, -0.0941...</td>\n",
       "      <td>0.002920</td>\n",
       "    </tr>\n",
       "    <tr>\n",
       "      <th>1</th>\n",
       "      <td>KONG Puppy Dog Toy, Color Varies</td>\n",
       "      <td>6.99</td>\n",
       "      <td>\"The Puppy KONG dog toy is customized for a gr...</td>\n",
       "      <td>Unpredictable bounce is great for energetic pu...</td>\n",
       "      <td>4.3</td>\n",
       "      <td>I have had dozens of dogs over the years, and ...</td>\n",
       "      <td>moderate</td>\n",
       "      <td>chew toys</td>\n",
       "      <td>\"The Puppy KONG dog toy is customized for a gr...</td>\n",
       "      <td>43</td>\n",
       "      <td>964</td>\n",
       "      <td>['puppy', 'kong', 'dog', 'toy', 'customized', ...</td>\n",
       "      <td>[-0.04645431, 0.17621087, -0.15408944, -0.0865...</td>\n",
       "      <td>0.002565</td>\n",
       "    </tr>\n",
       "    <tr>\n",
       "      <th>2</th>\n",
       "      <td>Petstages Dogwood Tough Dog Chew Toy</td>\n",
       "      <td>8.83</td>\n",
       "      <td>\"Chewing is a natural behavior in all dogs, as...</td>\n",
       "      <td>Chew toy that combines real wood with syntheti...</td>\n",
       "      <td>4.2</td>\n",
       "      <td>Our 8 month old, shepherd/mastiff has had this...</td>\n",
       "      <td>moderate</td>\n",
       "      <td>chew toys</td>\n",
       "      <td>\"Chewing is a natural behavior in all dogs, as...</td>\n",
       "      <td>48</td>\n",
       "      <td>1144</td>\n",
       "      <td>['chewing', 'natural', 'behavior', 'dogs', 'he...</td>\n",
       "      <td>[-0.043032583, 0.16056213, -0.17279097, -0.084...</td>\n",
       "      <td>0.005094</td>\n",
       "    </tr>\n",
       "    <tr>\n",
       "      <th>3</th>\n",
       "      <td>Nylabone Teething Rings Puppy Chew Toy</td>\n",
       "      <td>6.57</td>\n",
       "      <td>'Great for teething and tugging! The Puppy Tee...</td>\n",
       "      <td>Designed to encourage positive play and teach ...</td>\n",
       "      <td>4.1</td>\n",
       "      <td>I have a small shih tzu who absolutely loves t...</td>\n",
       "      <td>moderate</td>\n",
       "      <td>chew toys</td>\n",
       "      <td>Great for teething and tugging! The Puppy Teet...</td>\n",
       "      <td>32</td>\n",
       "      <td>772</td>\n",
       "      <td>['great', 'teething', 'tugging', 'puppy', 'tee...</td>\n",
       "      <td>[-0.040631622, 0.15921111, -0.15474631, -0.073...</td>\n",
       "      <td>0.004021</td>\n",
       "    </tr>\n",
       "    <tr>\n",
       "      <th>4</th>\n",
       "      <td>Nylabone Puppy Teething X Bone Beef Flavored P...</td>\n",
       "      <td>6.89</td>\n",
       "      <td>'Curious puppies have met their match with the...</td>\n",
       "      <td>Non-edible dog toy is made for teething puppie...</td>\n",
       "      <td>4.1</td>\n",
       "      <td>This is a great shoe for a tiny puppy in there...</td>\n",
       "      <td>moderate</td>\n",
       "      <td>chew toys</td>\n",
       "      <td>Curious puppies have met their match with the ...</td>\n",
       "      <td>25</td>\n",
       "      <td>804</td>\n",
       "      <td>['curious', 'puppies', 'met', 'match', 'nylabo...</td>\n",
       "      <td>[-0.03072327, 0.15317601, -0.14757921, -0.0565...</td>\n",
       "      <td>0.003230</td>\n",
       "    </tr>\n",
       "  </tbody>\n",
       "</table>\n",
       "</div>"
      ],
      "text/plain": [
       "                                               title  price  \\\n",
       "0          Nylabone Teething Pacifier Puppy Chew Toy   3.59   \n",
       "1                   KONG Puppy Dog Toy, Color Varies   6.99   \n",
       "2               Petstages Dogwood Tough Dog Chew Toy   8.83   \n",
       "3             Nylabone Teething Rings Puppy Chew Toy   6.57   \n",
       "4  Nylabone Puppy Teething X Bone Beef Flavored P...   6.89   \n",
       "\n",
       "                                        descriptions  \\\n",
       "0  'Every puppy needs a pacifier to soothe teethi...   \n",
       "1  \"The Puppy KONG dog toy is customized for a gr...   \n",
       "2  \"Chewing is a natural behavior in all dogs, as...   \n",
       "3  'Great for teething and tugging! The Puppy Tee...   \n",
       "4  'Curious puppies have met their match with the...   \n",
       "\n",
       "                                        key_benefits  rating  \\\n",
       "0  Designed to encourage positive play and teach ...     4.2   \n",
       "1  Unpredictable bounce is great for energetic pu...     4.3   \n",
       "2  Chew toy that combines real wood with syntheti...     4.2   \n",
       "3  Designed to encourage positive play and teach ...     4.1   \n",
       "4  Non-edible dog toy is made for teething puppie...     4.1   \n",
       "\n",
       "                                             reviews    subcat        cat  \\\n",
       "0  I do not know how to rate this. The puppy this...  moderate  chew toys   \n",
       "1  I have had dozens of dogs over the years, and ...  moderate  chew toys   \n",
       "2  Our 8 month old, shepherd/mastiff has had this...  moderate  chew toys   \n",
       "3  I have a small shih tzu who absolutely loves t...  moderate  chew toys   \n",
       "4  This is a great shoe for a tiny puppy in there...  moderate  chew toys   \n",
       "\n",
       "                                       combined_text  combined_sent_len  \\\n",
       "0  Every puppy needs a pacifier to soothe teethin...                 50   \n",
       "1  \"The Puppy KONG dog toy is customized for a gr...                 43   \n",
       "2  \"Chewing is a natural behavior in all dogs, as...                 48   \n",
       "3  Great for teething and tugging! The Puppy Teet...                 32   \n",
       "4  Curious puppies have met their match with the ...                 25   \n",
       "\n",
       "   combined_word_leng                                 tokenized_combined  \\\n",
       "0                1146  ['every', 'puppy', 'needs', 'pacifier', 'sooth...   \n",
       "1                 964  ['puppy', 'kong', 'dog', 'toy', 'customized', ...   \n",
       "2                1144  ['chewing', 'natural', 'behavior', 'dogs', 'he...   \n",
       "3                 772  ['great', 'teething', 'tugging', 'puppy', 'tee...   \n",
       "4                 804  ['curious', 'puppies', 'met', 'match', 'nylabo...   \n",
       "\n",
       "                                       token_vectors  avg_vector  \n",
       "0  [-0.04003238, 0.16376925, -0.17635255, -0.0941...    0.002920  \n",
       "1  [-0.04645431, 0.17621087, -0.15408944, -0.0865...    0.002565  \n",
       "2  [-0.043032583, 0.16056213, -0.17279097, -0.084...    0.005094  \n",
       "3  [-0.040631622, 0.15921111, -0.15474631, -0.073...    0.004021  \n",
       "4  [-0.03072327, 0.15317601, -0.14757921, -0.0565...    0.003230  "
      ]
     },
     "execution_count": 5,
     "metadata": {},
     "output_type": "execute_result"
    }
   ],
   "source": [
    "data.head()"
   ]
  },
  {
   "cell_type": "markdown",
   "metadata": {},
   "source": [
    "# This next section will be usefull code for the actual recommendation system "
   ]
  },
  {
   "cell_type": "markdown",
   "metadata": {},
   "source": [
    "### User Input-- What will the user need to do?\n",
    "The user input will be a short paragraph answering the following the questions to the best of their abilities:\n",
    " - What type of dog do you have?\n",
    " - Is your dog a puppy, or older?\n",
    " - Is your dog super energetic and playful or more calm?\n",
    " - Would you say your dog is smarter than most dogs?\n",
    " - Does your dog like to chase after toys, cuddle toys, or chew on them? \n",
    " - Does your dog get pretty bored after playing with a toy for a bit? \n",
    " - Does your dog already have an ideal toy that is their absolute favorite? (If yes, describe it.)   \n",
    " Try to describe what your dog IS rather what you dog IS NOT so that the model works better. \n",
    " \n",
    "The paragraph of text describing their dog will be tokenized and stopwords removed so that it can then be compared to tokenized text for every dog toy to find the most similar toys based off the text. \n",
    "\n",
    "The text that I will use to create and test this will be about one of my own dogs Colby:  \n",
    "An okay example:   \n",
    "\"Colby is 9-year-old retriever. For the most part, he is pretty mellow, but sometimes he gets bursts of energy, especially when we go swimming and play fetch in the pool with a ball. He also really like treats and is very food oriented. I wouldn't say he's very smart and definielty prefers to chase toys more than cuddle or chew on them. He will get bored with a toy after a bit. His favorite toy is probably a ball and not sqeaky.\"\n",
    "\n",
    "A better example:\n",
    "\"Colby is 9-year-old retriever. For the most part, he is pretty mellow, but sometimes he gets bursts of energy, especially when we go swimming and play fetch in the pool with a ball. He also really like treats and is very food oriented. He is pretty dumn and definielty prefers to chase toys. He will get bored with a toy after a bit. His favorite toy is probably a ball and not sqeaky.\"\n",
    "\n",
    "A third example: \n",
    "\"Eli is a miniature dachshund that loves to run around and snuggle with soft toys. She is very active but also loves to cuddle and loves toys.\" "
   ]
  },
  {
   "cell_type": "code",
   "execution_count": 23,
   "metadata": {},
   "outputs": [],
   "source": [
    "# tokenizer = RegexpTokenizer(r'\\w+')\n",
    "# stopwords = stopwords.words('english') + ['dog', 'toy', 'dogs', 'toys', 'one']"
   ]
  },
  {
   "cell_type": "code",
   "execution_count": 94,
   "metadata": {},
   "outputs": [],
   "source": [
    "# User input cleaning: \n",
    "user_input_1 = \"Colby is 9-year-old golden retriever. For the most part, he is pretty mellow, but sometimes he gets bursts of energy, especially when we go swimming and play fetch in the pool with a ball. He also really like treats and is very foot oriented. I wouldn't say he's very smart and definielty prefers to chase toys more than cuddle or chew on them. He will get bored with a toy after a bit. His favorite toy is probably a ball and not sqeaky.\"\n",
    "user_input_2 = \"Colby is 9-year-old retriever. For the most part, he is pretty mellow, but sometimes he gets bursts of energy, especially when we go swimming and play fetch in the pool with a ball. He also really like treats and is very food oriented. He is pretty dumn and definielty prefers to chase toys. He will get bored with a toy after a bit. His favorite toy is probably a ball and not sqeaky.\"\n",
    "user_input_3 = \"Eli is a miniature dachshund that loves to run around and snuggle with soft toys. She is very active but also loves to cuddle and loves toys.\" \n",
    "user_input_4 = \"My dog is incredibly smart but lazy and loves plush toys to cuddle with.\"\n",
    "# user_doc = nlp_lg(user_input)\n",
    "\n",
    "# user_tokens = tokenizer.tokenize(str(user_doc).lower())\n",
    "# user_text = [token for token in user_tokens if token not in stopwords]\n",
    "\n",
    "# user_no_stop_words\n",
    "# user_text = []\n",
    "# for token in user_doc:\n",
    "#     tokenizer.tokenize(str(token).lower())\n",
    "# user_text"
   ]
  },
  {
   "cell_type": "code",
   "execution_count": null,
   "metadata": {},
   "outputs": [],
   "source": [
    "# combined_tokens = tokenizer.tokenize(df['combined_text'][i].lower())\n",
    "# no_stop_words = [token for token in combined_tokens if token not in stopwords.words('english')]"
   ]
  },
  {
   "cell_type": "code",
   "execution_count": 28,
   "metadata": {},
   "outputs": [],
   "source": [
    "# https://medium.com/@armandj.olivares/building-nlp-content-based-recommender-systems-b104a709c042\n",
    "\n",
    "list_docs = []\n",
    "for i in range(len(data)):\n",
    "    if data['combined_text'][i] != '':\n",
    "        doc = nlp_lg(str(data['combined_text'][i]) + \"'\")\n",
    "        list_docs.append(doc)"
   ]
  },
  {
   "cell_type": "code",
   "execution_count": 98,
   "metadata": {},
   "outputs": [
    {
     "data": {
      "text/plain": [
       "2399"
      ]
     },
     "execution_count": 98,
     "metadata": {},
     "output_type": "execute_result"
    }
   ],
   "source": [
    "len(list_docs)"
   ]
  },
  {
   "cell_type": "code",
   "execution_count": 101,
   "metadata": {},
   "outputs": [],
   "source": [
    "# https://medium.com/@armandj.olivares/building-nlp-content-based-recommender-systems-b104a709c042\n",
    "# This will take in what the users says and then score it based off that \n",
    "# I have added to this as well\n",
    "\n",
    "def calculate_similarity_with_spacy(nlp, df, user_text, n=6):\n",
    "    # Calculate similarity with Spacy \n",
    "    list_sim = []\n",
    "    toy_score = []\n",
    "    doc1 = nlp(user_text + \"'\")\n",
    "    vectors = doc1.vector # not quite sure if this will be useful bc not sure how to use the .most_similar here\n",
    "    for i in df.index:\n",
    "        try: \n",
    "            doc2 = list_docs[i]\n",
    "            score = doc1.similarity(doc2)\n",
    "            list_sim.append((doc1, doc2, score))\n",
    "            toy_score.append((score, df['title'][i], df['cat'][i], df['description']))\n",
    "        except:\n",
    "            continue\n",
    "    return toy_score #, vect_list  #list_sim"
   ]
  },
  {
   "cell_type": "markdown",
   "metadata": {},
   "source": [
    "Running it on the okay example"
   ]
  },
  {
   "cell_type": "code",
   "execution_count": 56,
   "metadata": {},
   "outputs": [],
   "source": [
    "ranking_list = calculate_similarity_with_spacy(nlp_lg, data, user_text=user_input_1)\n",
    "# ranking_list"
   ]
  },
  {
   "cell_type": "code",
   "execution_count": 103,
   "metadata": {},
   "outputs": [
    {
     "data": {
      "text/plain": [
       "[0.9725215820014242,\n",
       " 0.9716290016880776,\n",
       " 0.9704434155124235,\n",
       " 0.9702837070088358,\n",
       " 0.9691803954768489,\n",
       " 0.968903733435692,\n",
       " 0.9688948048534278,\n",
       " 0.9688758294095094,\n",
       " 0.9687495983530308,\n",
       " 0.9671432535161417]"
      ]
     },
     "execution_count": 103,
     "metadata": {},
     "output_type": "execute_result"
    }
   ],
   "source": [
    "sorted(ranked_dict, reverse=True)"
   ]
  },
  {
   "cell_type": "code",
   "execution_count": 146,
   "metadata": {},
   "outputs": [],
   "source": [
    "def dog_toy_recommender(nlp, data, user_text):\n",
    "    ranking_list = calculate_similarity_with_spacy(nlp_lg, data, user_text=user_text)\n",
    "    ranked_dict = {}\n",
    "    for i, score_toy in enumerate(ranking_list):\n",
    "    #     print(i, score_toy[0], ranking_list[i][2])\n",
    "        ranked_dict[score_toy[0]] = {i : [ranking_list[i][2], score_toy[1]]}\n",
    "    final_dict = {}\n",
    "    for i in sorted(ranked_dict, reverse=True) : \n",
    "        final_dict[i] =  ranked_dict[i]\n",
    "    return final_dict"
   ]
  },
  {
   "cell_type": "code",
   "execution_count": 147,
   "metadata": {},
   "outputs": [],
   "source": [
    "def run_recommender(nlp, data, user_text):\n",
    "    toys = dog_toy_recommender(nlp_lg, data, user_text=user_text)\n",
    "    for i in list(toys)[:10]:\n",
    "        print(i, toys[i])"
   ]
  },
  {
   "cell_type": "code",
   "execution_count": 148,
   "metadata": {},
   "outputs": [
    {
     "name": "stdout",
     "output_type": "stream",
     "text": [
      "0.9853530786203206 {1185: ['plush toys', 'GoDog Grumpy Fat Dino Chew Guard Squeaky Plush Dog Toy']}\n",
      "0.9852264630933704 {1426: ['plush toys', 'Outward Hound Floppyz Donkey Squeaky Plush Dog Toy']}\n",
      "0.9851527160042408 {785: ['interactive toys', 'Jolly Pets Teaser Ball Dog Toy, Blue']}\n",
      "0.9850387127577117 {646: ['interactive toys', 'PetSafe Sportsmen Football Treat Dispensing Tough Dog Chew Toy']}\n",
      "0.9849370610053354 {890: ['plush toys', 'Frisco Muscle Plush Squeaking Tiger Dog Toy']}\n",
      "0.9848946180203382 {902: ['plush toys', 'Ethical Pet Soccer Ball Squeaky Plush Dog Toy']}\n",
      "0.984844510710498 {2033: ['plush toys', 'Mighty Squeaky Stuffing-Free Plush Ball Dog Toy, Orange, Large']}\n",
      "0.9847632216384811 {318: ['fetch toys', 'JW Pet Whirlwheel Flying Disk Dog Toy, Color Varies, Large']}\n",
      "0.9845452458744287 {1698: ['plush toys', 'Outward Hound Floppyz Chicken Squeaky Plush Dog Toy']}\n",
      "0.9844364596118705 {1106: ['plush toys', \"Hyper Pet Disney's Nightmare Before Christmas Jack Plush Dog Toy\"]}\n"
     ]
    }
   ],
   "source": [
    "run_recommender(nlp_lg, data, user_text=user_input_1)"
   ]
  },
  {
   "cell_type": "code",
   "execution_count": 149,
   "metadata": {},
   "outputs": [],
   "source": [
    "# ranking_list = calculate_similarity_with_spacy(nlp_lg, data, user_text=user_input_1)\n",
    "# # , vectors\n",
    "\n",
    "# # queries = numpy.asarray([numpy.random.uniform(-1, 1, (300,))])\n",
    "# # most_similar = nlp_lg.vocab.vectors.most_similar(np.array(vectors), n=10)\n",
    "\n",
    "# ranked_dict = {}\n",
    "# for i, score_toy in enumerate(ranking_list[:10]):\n",
    "# #     print(i, score_toy[0], ranking_list[i][2])\n",
    "#     ranked_dict[score_toy[0]] = {i : [score_toy[1], ranking_list[i][2]]}\n",
    "\n",
    "# # https://www.geeksforgeeks.org/python-sort-python-dictionaries-by-key-or-value/\n",
    "# final_dict = {}\n",
    "# for i in sorted(ranked_dict, reverse=True) : \n",
    "#     print ((i, ranked_dict[i]), end ='\\n')\n",
    "# #     final_dict[i] = ranked_dict[i]\n",
    "# # final_dict"
   ]
  },
  {
   "cell_type": "code",
   "execution_count": 150,
   "metadata": {},
   "outputs": [
    {
     "name": "stdout",
     "output_type": "stream",
     "text": [
      "0.9800368148543878 {646: ['interactive toys', 'PetSafe Sportsmen Football Treat Dispensing Tough Dog Chew Toy']}\n",
      "0.9794736895011875 {2033: ['plush toys', 'Mighty Squeaky Stuffing-Free Plush Ball Dog Toy, Orange, Large']}\n",
      "0.9790931578882266 {1185: ['plush toys', 'GoDog Grumpy Fat Dino Chew Guard Squeaky Plush Dog Toy']}\n",
      "0.9790702211002554 {619: ['interactive toys', 'Planet Dog Orbee-Tuff Mazee Puzzle Dog Toy']}\n",
      "0.9788167069914844 {318: ['fetch toys', 'JW Pet Whirlwheel Flying Disk Dog Toy, Color Varies, Large']}\n",
      "0.9787709201069285 {902: ['plush toys', 'Ethical Pet Soccer Ball Squeaky Plush Dog Toy']}\n",
      "0.9787447615411639 {1426: ['plush toys', 'Outward Hound Floppyz Donkey Squeaky Plush Dog Toy']}\n",
      "0.9786543916804369 {24: ['chew toys', 'Outward Hound Triple Jack Squeaky Dog Chew Toy']}\n",
      "0.978596547503262 {1022: ['plush toys', \"Multipet Look Who's Talking Sheep Plush Dog Toy\"]}\n",
      "0.9785280374824761 {2018: ['plush toys', 'Chuckit! Indoor Flying Squirrel Dog Toy']}\n"
     ]
    }
   ],
   "source": [
    "run_recommender(nlp_lg, data, user_text=user_input_2)"
   ]
  },
  {
   "cell_type": "code",
   "execution_count": 151,
   "metadata": {},
   "outputs": [
    {
     "name": "stdout",
     "output_type": "stream",
     "text": [
      "0.9551266090697785 {1967: ['plush toys', 'Charming Pet Lumber Jackerz Dog Toy, Bunny']}\n",
      "0.9527661083164954 {1381: ['plush toys', 'Pet Qwerks Barking Puppy Sound Plush Dog Toy']}\n",
      "0.9527034717669484 {1410: ['plush toys', 'ZippyPaws Finn the Fish Grunterz Dog Toy']}\n",
      "0.9520430500174887 {1566: ['plush toys', \"Li'l Pals Plush Dog Toy\"]}\n",
      "0.9512635740630994 {1710: ['plush toys', 'Fab Dog Floppy Panda Squeaky Plush Dog Toy, Small']}\n",
      "0.9511907914658626 {1014: ['plush toys', 'Ethical Pet Lil Spots Squeaky Plush Blanket Puppy Toy, Color/Character Varies']}\n",
      "0.9510905293234249 {1261: ['plush toys', \"Charming Pet Squeakin' Squiggles Elephant Squeaky Plush Dog Toy\"]}\n",
      "0.9509657315015633 {1369: ['plush toys', 'ZippyPaws Yellow Lab Squeakie Buns Dog Toy']}\n",
      "0.9507440410586208 {1438: ['plush toys', 'Ethical Pet Fun Food Ruffus Chips Squeaky Plush Dog Toy']}\n",
      "0.9505427627459778 {1592: ['plush toys', 'Charming Pet Cuddle Tugs Pig Squeaky Plush Dog Toy']}\n"
     ]
    }
   ],
   "source": [
    "run_recommender(nlp_lg, data, user_text=user_input_3)"
   ]
  },
  {
   "cell_type": "code",
   "execution_count": 152,
   "metadata": {},
   "outputs": [
    {
     "name": "stdout",
     "output_type": "stream",
     "text": [
      "0.9437791185063656 {1739: ['plush toys', 'Ethical Pet Cuddle Bunnies Squeaky Plush Dog Toy, Character Varies']}\n",
      "0.9429259507659253 {1470: ['plush toys', 'Remington Plush Dog Toy, Shotgun Shell']}\n",
      "0.9414243167216859 {1669: ['plush toys', 'Ethical Pet Corduroy Hedgehog Squeaky Plush Dog Toy, Character Varies']}\n",
      "0.9413042386244863 {1822: ['plush toys', 'Zoobilee Skins Plush Puppy Toy, 2 count']}\n",
      "0.9409792765067402 {1967: ['plush toys', 'Charming Pet Lumber Jackerz Dog Toy, Bunny']}\n",
      "0.940000162202191 {1261: ['plush toys', \"Charming Pet Squeakin' Squiggles Elephant Squeaky Plush Dog Toy\"]}\n",
      "0.9370589843751561 {1851: ['plush toys', 'All For Paws Monster Bunch Stick Dog Toy']}\n",
      "0.9365866182809068 {1576: ['plush toys', 'Pet Qwerks Pig Sound Plush Dog Toy']}\n",
      "0.9364032760174563 {1849: ['plush toys', 'Pet Shop by Fringe Studio Donut Leave Me Hangin Squeaky Plush Dog Toy']}\n",
      "0.9357075513104911 {1550: ['plush toys', 'Ethical Pet Fun Food Chicken Leg Squeaky Plush Dog Toy']}\n"
     ]
    }
   ],
   "source": [
    "run_recommender(nlp_lg, data, user_text=user_input_4)"
   ]
  },
  {
   "cell_type": "code",
   "execution_count": 153,
   "metadata": {},
   "outputs": [
    {
     "name": "stdout",
     "output_type": "stream",
     "text": [
      "0.9463557045453683 {889: ['plush toys', 'Frisco Fur Really Real Squirrel Dog Toy']}\n",
      "0.943792811148411 {1114: ['plush toys', 'Smart Pet Love New Puppy Starter Kit']}\n",
      "0.9435811650198336 {1179: ['plush toys', 'Multipet Swingin Slevins Squeaky Plush Dog Toy']}\n",
      "0.9423917696231578 {1381: ['plush toys', 'Pet Qwerks Barking Puppy Sound Plush Dog Toy']}\n",
      "0.9423276207395921 {1127: ['plush toys', 'Petstages Cuddle Pal Sloth Dog Plush Toy']}\n",
      "0.9415614400297996 {863: ['plush toys', 'Smart Pet Love Snuggle Puppy Behavioral Aid Dog Toy']}\n",
      "0.9412923771116017 {888: ['plush toys', \"Frisco Puppy Lil' Romps Bungee Elephant Dog Toy\"]}\n",
      "0.9408595604481523 {1162: ['plush toys', 'Ethical Pet Woodland Collection Squirrel Squeaky Plush Dog Toy']}\n",
      "0.9406765269641763 {941: ['plush toys', 'Frisco Textured Plush Squeaking Bunny Dog Toy']}\n",
      "0.9406349101788064 {1273: ['plush toys', 'Jolly Pets Tug-a-Mals Crab Dog Toy']}\n"
     ]
    }
   ],
   "source": [
    "run_recommender(nlp_lg, data, user_text='pattycake is a cockapoo. she is older and very calm. she likes to stay indoors, and bark at squirrels from the window')"
   ]
  },
  {
   "cell_type": "code",
   "execution_count": null,
   "metadata": {},
   "outputs": [],
   "source": []
  }
 ],
 "metadata": {
  "kernelspec": {
   "display_name": "Python 3",
   "language": "python",
   "name": "python3"
  },
  "language_info": {
   "codemirror_mode": {
    "name": "ipython",
    "version": 3
   },
   "file_extension": ".py",
   "mimetype": "text/x-python",
   "name": "python",
   "nbconvert_exporter": "python",
   "pygments_lexer": "ipython3",
   "version": "3.7.7"
  }
 },
 "nbformat": 4,
 "nbformat_minor": 4
}
