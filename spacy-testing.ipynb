{
 "cells": [
  {
   "cell_type": "markdown",
   "metadata": {},
   "source": [
    "Testing spaCy for Capstone Project"
   ]
  },
  {
   "cell_type": "code",
   "execution_count": 1,
   "metadata": {},
   "outputs": [],
   "source": [
    "import pandas as pd\n",
    "import numpy as np\n",
    "import matplotlib.pyplot as plt\n",
    "\n",
    "import spacy"
   ]
  },
  {
   "cell_type": "code",
   "execution_count": 2,
   "metadata": {},
   "outputs": [],
   "source": [
    "nlp_sm = spacy.load('en_core_web_sm')\n",
    "nlp_lg = spacy.load('en_core_web_lg')"
   ]
  },
  {
   "cell_type": "code",
   "execution_count": 3,
   "metadata": {},
   "outputs": [],
   "source": [
    "data = pd.read_csv('./data/chewy.csv')"
   ]
  },
  {
   "cell_type": "code",
   "execution_count": 4,
   "metadata": {},
   "outputs": [],
   "source": [
    "# If 'Unnamed: 0' column is in the data frame, run this cell \n",
    "data.drop(columns='Unnamed: 0', inplace=True)"
   ]
  },
  {
   "cell_type": "code",
   "execution_count": 14,
   "metadata": {},
   "outputs": [
    {
     "data": {
      "text/plain": [
       "['I', 'do', 'not', 'know', 'how', 'to', 'rate', 'this', '.', 'The']"
      ]
     },
     "execution_count": 14,
     "metadata": {},
     "output_type": "execute_result"
    }
   ],
   "source": [
    "# messing around on first review\n",
    "tokens = nlp_sm(data['reviews'][0])\n",
    "\n",
    "token_list = []\n",
    "for token in tokens[:10]:\n",
    "    token_list.append(token.text)\n",
    "\n",
    "token_list \n",
    "#     print(type(token))\n",
    "#     print(token.text, token.has_vector, token.vector_norm, token.is_oov)"
   ]
  },
  {
   "cell_type": "code",
   "execution_count": 6,
   "metadata": {},
   "outputs": [],
   "source": [
    "# def spacy(index, df):\n",
    "#     tokens = nlp_sm(df['reviews'][i])\n",
    "#     for token in tokens:\n",
    "#         type(token)\n",
    "# #         token = str(token)\n",
    "# #         df['token_text'][i] = token.text\n",
    "#         df['token_has_vector'][i] = token.has_vector\n",
    "#         df['token_vector_norm'][i] = token.vector_norm\n",
    "#         df['token_is_oov'][i] = token.is_oov"
   ]
  },
  {
   "cell_type": "code",
   "execution_count": 7,
   "metadata": {},
   "outputs": [],
   "source": [
    "# # need to create the columns I want to add before putting the values in them \n",
    "# # data['token_text'] = 0\n",
    "# data['token_has_vector'] = 0\n",
    "# data['token_vector_norm'] = 0\n",
    "# data['token_is_oov'] = 0"
   ]
  },
  {
   "cell_type": "code",
   "execution_count": 8,
   "metadata": {},
   "outputs": [],
   "source": [
    "# for i in data.index:\n",
    "#     spacy(data.loc[i, 'reviews'], data)\n",
    "# data.head(11)"
   ]
  },
  {
   "cell_type": "code",
   "execution_count": 9,
   "metadata": {},
   "outputs": [],
   "source": [
    "# def spacy_function(review, dataframe):\n",
    "#     tokens = nlp_sm(review)\n",
    "#     tokens_text = []\n",
    "#     tokens_has_vector = []\n",
    "#     tokens_vector_norm = []\n",
    "#     tokens_is_oov = []\n",
    "    \n",
    "#     for token in tokens:\n",
    "#         text = []\n",
    "#         has_vector = []\n",
    "#         vector_norm = []\n",
    "#         is_oov = []\n",
    "        \n",
    "#         text.append(token.text)\n",
    "#         has_vector.append(token.has_vector)\n",
    "#         vector_norms.append(token.vector_norm)\n",
    "#         is_oov.append(token.is_oov)\n",
    "        \n",
    "#         tokens_text.append(text)\n",
    "#         tokens_has_vectors.append(has_vectors)\n",
    "#         tokens_vector_norms.append(vector_norms)\n",
    "#         tokens_is_oov.append(is_oov)"
   ]
  },
  {
   "cell_type": "code",
   "execution_count": 10,
   "metadata": {},
   "outputs": [],
   "source": [
    "# df['reviews'].apply(lambda x: spacy_function(x, df))"
   ]
  },
  {
   "cell_type": "code",
   "execution_count": 12,
   "metadata": {},
   "outputs": [
    {
     "data": {
      "text/html": [
       "<div>\n",
       "<style scoped>\n",
       "    .dataframe tbody tr th:only-of-type {\n",
       "        vertical-align: middle;\n",
       "    }\n",
       "\n",
       "    .dataframe tbody tr th {\n",
       "        vertical-align: top;\n",
       "    }\n",
       "\n",
       "    .dataframe thead th {\n",
       "        text-align: right;\n",
       "    }\n",
       "</style>\n",
       "<table border=\"1\" class=\"dataframe\">\n",
       "  <thead>\n",
       "    <tr style=\"text-align: right;\">\n",
       "      <th></th>\n",
       "      <th>title</th>\n",
       "      <th>price</th>\n",
       "      <th>descriptions</th>\n",
       "      <th>key_benefits</th>\n",
       "      <th>rating</th>\n",
       "      <th>reviews</th>\n",
       "      <th>subcat</th>\n",
       "      <th>cat</th>\n",
       "    </tr>\n",
       "  </thead>\n",
       "  <tbody>\n",
       "    <tr>\n",
       "      <th>0</th>\n",
       "      <td>Nylabone Teething Pacifier Puppy Chew Toy</td>\n",
       "      <td>3.59</td>\n",
       "      <td>'Every puppy needs a pacifier to soothe teethi...</td>\n",
       "      <td>Designed to encourage positive play and teach ...</td>\n",
       "      <td>4.2</td>\n",
       "      <td>I do not know how to rate this. The puppy this...</td>\n",
       "      <td>moderate</td>\n",
       "      <td>chew toys</td>\n",
       "    </tr>\n",
       "    <tr>\n",
       "      <th>1</th>\n",
       "      <td>KONG Puppy Dog Toy, Color Varies</td>\n",
       "      <td>6.99</td>\n",
       "      <td>\"The Puppy KONG dog toy is customized for a gr...</td>\n",
       "      <td>Unpredictable bounce is great for energetic pu...</td>\n",
       "      <td>4.3</td>\n",
       "      <td>I have had dozens of dogs over the years, and ...</td>\n",
       "      <td>moderate</td>\n",
       "      <td>chew toys</td>\n",
       "    </tr>\n",
       "    <tr>\n",
       "      <th>2</th>\n",
       "      <td>Petstages Dogwood Tough Dog Chew Toy</td>\n",
       "      <td>8.83</td>\n",
       "      <td>\"Chewing is a natural behavior in all dogs, as...</td>\n",
       "      <td>Chew toy that combines real wood with syntheti...</td>\n",
       "      <td>4.2</td>\n",
       "      <td>Our 8 month old, shepherd/mastiff has had this...</td>\n",
       "      <td>moderate</td>\n",
       "      <td>chew toys</td>\n",
       "    </tr>\n",
       "    <tr>\n",
       "      <th>3</th>\n",
       "      <td>Nylabone Teething Rings Puppy Chew Toy</td>\n",
       "      <td>6.57</td>\n",
       "      <td>'Great for teething and tugging! The Puppy Tee...</td>\n",
       "      <td>Designed to encourage positive play and teach ...</td>\n",
       "      <td>4.1</td>\n",
       "      <td>I have a small shih tzu who absolutely loves t...</td>\n",
       "      <td>moderate</td>\n",
       "      <td>chew toys</td>\n",
       "    </tr>\n",
       "    <tr>\n",
       "      <th>4</th>\n",
       "      <td>Nylabone Puppy Teething X Bone Beef Flavored P...</td>\n",
       "      <td>6.89</td>\n",
       "      <td>'Curious puppies have met their match with the...</td>\n",
       "      <td>Non-edible dog toy is made for teething puppie...</td>\n",
       "      <td>4.1</td>\n",
       "      <td>This is a great shoe for a tiny puppy in there...</td>\n",
       "      <td>moderate</td>\n",
       "      <td>chew toys</td>\n",
       "    </tr>\n",
       "  </tbody>\n",
       "</table>\n",
       "</div>"
      ],
      "text/plain": [
       "                                               title  price  \\\n",
       "0          Nylabone Teething Pacifier Puppy Chew Toy   3.59   \n",
       "1                   KONG Puppy Dog Toy, Color Varies   6.99   \n",
       "2               Petstages Dogwood Tough Dog Chew Toy   8.83   \n",
       "3             Nylabone Teething Rings Puppy Chew Toy   6.57   \n",
       "4  Nylabone Puppy Teething X Bone Beef Flavored P...   6.89   \n",
       "\n",
       "                                        descriptions  \\\n",
       "0  'Every puppy needs a pacifier to soothe teethi...   \n",
       "1  \"The Puppy KONG dog toy is customized for a gr...   \n",
       "2  \"Chewing is a natural behavior in all dogs, as...   \n",
       "3  'Great for teething and tugging! The Puppy Tee...   \n",
       "4  'Curious puppies have met their match with the...   \n",
       "\n",
       "                                        key_benefits  rating  \\\n",
       "0  Designed to encourage positive play and teach ...     4.2   \n",
       "1  Unpredictable bounce is great for energetic pu...     4.3   \n",
       "2  Chew toy that combines real wood with syntheti...     4.2   \n",
       "3  Designed to encourage positive play and teach ...     4.1   \n",
       "4  Non-edible dog toy is made for teething puppie...     4.1   \n",
       "\n",
       "                                             reviews    subcat        cat  \n",
       "0  I do not know how to rate this. The puppy this...  moderate  chew toys  \n",
       "1  I have had dozens of dogs over the years, and ...  moderate  chew toys  \n",
       "2  Our 8 month old, shepherd/mastiff has had this...  moderate  chew toys  \n",
       "3  I have a small shih tzu who absolutely loves t...  moderate  chew toys  \n",
       "4  This is a great shoe for a tiny puppy in there...  moderate  chew toys  "
      ]
     },
     "execution_count": 12,
     "metadata": {},
     "output_type": "execute_result"
    }
   ],
   "source": [
    "data.head()"
   ]
  },
  {
   "cell_type": "markdown",
   "metadata": {},
   "source": [
    "This next section will be usefull code for the actual recommendation system "
   ]
  },
  {
   "cell_type": "code",
   "execution_count": 17,
   "metadata": {},
   "outputs": [],
   "source": [
    "# https://medium.com/@armandj.olivares/building-nlp-content-based-recommender-systems-b104a709c042\n",
    "\n",
    "list_docs = []\n",
    "for i in range(len(data)):\n",
    "    if data['reviews'][i] != '':\n",
    "        doc = nlp_lg(\"u'\" + str(data['reviews'][i]) + \"'\")\n",
    "        list_docs.append(doc)"
   ]
  },
  {
   "cell_type": "code",
   "execution_count": 28,
   "metadata": {},
   "outputs": [],
   "source": [
    "# https://medium.com/@armandj.olivares/building-nlp-content-based-recommender-systems-b104a709c042\n",
    "# This will take in what the users says and then score it based off that \n",
    "# I have added to this as well\n",
    "def calculate_similarity_with_spacy(nlp, df, user_text, n=6):\n",
    "    # Calculate similarity with Spacy \n",
    "    list_sim = []\n",
    "    toy_score = []\n",
    "    doc1 = nlp('u' + user_text + \"'\")\n",
    "    for i in df.index:\n",
    "        try: \n",
    "            doc2 = list_docs[i]\n",
    "            score = doc1.similarity(doc2)\n",
    "            list_sim.append((doc1, doc2, score))\n",
    "            toy_score.append((score, df['title'][i]))\n",
    "        except:\n",
    "            continue\n",
    "    return toy_score  #list_sim"
   ]
  },
  {
   "cell_type": "code",
   "execution_count": 30,
   "metadata": {},
   "outputs": [],
   "source": [
    "ranking_list = calculate_similarity_with_spacy(nlp_lg, data, 'I want a toy for a dog that is energetic and a chewer.')"
   ]
  },
  {
   "cell_type": "code",
   "execution_count": 35,
   "metadata": {},
   "outputs": [
    {
     "name": "stdout",
     "output_type": "stream",
     "text": [
      "0 0.8802032025720885\n",
      "1 0.884762871109849\n",
      "2 0.8786090723382932\n",
      "3 0.8906501516502305\n",
      "4 0.8937388735600288\n",
      "5 0.8868641654501501\n",
      "6 0.8856358906355211\n",
      "7 0.8783410177545526\n",
      "8 0.8940829394859542\n",
      "9 0.8745336489574868\n"
     ]
    }
   ],
   "source": [
    "ranked_dict = {}\n",
    "for i, score_toy in enumerate(ranking_list[:10]):\n",
    "    print(i, score_toy[0])\n",
    "    ranked_dict[score_toy[0]] = {i : score_toy[1]}"
   ]
  },
  {
   "cell_type": "code",
   "execution_count": 46,
   "metadata": {},
   "outputs": [
    {
     "name": "stdout",
     "output_type": "stream",
     "text": [
      "(0.8940829394859542, {8: 'KONG Puppy Goodie Bone Dog Toy, Color Varies'})\n",
      "(0.8937388735600288, {4: 'Nylabone Puppy Teething X Bone Beef Flavored Puppy Chew Toy, Small'})\n",
      "(0.8906501516502305, {3: 'Nylabone Teething Rings Puppy Chew Toy'})\n",
      "(0.8868641654501501, {5: 'Nylabone Puppy Petite Dental Puppy Chew Toy'})\n",
      "(0.8856358906355211, {6: 'Nylabone Puppy Chicken Flavored Teething Dinosaur Puppy Chew Toy, Petite'})\n",
      "(0.884762871109849, {1: 'KONG Puppy Dog Toy, Color Varies'})\n",
      "(0.8802032025720885, {0: 'Nylabone Teething Pacifier Puppy Chew Toy'})\n",
      "(0.8786090723382932, {2: 'Petstages Dogwood Tough Dog Chew Toy'})\n",
      "(0.8783410177545526, {7: 'Petstages Cool Teething Stick Tough Dog Chew Toy'})\n",
      "(0.8745336489574868, {9: \"Hartz Chew 'n Clean Tuff Bone Tough Dog Chew Toy Toy, Color Varies\"})\n"
     ]
    }
   ],
   "source": [
    "# https://www.geeksforgeeks.org/python-sort-python-dictionaries-by-key-or-value/\n",
    "final_dict = {}\n",
    "for i in sorted(ranked_dict, reverse=True) : \n",
    "    print ((i, ranked_dict[i]), end ='\\n')\n",
    "#     final_dict[i] = ranked_dict[i]\n",
    "# final_dict"
   ]
  },
  {
   "cell_type": "code",
   "execution_count": null,
   "metadata": {},
   "outputs": [],
   "source": []
  }
 ],
 "metadata": {
  "kernelspec": {
   "display_name": "Python 3",
   "language": "python",
   "name": "python3"
  },
  "language_info": {
   "codemirror_mode": {
    "name": "ipython",
    "version": 3
   },
   "file_extension": ".py",
   "mimetype": "text/x-python",
   "name": "python",
   "nbconvert_exporter": "python",
   "pygments_lexer": "ipython3",
   "version": "3.7.7"
  }
 },
 "nbformat": 4,
 "nbformat_minor": 4
}
