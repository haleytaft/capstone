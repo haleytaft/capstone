{
 "cells": [
  {
   "cell_type": "markdown",
   "metadata": {},
   "source": [
    "# Capstone Project: Dog Toy Recommender"
   ]
  },
  {
   "cell_type": "markdown",
   "metadata": {},
   "source": [
    "## Problem Statement:\n",
    "Based off the reviews of dog toys, and a person's description of their dog's general personality, I will create a recommendation system that will suggest what type of toy your dog might like, and potential toys for your dog to try. "
   ]
  },
  {
   "cell_type": "markdown",
   "metadata": {},
   "source": [
    "## My Approach:\n",
    "For this recommendation system I plan to/am taking dog toy reviews from [Chewy.com](https://www.chewy.com/) and potentially other dog toy websites. With this data, I plan to create an item-based recommendation system which will take the types of toys a dog previously has had, and it's characteristics to find toys that are similar or slightly different for a dog to try.  \n"
   ]
  },
  {
   "cell_type": "markdown",
   "metadata": {},
   "source": [
    "## My data\n",
    "\n",
    "As I said above, I will be scraping dog toy reviews from Chewy. To do this, I will use Selenium and I believe XPath in order to navigate Chewy's website and collect data about the different toys as well as the toys' reviews. \n",
    "\n",
    "**Disclaimer:** I know that we are supposed to have our data collected by this point, but I have had some difficulties figuring out the exact path I would like to take with my project and have had to prioritize Project 5 as well. I have started researching Selenium and practicing one simple examples. The links I am looking at are:   \n",
    " - [Web Scraping using Selenium and Python](https://www.scrapingbee.com/blog/selenium-python/)  \n",
    " - [Practical XPath for Web Scraping](https://www.scrapingbee.com/blog/practical-xpath-for-web-scraping/) \n",
    " - [Selenium with Python](https://selenium-python.readthedocs.io/index.html)\n",
    " \n",
    "So far I have been working on using Selenium to navigate through Chewy's website to the different pages of dog doys that I want to scrape. My next step will obviously be to start scraping the different features of the toys and storing them in a dataframe. I am currently working through some issues, where when I run my notebook, it will sometimes navigate through a certain number of pages, but then crash and sometimes work. Not sure if this means I will need to scrape in steps or maybe make sure I am waiting long enough between number of interactions with the site. Either way, I am not quite sure still what is happening so I will have to look into that as well. To conduct my scraping, I am using a jupyter notebook. I have also included the code I have so far below. \n",
    "\n",
    "Any pointers or other useful links are greatly appreciated because I want to make sure that I use all the time I have wisely since I do feel like I am behind. "
   ]
  },
  {
   "cell_type": "code",
   "execution_count": 4,
   "metadata": {},
   "outputs": [],
   "source": [
    "# Code in my selenium_practice.py file so far for scraping data\n",
    "\n",
    "# imports \n",
    "import selenium\n",
    "from selenium import webdriver\n",
    "from selenium.webdriver.chrome.options import Options\n",
    "from selenium.webdriver.common.keys import Keys\n",
    "from selenium.webdriver.common.by import By\n",
    "from selenium.webdriver.support.ui import WebDriverWait\n",
    "from selenium.webdriver.support import expected_conditions as EC\n",
    "import time"
   ]
  },
  {
   "cell_type": "code",
   "execution_count": 5,
   "metadata": {},
   "outputs": [],
   "source": [
    "DRIVER_PATH = '/Users/haleytaft/Downloads/chromedriver'\n",
    "driver = webdriver.Chrome( executable_path=DRIVER_PATH) #options=options,\n",
    "driver.get(\"https://www.chewy.com/b/toys-315\")\n",
    "\n",
    "# To first just look at CHEW TOYS\n",
    "chew_toys_link = driver.find_element_by_link_text('Chew Toys')\n",
    "chew_toys_link.click()\n",
    "\n",
    "try:\n",
    "    # To get to moderate chew toys\n",
    "    element = WebDriverWait(driver, 10).until(\n",
    "        EC.presence_of_element_located((By.LINK_TEXT, \"Moderate\")))\n",
    "    element.click()\n",
    "    # To look at the moderate chew toys -- NEED TO FIGURE OUT HOW TO ACCESS THEM\n",
    "    check = WebDriverWait(driver, 10).until(\n",
    "        EC.presence_of_element_located((By.LINK_TEXT, \"Chew Toys\")))\n",
    "    articles = driver.find_elements_by_class_name('product-holder js-tracked-product cw-card cw-card-hover')\n",
    "    # To get back to Chew Toys\n",
    "    driver.back()\n",
    "\n",
    "    # To get to tough chew toys\n",
    "    element = WebDriverWait(driver, 10).until(\n",
    "        EC.presence_of_element_located((By.LINK_TEXT, \"Tough\")))\n",
    "    element.click()\n",
    "    # To look at the tough chew toys -- NEED TO FIGURE OUT HOW TO ACCESS THEM\n",
    "    check = WebDriverWait(driver, 10).until(\n",
    "        EC.presence_of_element_located((By.LINK_TEXT, \"Chew Toys\")))\n",
    "    # To get back to Chew Toys\n",
    "    driver.back()\n",
    "\n",
    "    # To get to Extreme chew toys\n",
    "    element = WebDriverWait(driver, 10).until(\n",
    "        EC.presence_of_element_located((By.LINK_TEXT, \"Extreme\")))\n",
    "    element.click()\n",
    "    # To look at the extreme chew toys -- NEED TO FIGURE OUT HOW TO ACCESS THEM\n",
    "    check = WebDriverWait(driver, 10).until(\n",
    "        EC.presence_of_element_located((By.LINK_TEXT, \"Chew Toys\")))\n",
    "    driver.back() # back to chew toys\n",
    "    # DONE WITH CHEW TOYS\n",
    "\n",
    "    # back to toys\n",
    "    driver.back()\n",
    "    # driver.back()\n",
    "\n",
    "    # Looking at PLUSH TOYS\n",
    "    element = WebDriverWait(driver, 10).until(\n",
    "        EC.presence_of_element_located((By.LINK_TEXT, \"Plush Toys\")))\n",
    "    element.click()\n",
    "\n",
    "    # Looking a the Stuffed toys\n",
    "    element = WebDriverWait(driver, 10).until(\n",
    "        EC.presence_of_element_located((By.LINK_TEXT, \"Stuffed Toys\")))\n",
    "    element.click()\n",
    "    # To look at the stuffed plush toys -- NEED TO FIGURE OUT HOW TO ACCESS THEM\n",
    "    check = WebDriverWait(driver, 10).until(\n",
    "        EC.presence_of_element_located((By.LINK_TEXT, \"Plush Toys\")))\n",
    "    # To get back to plush toys\n",
    "    driver.back()\n",
    "\n",
    "    # Looking a the Unstuffed toys\n",
    "    element = WebDriverWait(driver, 10).until(\n",
    "        EC.presence_of_element_located((By.LINK_TEXT, \"Unstuffed Toys\")))\n",
    "    element.click()\n",
    "    # To look at the unstuffed plush toys -- NEED TO FIGURE OUT HOW TO ACCESS THEM\n",
    "    check = WebDriverWait(driver, 10).until(\n",
    "        EC.presence_of_element_located((By.LINK_TEXT, \"Plush Toys\")))\n",
    "    # To get back to plush toys\n",
    "    driver.back()\n",
    "    # DONE WITH PLUSH TOYS\n",
    "\n",
    "    # Back to toys\n",
    "    driver.back()\n",
    "\n",
    "    # Now Looking at FETCH TOYS\n",
    "    element = WebDriverWait(driver, 10).until(\n",
    "        EC.presence_of_element_located((By.LINK_TEXT, \"Fetch Toys\")))\n",
    "    element.click()\n",
    "\n",
    "    # Looking a the Balls toys\n",
    "    element = WebDriverWait(driver, 10).until(\n",
    "        EC.presence_of_element_located((By.LINK_TEXT, \"Balls\")))\n",
    "    element.click()\n",
    "    # To look at the ball fetch toys -- NEED TO FIGURE OUT HOW TO ACCESS THEM\n",
    "    check = WebDriverWait(driver, 10).until(\n",
    "        EC.presence_of_element_located((By.LINK_TEXT, \"Fetch Toys\")))\n",
    "    # To get back to fetch toys\n",
    "    driver.back()\n",
    "\n",
    "    # Looking a the Discs toys\n",
    "    element = WebDriverWait(driver, 10).until(\n",
    "        EC.presence_of_element_located((By.LINK_TEXT, \"Discs\")))\n",
    "    element.click()\n",
    "    # To look at the disc fetch toys -- NEED TO FIGURE OUT HOW TO ACCESS THEM\n",
    "    check = WebDriverWait(driver, 10).until(\n",
    "        EC.presence_of_element_located((By.LINK_TEXT, \"Fetch Toys\")))\n",
    "    # To get back to fetch toys\n",
    "    driver.back()\n",
    "\n",
    "    # Looking a the Launcher toys\n",
    "    element = WebDriverWait(driver, 10).until(\n",
    "        EC.presence_of_element_located((By.LINK_TEXT, \"Launchers\")))\n",
    "    element.click()\n",
    "    # To look at the launcher fetch toys -- NEED TO FIGURE OUT HOW TO ACCESS THEM\n",
    "    check = WebDriverWait(driver, 10).until(\n",
    "        EC.presence_of_element_located((By.LINK_TEXT, \"Fetch Toys\")))\n",
    "    # To get back to fetch toys\n",
    "    driver.back()\n",
    "\n",
    "    # Looking a the Stick toys\n",
    "    element = WebDriverWait(driver, 10).until(\n",
    "        EC.presence_of_element_located((By.LINK_TEXT, \"Sticks\")))\n",
    "    element.click()\n",
    "    # To look at the stick fetch toys -- NEED TO FIGURE OUT HOW TO ACCESS THEM\n",
    "    check = WebDriverWait(driver, 10).until(\n",
    "        EC.presence_of_element_located((By.LINK_TEXT, \"Fetch Toys\")))\n",
    "    # To get back to fetch toys\n",
    "    driver.back()\n",
    "    # DONE WITH FETCH TOYS\n",
    "\n",
    "except:\n",
    "    driver.quit()"
   ]
  },
  {
   "cell_type": "markdown",
   "metadata": {},
   "source": [
    "## EDA: \n",
    "Once my data hurtle has passed, I want to see if there are certain categories of toys that have more reviews than others and see which categoies are rated the highest (if any are) and potentially even run some sentiment analysis using Vader on the text provided to see what sort of responses are being left. \n",
    "  \n",
    "It would also be interesting to look into if certain words or phrases are commonly used in reviews and if any might relate to a dogs personality based on the categories. \n",
    "\n",
    "This will most likely be a future step/if I end up having time step, but looking into the Questions & Answers section of each dog toy and see if I could implement that into my model/analysis as well.  "
   ]
  },
  {
   "cell_type": "markdown",
   "metadata": {},
   "source": [
    "## Models \n",
    "As I stated above I plan to use an item-based recommonder to create my recommendation system. I might also use sentiment analysis on some text data. This is not necessarily a model, but I will also look into using Flask to potentially build a platform for someone to use my system. "
   ]
  },
  {
   "cell_type": "markdown",
   "metadata": {},
   "source": [
    "## Some pontential Future Steps in the Project\n",
    "\n",
    "Futher down the road, I need to decide how I want my user to interact with this system. So far I have that they could write a short paragraph describing their dog, its personality and some toys it might already like and then run some sort of natural language processing system on this text. However, a simpler approach could be to have 3-5 questions for the user to answer potentially using a ranking scale that would then be used to determine a toy.  \n",
    "\n",
    "If time permits or as a future steps, I think it would also be interesting to try and create a user-based recommendation system that will use reviews owners have left on other dog toys, and find toys similar to the items that the user rates higher. "
   ]
  },
  {
   "cell_type": "code",
   "execution_count": null,
   "metadata": {},
   "outputs": [],
   "source": []
  }
 ],
 "metadata": {
  "kernelspec": {
   "display_name": "Python 3",
   "language": "python",
   "name": "python3"
  },
  "language_info": {
   "codemirror_mode": {
    "name": "ipython",
    "version": 3
   },
   "file_extension": ".py",
   "mimetype": "text/x-python",
   "name": "python",
   "nbconvert_exporter": "python",
   "pygments_lexer": "ipython3",
   "version": "3.7.7"
  }
 },
 "nbformat": 4,
 "nbformat_minor": 4
}
