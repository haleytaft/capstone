{
 "cells": [
  {
   "cell_type": "markdown",
   "metadata": {},
   "source": [
    "# Capstone Project: \n",
    "## Data Cleaning and EDA"
   ]
  },
  {
   "cell_type": "code",
   "execution_count": 1,
   "metadata": {},
   "outputs": [],
   "source": [
    "# import libaries\n",
    "import pandas as pd\n",
    "import matplotlib.pyplot as plt\n",
    "import numpy as np\n",
    "import seaborn as sns\n",
    "\n",
    "from nltk.tokenize import sent_tokenize, word_tokenize, RegexpTokenizer\n",
    "from nltk.corpus import stopwords \n",
    "from sklearn.feature_extraction.text import CountVectorizer, TfidfVectorizer"
   ]
  },
  {
   "cell_type": "code",
   "execution_count": 2,
   "metadata": {},
   "outputs": [],
   "source": [
    "# reading in datasets\n",
    "chew_df = pd.read_csv('data/chewtoy_df.csv')\n",
    "fetch_df = pd.read_csv('data/fetchtoy_df.csv')\n",
    "interactive_df = pd.read_csv('data/interactivetoy_df.csv')\n",
    "plush_df = pd.read_csv('data/plushtoy_df.csv')\n",
    "ropetug_df = pd.read_csv('data/ropetugtoy_df.csv')"
   ]
  },
  {
   "cell_type": "markdown",
   "metadata": {},
   "source": [
    "Looking at each dataframe first:"
   ]
  },
  {
   "cell_type": "code",
   "execution_count": 3,
   "metadata": {},
   "outputs": [
    {
     "data": {
      "text/html": [
       "<div>\n",
       "<style scoped>\n",
       "    .dataframe tbody tr th:only-of-type {\n",
       "        vertical-align: middle;\n",
       "    }\n",
       "\n",
       "    .dataframe tbody tr th {\n",
       "        vertical-align: top;\n",
       "    }\n",
       "\n",
       "    .dataframe thead th {\n",
       "        text-align: right;\n",
       "    }\n",
       "</style>\n",
       "<table border=\"1\" class=\"dataframe\">\n",
       "  <thead>\n",
       "    <tr style=\"text-align: right;\">\n",
       "      <th></th>\n",
       "      <th>title</th>\n",
       "      <th>price</th>\n",
       "      <th>descriptions</th>\n",
       "      <th>key_benefits</th>\n",
       "      <th>rating</th>\n",
       "      <th>reviews</th>\n",
       "      <th>subcat</th>\n",
       "      <th>cat</th>\n",
       "    </tr>\n",
       "  </thead>\n",
       "  <tbody>\n",
       "    <tr>\n",
       "      <th>0</th>\n",
       "      <td>Nylabone Teething Pacifier Puppy Chew Toy</td>\n",
       "      <td>$3.59</td>\n",
       "      <td>['Every puppy needs a pacifier to soothe teeth...</td>\n",
       "      <td>['Designed to encourage positive play and teac...</td>\n",
       "      <td>4_2</td>\n",
       "      <td>[&lt;span class=\"ugc-list__review__display\"&gt;I do ...</td>\n",
       "      <td>moderate</td>\n",
       "      <td>chew toys</td>\n",
       "    </tr>\n",
       "    <tr>\n",
       "      <th>1</th>\n",
       "      <td>KONG Puppy Dog Toy, Color Varies</td>\n",
       "      <td>$6.99</td>\n",
       "      <td>[\"The Puppy KONG dog toy is customized for a g...</td>\n",
       "      <td>['Unpredictable bounce is great for energetic ...</td>\n",
       "      <td>4_3</td>\n",
       "      <td>[&lt;span class=\"ugc-list__review__display\"&gt;I hav...</td>\n",
       "      <td>moderate</td>\n",
       "      <td>chew toys</td>\n",
       "    </tr>\n",
       "    <tr>\n",
       "      <th>2</th>\n",
       "      <td>Petstages Dogwood Tough Dog Chew Toy</td>\n",
       "      <td>$8.83</td>\n",
       "      <td>[\"Chewing is a natural behavior in all dogs, a...</td>\n",
       "      <td>['Chew toy that combines real wood with synthe...</td>\n",
       "      <td>4_2</td>\n",
       "      <td>[&lt;span class=\"ugc-list__review__display\"&gt;Our 8...</td>\n",
       "      <td>moderate</td>\n",
       "      <td>chew toys</td>\n",
       "    </tr>\n",
       "  </tbody>\n",
       "</table>\n",
       "</div>"
      ],
      "text/plain": [
       "                                       title  price  \\\n",
       "0  Nylabone Teething Pacifier Puppy Chew Toy  $3.59   \n",
       "1           KONG Puppy Dog Toy, Color Varies  $6.99   \n",
       "2       Petstages Dogwood Tough Dog Chew Toy  $8.83   \n",
       "\n",
       "                                        descriptions  \\\n",
       "0  ['Every puppy needs a pacifier to soothe teeth...   \n",
       "1  [\"The Puppy KONG dog toy is customized for a g...   \n",
       "2  [\"Chewing is a natural behavior in all dogs, a...   \n",
       "\n",
       "                                        key_benefits rating  \\\n",
       "0  ['Designed to encourage positive play and teac...    4_2   \n",
       "1  ['Unpredictable bounce is great for energetic ...    4_3   \n",
       "2  ['Chew toy that combines real wood with synthe...    4_2   \n",
       "\n",
       "                                             reviews    subcat        cat  \n",
       "0  [<span class=\"ugc-list__review__display\">I do ...  moderate  chew toys  \n",
       "1  [<span class=\"ugc-list__review__display\">I hav...  moderate  chew toys  \n",
       "2  [<span class=\"ugc-list__review__display\">Our 8...  moderate  chew toys  "
      ]
     },
     "execution_count": 3,
     "metadata": {},
     "output_type": "execute_result"
    }
   ],
   "source": [
    "# Chew Toys\n",
    "chew_df.head(3)"
   ]
  },
  {
   "cell_type": "code",
   "execution_count": 4,
   "metadata": {},
   "outputs": [
    {
     "data": {
      "text/html": [
       "<div>\n",
       "<style scoped>\n",
       "    .dataframe tbody tr th:only-of-type {\n",
       "        vertical-align: middle;\n",
       "    }\n",
       "\n",
       "    .dataframe tbody tr th {\n",
       "        vertical-align: top;\n",
       "    }\n",
       "\n",
       "    .dataframe thead th {\n",
       "        text-align: right;\n",
       "    }\n",
       "</style>\n",
       "<table border=\"1\" class=\"dataframe\">\n",
       "  <thead>\n",
       "    <tr style=\"text-align: right;\">\n",
       "      <th></th>\n",
       "      <th>title</th>\n",
       "      <th>price</th>\n",
       "      <th>descriptions</th>\n",
       "      <th>key_benefits</th>\n",
       "      <th>rating</th>\n",
       "      <th>reviews</th>\n",
       "      <th>subcat</th>\n",
       "      <th>cat</th>\n",
       "    </tr>\n",
       "  </thead>\n",
       "  <tbody>\n",
       "    <tr>\n",
       "      <th>0</th>\n",
       "      <td>Pet Qwerks Puppy Puck Dog Toy</td>\n",
       "      <td>$6.96</td>\n",
       "      <td>['Let the games begin with the Pet Qwerks Pupp...</td>\n",
       "      <td>['Durable dog toy is great for both indoor and...</td>\n",
       "      <td>1_8</td>\n",
       "      <td>[&lt;span class=\"ugc-list__review__display\"&gt;He ab...</td>\n",
       "      <td>balls</td>\n",
       "      <td>fetch toys</td>\n",
       "    </tr>\n",
       "    <tr>\n",
       "      <th>1</th>\n",
       "      <td>KONG Classic Flyer Frisbee Dog Toy</td>\n",
       "      <td>$10.99</td>\n",
       "      <td>['The KONG Flyer is the best soft rubber disc ...</td>\n",
       "      <td>['Made out of KONG Classic durable rubber for ...</td>\n",
       "      <td>4_3</td>\n",
       "      <td>[&lt;span class=\"ugc-list__review__display\"&gt;We've...</td>\n",
       "      <td>discs</td>\n",
       "      <td>fetch toys</td>\n",
       "    </tr>\n",
       "    <tr>\n",
       "      <th>2</th>\n",
       "      <td>Chuckit! Flying Squirrel Dog Toy, Color Varies</td>\n",
       "      <td>$8.69</td>\n",
       "      <td>[\"As if chasing a running squirrel wasn't enou...</td>\n",
       "      <td>['Multilayer construction for added durability...</td>\n",
       "      <td>4_3</td>\n",
       "      <td>[&lt;span class=\"ugc-list__review__display\"&gt;We ha...</td>\n",
       "      <td>discs</td>\n",
       "      <td>fetch toys</td>\n",
       "    </tr>\n",
       "  </tbody>\n",
       "</table>\n",
       "</div>"
      ],
      "text/plain": [
       "                                            title   price  \\\n",
       "0                   Pet Qwerks Puppy Puck Dog Toy   $6.96   \n",
       "1              KONG Classic Flyer Frisbee Dog Toy  $10.99   \n",
       "2  Chuckit! Flying Squirrel Dog Toy, Color Varies   $8.69   \n",
       "\n",
       "                                        descriptions  \\\n",
       "0  ['Let the games begin with the Pet Qwerks Pupp...   \n",
       "1  ['The KONG Flyer is the best soft rubber disc ...   \n",
       "2  [\"As if chasing a running squirrel wasn't enou...   \n",
       "\n",
       "                                        key_benefits rating  \\\n",
       "0  ['Durable dog toy is great for both indoor and...    1_8   \n",
       "1  ['Made out of KONG Classic durable rubber for ...    4_3   \n",
       "2  ['Multilayer construction for added durability...    4_3   \n",
       "\n",
       "                                             reviews subcat         cat  \n",
       "0  [<span class=\"ugc-list__review__display\">He ab...  balls  fetch toys  \n",
       "1  [<span class=\"ugc-list__review__display\">We've...  discs  fetch toys  \n",
       "2  [<span class=\"ugc-list__review__display\">We ha...  discs  fetch toys  "
      ]
     },
     "execution_count": 4,
     "metadata": {},
     "output_type": "execute_result"
    }
   ],
   "source": [
    "# Fetch Toys\n",
    "# need to drop index column -- FIX ONCE YOU FIX THE DATA COLLECTION SIDE \n",
    "fetch_df.drop(columns=['Unnamed: 0'], inplace=True)\n",
    "\n",
    "fetch_df.head(3)"
   ]
  },
  {
   "cell_type": "code",
   "execution_count": 5,
   "metadata": {},
   "outputs": [
    {
     "data": {
      "text/html": [
       "<div>\n",
       "<style scoped>\n",
       "    .dataframe tbody tr th:only-of-type {\n",
       "        vertical-align: middle;\n",
       "    }\n",
       "\n",
       "    .dataframe tbody tr th {\n",
       "        vertical-align: top;\n",
       "    }\n",
       "\n",
       "    .dataframe thead th {\n",
       "        text-align: right;\n",
       "    }\n",
       "</style>\n",
       "<table border=\"1\" class=\"dataframe\">\n",
       "  <thead>\n",
       "    <tr style=\"text-align: right;\">\n",
       "      <th></th>\n",
       "      <th>title</th>\n",
       "      <th>price</th>\n",
       "      <th>descriptions</th>\n",
       "      <th>key_benefits</th>\n",
       "      <th>rating</th>\n",
       "      <th>reviews</th>\n",
       "      <th>subcat</th>\n",
       "      <th>cat</th>\n",
       "    </tr>\n",
       "  </thead>\n",
       "  <tbody>\n",
       "    <tr>\n",
       "      <th>0</th>\n",
       "      <td>KONG Puppy Dog Toy, Color Varies</td>\n",
       "      <td>$6.99</td>\n",
       "      <td>[\"The Puppy KONG dog toy is customized for a g...</td>\n",
       "      <td>['Unpredictable bounce is great for energetic ...</td>\n",
       "      <td>4_3</td>\n",
       "      <td>[&lt;span class=\"ugc-list__review__display\"&gt;I hav...</td>\n",
       "      <td>treat toys &amp; dispensers</td>\n",
       "      <td>interactive toys</td>\n",
       "    </tr>\n",
       "    <tr>\n",
       "      <th>1</th>\n",
       "      <td>Pet Zone IQ Treat Dispenser Ball Dog Toy</td>\n",
       "      <td>$12.45</td>\n",
       "      <td>['Have your pet work for his treats with the P...</td>\n",
       "      <td>['Mentally and physically engages your dog to ...</td>\n",
       "      <td>3_7</td>\n",
       "      <td>[&lt;span class=\"ugc-list__review__display\"&gt;I hav...</td>\n",
       "      <td>treat toys &amp; dispensers</td>\n",
       "      <td>interactive toys</td>\n",
       "    </tr>\n",
       "    <tr>\n",
       "      <th>2</th>\n",
       "      <td>Starmark Everlasting Treat Bento Ball Tough Do...</td>\n",
       "      <td>$12.16</td>\n",
       "      <td>[\"The Everlasting Treat Bento Ball is a fun wa...</td>\n",
       "      <td>['Includes an edible chicken-flavored treat - ...</td>\n",
       "      <td>3_3</td>\n",
       "      <td>[&lt;span class=\"ugc-list__review__display\"&gt;I lik...</td>\n",
       "      <td>treat toys &amp; dispensers</td>\n",
       "      <td>interactive toys</td>\n",
       "    </tr>\n",
       "  </tbody>\n",
       "</table>\n",
       "</div>"
      ],
      "text/plain": [
       "                                               title   price  \\\n",
       "0                   KONG Puppy Dog Toy, Color Varies   $6.99   \n",
       "1           Pet Zone IQ Treat Dispenser Ball Dog Toy  $12.45   \n",
       "2  Starmark Everlasting Treat Bento Ball Tough Do...  $12.16   \n",
       "\n",
       "                                        descriptions  \\\n",
       "0  [\"The Puppy KONG dog toy is customized for a g...   \n",
       "1  ['Have your pet work for his treats with the P...   \n",
       "2  [\"The Everlasting Treat Bento Ball is a fun wa...   \n",
       "\n",
       "                                        key_benefits rating  \\\n",
       "0  ['Unpredictable bounce is great for energetic ...    4_3   \n",
       "1  ['Mentally and physically engages your dog to ...    3_7   \n",
       "2  ['Includes an edible chicken-flavored treat - ...    3_3   \n",
       "\n",
       "                                             reviews                   subcat  \\\n",
       "0  [<span class=\"ugc-list__review__display\">I hav...  treat toys & dispensers   \n",
       "1  [<span class=\"ugc-list__review__display\">I hav...  treat toys & dispensers   \n",
       "2  [<span class=\"ugc-list__review__display\">I lik...  treat toys & dispensers   \n",
       "\n",
       "                cat  \n",
       "0  interactive toys  \n",
       "1  interactive toys  \n",
       "2  interactive toys  "
      ]
     },
     "execution_count": 5,
     "metadata": {},
     "output_type": "execute_result"
    }
   ],
   "source": [
    "# Interactive Toys \n",
    "interactive_df.head(3)"
   ]
  },
  {
   "cell_type": "code",
   "execution_count": 6,
   "metadata": {},
   "outputs": [
    {
     "data": {
      "text/html": [
       "<div>\n",
       "<style scoped>\n",
       "    .dataframe tbody tr th:only-of-type {\n",
       "        vertical-align: middle;\n",
       "    }\n",
       "\n",
       "    .dataframe tbody tr th {\n",
       "        vertical-align: top;\n",
       "    }\n",
       "\n",
       "    .dataframe thead th {\n",
       "        text-align: right;\n",
       "    }\n",
       "</style>\n",
       "<table border=\"1\" class=\"dataframe\">\n",
       "  <thead>\n",
       "    <tr style=\"text-align: right;\">\n",
       "      <th></th>\n",
       "      <th>title</th>\n",
       "      <th>price</th>\n",
       "      <th>descriptions</th>\n",
       "      <th>key_benefits</th>\n",
       "      <th>rating</th>\n",
       "      <th>reviews</th>\n",
       "      <th>subcat</th>\n",
       "      <th>cat</th>\n",
       "    </tr>\n",
       "  </thead>\n",
       "  <tbody>\n",
       "    <tr>\n",
       "      <th>0</th>\n",
       "      <td>KONG Cozie Marvin the Moose Plush Dog Toy</td>\n",
       "      <td>$4.99</td>\n",
       "      <td>['The KONG Cozies are cute, soft and cuddly pl...</td>\n",
       "      <td>['Soft and cuddly plush toys made with an extr...</td>\n",
       "      <td>4_0</td>\n",
       "      <td>[&lt;span class=\"ugc-list__review__display\"&gt;My pi...</td>\n",
       "      <td>stuffed</td>\n",
       "      <td>plush toys</td>\n",
       "    </tr>\n",
       "    <tr>\n",
       "      <th>1</th>\n",
       "      <td>KONG Cozie Baily the Blue Dog Toy</td>\n",
       "      <td>$5.82</td>\n",
       "      <td>['The KONG Cozies are cute, soft and cuddly pl...</td>\n",
       "      <td>['Soft and cuddly plush toys made with an extr...</td>\n",
       "      <td>4_1</td>\n",
       "      <td>[&lt;span class=\"ugc-list__review__display\"&gt;My 20...</td>\n",
       "      <td>stuffed</td>\n",
       "      <td>plush toys</td>\n",
       "    </tr>\n",
       "    <tr>\n",
       "      <th>2</th>\n",
       "      <td>Frisco Plush with Rope Squeaking Monkey Dog Toy</td>\n",
       "      <td>$5.98</td>\n",
       "      <td>['Toss, squeak, repeat—bring on every game wit...</td>\n",
       "      <td>['Plush monkey dog toy features a built-in squ...</td>\n",
       "      <td>4_4</td>\n",
       "      <td>[&lt;span class=\"ugc-list__review__display\"&gt;We go...</td>\n",
       "      <td>stuffed</td>\n",
       "      <td>plush toys</td>\n",
       "    </tr>\n",
       "  </tbody>\n",
       "</table>\n",
       "</div>"
      ],
      "text/plain": [
       "                                             title  price  \\\n",
       "0        KONG Cozie Marvin the Moose Plush Dog Toy  $4.99   \n",
       "1                KONG Cozie Baily the Blue Dog Toy  $5.82   \n",
       "2  Frisco Plush with Rope Squeaking Monkey Dog Toy  $5.98   \n",
       "\n",
       "                                        descriptions  \\\n",
       "0  ['The KONG Cozies are cute, soft and cuddly pl...   \n",
       "1  ['The KONG Cozies are cute, soft and cuddly pl...   \n",
       "2  ['Toss, squeak, repeat—bring on every game wit...   \n",
       "\n",
       "                                        key_benefits rating  \\\n",
       "0  ['Soft and cuddly plush toys made with an extr...    4_0   \n",
       "1  ['Soft and cuddly plush toys made with an extr...    4_1   \n",
       "2  ['Plush monkey dog toy features a built-in squ...    4_4   \n",
       "\n",
       "                                             reviews   subcat         cat  \n",
       "0  [<span class=\"ugc-list__review__display\">My pi...  stuffed  plush toys  \n",
       "1  [<span class=\"ugc-list__review__display\">My 20...  stuffed  plush toys  \n",
       "2  [<span class=\"ugc-list__review__display\">We go...  stuffed  plush toys  "
      ]
     },
     "execution_count": 6,
     "metadata": {},
     "output_type": "execute_result"
    }
   ],
   "source": [
    "plush_df.head(3)"
   ]
  },
  {
   "cell_type": "code",
   "execution_count": 7,
   "metadata": {},
   "outputs": [
    {
     "data": {
      "text/html": [
       "<div>\n",
       "<style scoped>\n",
       "    .dataframe tbody tr th:only-of-type {\n",
       "        vertical-align: middle;\n",
       "    }\n",
       "\n",
       "    .dataframe tbody tr th {\n",
       "        vertical-align: top;\n",
       "    }\n",
       "\n",
       "    .dataframe thead th {\n",
       "        text-align: right;\n",
       "    }\n",
       "</style>\n",
       "<table border=\"1\" class=\"dataframe\">\n",
       "  <thead>\n",
       "    <tr style=\"text-align: right;\">\n",
       "      <th></th>\n",
       "      <th>title</th>\n",
       "      <th>price</th>\n",
       "      <th>descriptions</th>\n",
       "      <th>key_benefits</th>\n",
       "      <th>rating</th>\n",
       "      <th>reviews</th>\n",
       "      <th>subcat</th>\n",
       "      <th>cat</th>\n",
       "    </tr>\n",
       "  </thead>\n",
       "  <tbody>\n",
       "    <tr>\n",
       "      <th>0</th>\n",
       "      <td>Mammoth Cloth Rope Tug for Dogs, Color Varies</td>\n",
       "      <td>$6.18</td>\n",
       "      <td>[\"Toss, tug, and floss! Mammoth cloth rope toy...</td>\n",
       "      <td>['Made from 100% natural cotton', \"Rope fibers...</td>\n",
       "      <td>3_6</td>\n",
       "      <td>[&lt;span class=\"ugc-list__review__display\"&gt;Bough...</td>\n",
       "      <td>rope_tug_toys</td>\n",
       "      <td>rope &amp; tug toys</td>\n",
       "    </tr>\n",
       "    <tr>\n",
       "      <th>1</th>\n",
       "      <td>Chuckit! Fetch Wheel Dog Toy</td>\n",
       "      <td>$11.91</td>\n",
       "      <td>['Fling it, roll it, play tug-of-war!  Chuckit...</td>\n",
       "      <td>['Bright color gives increased visibility and ...</td>\n",
       "      <td>4_3</td>\n",
       "      <td>[&lt;span class=\"ugc-list__review__display\"&gt;Hi I ...</td>\n",
       "      <td>rope_tug_toys</td>\n",
       "      <td>rope &amp; tug toys</td>\n",
       "    </tr>\n",
       "    <tr>\n",
       "      <th>2</th>\n",
       "      <td>KONG Tuggerknots Frog Dog Toy, Small/Medium</td>\n",
       "      <td>$11.99</td>\n",
       "      <td>['The KONG TuggerKnots are tough, interactive ...</td>\n",
       "      <td>['Perfect for interactive games of tug', 'Mini...</td>\n",
       "      <td>3_6</td>\n",
       "      <td>[&lt;span class=\"ugc-list__review__display\"&gt;Did n...</td>\n",
       "      <td>rope_tug_toys</td>\n",
       "      <td>rope &amp; tug toys</td>\n",
       "    </tr>\n",
       "  </tbody>\n",
       "</table>\n",
       "</div>"
      ],
      "text/plain": [
       "                                           title   price  \\\n",
       "0  Mammoth Cloth Rope Tug for Dogs, Color Varies   $6.18   \n",
       "1                   Chuckit! Fetch Wheel Dog Toy  $11.91   \n",
       "2    KONG Tuggerknots Frog Dog Toy, Small/Medium  $11.99   \n",
       "\n",
       "                                        descriptions  \\\n",
       "0  [\"Toss, tug, and floss! Mammoth cloth rope toy...   \n",
       "1  ['Fling it, roll it, play tug-of-war!  Chuckit...   \n",
       "2  ['The KONG TuggerKnots are tough, interactive ...   \n",
       "\n",
       "                                        key_benefits rating  \\\n",
       "0  ['Made from 100% natural cotton', \"Rope fibers...    3_6   \n",
       "1  ['Bright color gives increased visibility and ...    4_3   \n",
       "2  ['Perfect for interactive games of tug', 'Mini...    3_6   \n",
       "\n",
       "                                             reviews         subcat  \\\n",
       "0  [<span class=\"ugc-list__review__display\">Bough...  rope_tug_toys   \n",
       "1  [<span class=\"ugc-list__review__display\">Hi I ...  rope_tug_toys   \n",
       "2  [<span class=\"ugc-list__review__display\">Did n...  rope_tug_toys   \n",
       "\n",
       "               cat  \n",
       "0  rope & tug toys  \n",
       "1  rope & tug toys  \n",
       "2  rope & tug toys  "
      ]
     },
     "execution_count": 7,
     "metadata": {},
     "output_type": "execute_result"
    }
   ],
   "source": [
    "ropetug_df.head(3)"
   ]
  },
  {
   "cell_type": "markdown",
   "metadata": {},
   "source": [
    "### Merge dataframes into one large dataframe"
   ]
  },
  {
   "cell_type": "code",
   "execution_count": 8,
   "metadata": {},
   "outputs": [
    {
     "data": {
      "text/plain": [
       "2399"
      ]
     },
     "execution_count": 8,
     "metadata": {},
     "output_type": "execute_result"
    }
   ],
   "source": [
    "# How many rows should be in the combined dataframe\n",
    "chew_df.shape[0] + fetch_df.shape[0] + interactive_df.shape[0] + plush_df.shape[0] + ropetug_df.shape[0]"
   ]
  },
  {
   "cell_type": "code",
   "execution_count": 9,
   "metadata": {},
   "outputs": [],
   "source": [
    "# merging the dataframes together into one large one, df\n",
    "df = pd.merge(left=chew_df, right=fetch_df, how='outer')\n",
    "df = pd.merge(left=df, right=interactive_df, how='outer')\n",
    "df = pd.merge(left=df, right=plush_df, how='outer')\n",
    "df = pd.merge(left=df, right=ropetug_df, how='outer')"
   ]
  },
  {
   "cell_type": "code",
   "execution_count": 10,
   "metadata": {},
   "outputs": [
    {
     "name": "stdout",
     "output_type": "stream",
     "text": [
      "<class 'pandas.core.frame.DataFrame'>\n",
      "Int64Index: 2399 entries, 0 to 2398\n",
      "Data columns (total 8 columns):\n",
      " #   Column        Non-Null Count  Dtype \n",
      "---  ------        --------------  ----- \n",
      " 0   title         2399 non-null   object\n",
      " 1   price         2399 non-null   object\n",
      " 2   descriptions  2399 non-null   object\n",
      " 3   key_benefits  2389 non-null   object\n",
      " 4   rating        2399 non-null   object\n",
      " 5   reviews       2399 non-null   object\n",
      " 6   subcat        2399 non-null   object\n",
      " 7   cat           2399 non-null   object\n",
      "dtypes: object(8)\n",
      "memory usage: 168.7+ KB\n"
     ]
    }
   ],
   "source": [
    "df.info()"
   ]
  },
  {
   "cell_type": "markdown",
   "metadata": {},
   "source": [
    "Looking at the different datatypes, I note that I will have to change both price and ratings to floats. "
   ]
  },
  {
   "cell_type": "markdown",
   "metadata": {},
   "source": [
    "First to look at Price column."
   ]
  },
  {
   "cell_type": "code",
   "execution_count": 11,
   "metadata": {},
   "outputs": [],
   "source": [
    "# To first get rid of the '$' in the price column \n",
    "df['price'] = df['price'].map(lambda x: x[1:])"
   ]
  },
  {
   "cell_type": "code",
   "execution_count": 12,
   "metadata": {},
   "outputs": [],
   "source": [
    "# To change the type to float\n",
    "df['price'] = df['price'].astype(float)"
   ]
  },
  {
   "cell_type": "code",
   "execution_count": 13,
   "metadata": {},
   "outputs": [
    {
     "data": {
      "text/plain": [
       "0        3.59\n",
       "1        6.99\n",
       "2        8.83\n",
       "3        6.57\n",
       "4        6.89\n",
       "        ...  \n",
       "2394    12.38\n",
       "2395    14.99\n",
       "2396    14.99\n",
       "2397     8.91\n",
       "2398    13.98\n",
       "Name: price, Length: 2399, dtype: float64"
      ]
     },
     "execution_count": 13,
     "metadata": {},
     "output_type": "execute_result"
    }
   ],
   "source": [
    "# Checking to make sure changes held\n",
    "df['price']"
   ]
  },
  {
   "cell_type": "markdown",
   "metadata": {},
   "source": [
    "Now to look at ratings."
   ]
  },
  {
   "cell_type": "code",
   "execution_count": 14,
   "metadata": {},
   "outputs": [],
   "source": [
    "# Need to replace the '_' with \".\"\n",
    "df['rating'] = df['rating'].map(lambda x: f'{x[0]}.{x[2]}')"
   ]
  },
  {
   "cell_type": "code",
   "execution_count": 15,
   "metadata": {},
   "outputs": [],
   "source": [
    "# Now convertin the rating to float\n",
    "df['rating'] = df['rating'].astype(float)"
   ]
  },
  {
   "cell_type": "code",
   "execution_count": 16,
   "metadata": {},
   "outputs": [
    {
     "data": {
      "text/plain": [
       "0       4.2\n",
       "1       4.3\n",
       "2       4.2\n",
       "3       4.1\n",
       "4       4.1\n",
       "       ... \n",
       "2394    0.0\n",
       "2395    0.0\n",
       "2396    0.0\n",
       "2397    3.9\n",
       "2398    4.8\n",
       "Name: rating, Length: 2399, dtype: float64"
      ]
     },
     "execution_count": 16,
     "metadata": {},
     "output_type": "execute_result"
    }
   ],
   "source": [
    "# Checking the rating column\n",
    "df['rating']"
   ]
  },
  {
   "cell_type": "markdown",
   "metadata": {},
   "source": [
    "Now to look at the descriptions and key_benefits columns"
   ]
  },
  {
   "cell_type": "code",
   "execution_count": 17,
   "metadata": {},
   "outputs": [
    {
     "data": {
      "text/html": [
       "<div>\n",
       "<style scoped>\n",
       "    .dataframe tbody tr th:only-of-type {\n",
       "        vertical-align: middle;\n",
       "    }\n",
       "\n",
       "    .dataframe tbody tr th {\n",
       "        vertical-align: top;\n",
       "    }\n",
       "\n",
       "    .dataframe thead th {\n",
       "        text-align: right;\n",
       "    }\n",
       "</style>\n",
       "<table border=\"1\" class=\"dataframe\">\n",
       "  <thead>\n",
       "    <tr style=\"text-align: right;\">\n",
       "      <th></th>\n",
       "      <th>descriptions</th>\n",
       "      <th>key_benefits</th>\n",
       "    </tr>\n",
       "  </thead>\n",
       "  <tbody>\n",
       "    <tr>\n",
       "      <th>0</th>\n",
       "      <td>['Every puppy needs a pacifier to soothe teeth...</td>\n",
       "      <td>['Designed to encourage positive play and teac...</td>\n",
       "    </tr>\n",
       "    <tr>\n",
       "      <th>1</th>\n",
       "      <td>[\"The Puppy KONG dog toy is customized for a g...</td>\n",
       "      <td>['Unpredictable bounce is great for energetic ...</td>\n",
       "    </tr>\n",
       "    <tr>\n",
       "      <th>2</th>\n",
       "      <td>[\"Chewing is a natural behavior in all dogs, a...</td>\n",
       "      <td>['Chew toy that combines real wood with synthe...</td>\n",
       "    </tr>\n",
       "    <tr>\n",
       "      <th>3</th>\n",
       "      <td>['Great for teething and tugging! The Puppy Te...</td>\n",
       "      <td>['Designed to encourage positive play and teac...</td>\n",
       "    </tr>\n",
       "    <tr>\n",
       "      <th>4</th>\n",
       "      <td>['Curious puppies have met their match with th...</td>\n",
       "      <td>['Non-edible dog toy is made for teething pupp...</td>\n",
       "    </tr>\n",
       "    <tr>\n",
       "      <th>...</th>\n",
       "      <td>...</td>\n",
       "      <td>...</td>\n",
       "    </tr>\n",
       "    <tr>\n",
       "      <th>2394</th>\n",
       "      <td>['Your furry friend will be ready to fight cri...</td>\n",
       "      <td>['Tug toy featuring Spider-Man on both sides.'...</td>\n",
       "    </tr>\n",
       "    <tr>\n",
       "      <th>2395</th>\n",
       "      <td>['Your furry friend will be ready to fight cri...</td>\n",
       "      <td>['Tug toy featuring The Metropolis Marvel.', '...</td>\n",
       "    </tr>\n",
       "    <tr>\n",
       "      <th>2396</th>\n",
       "      <td>['Your furry friend will be ready to fight cri...</td>\n",
       "      <td>['Tug toy featuring Barry Allen’s alter ego on...</td>\n",
       "    </tr>\n",
       "    <tr>\n",
       "      <th>2397</th>\n",
       "      <td>['There’s more than one way to have fun with t...</td>\n",
       "      <td>['Treat-dispensing design holds treats on eith...</td>\n",
       "    </tr>\n",
       "    <tr>\n",
       "      <th>2398</th>\n",
       "      <td>['Pups everywhere go wild for playtime, so let...</td>\n",
       "      <td>['A bundle of 6 toys specially selected for sm...</td>\n",
       "    </tr>\n",
       "  </tbody>\n",
       "</table>\n",
       "<p>2399 rows × 2 columns</p>\n",
       "</div>"
      ],
      "text/plain": [
       "                                           descriptions  \\\n",
       "0     ['Every puppy needs a pacifier to soothe teeth...   \n",
       "1     [\"The Puppy KONG dog toy is customized for a g...   \n",
       "2     [\"Chewing is a natural behavior in all dogs, a...   \n",
       "3     ['Great for teething and tugging! The Puppy Te...   \n",
       "4     ['Curious puppies have met their match with th...   \n",
       "...                                                 ...   \n",
       "2394  ['Your furry friend will be ready to fight cri...   \n",
       "2395  ['Your furry friend will be ready to fight cri...   \n",
       "2396  ['Your furry friend will be ready to fight cri...   \n",
       "2397  ['There’s more than one way to have fun with t...   \n",
       "2398  ['Pups everywhere go wild for playtime, so let...   \n",
       "\n",
       "                                           key_benefits  \n",
       "0     ['Designed to encourage positive play and teac...  \n",
       "1     ['Unpredictable bounce is great for energetic ...  \n",
       "2     ['Chew toy that combines real wood with synthe...  \n",
       "3     ['Designed to encourage positive play and teac...  \n",
       "4     ['Non-edible dog toy is made for teething pupp...  \n",
       "...                                                 ...  \n",
       "2394  ['Tug toy featuring Spider-Man on both sides.'...  \n",
       "2395  ['Tug toy featuring The Metropolis Marvel.', '...  \n",
       "2396  ['Tug toy featuring Barry Allen’s alter ego on...  \n",
       "2397  ['Treat-dispensing design holds treats on eith...  \n",
       "2398  ['A bundle of 6 toys specially selected for sm...  \n",
       "\n",
       "[2399 rows x 2 columns]"
      ]
     },
     "execution_count": 17,
     "metadata": {},
     "output_type": "execute_result"
    }
   ],
   "source": [
    "df[['descriptions', 'key_benefits']]"
   ]
  },
  {
   "cell_type": "code",
   "execution_count": 18,
   "metadata": {},
   "outputs": [
    {
     "data": {
      "text/plain": [
       "\"['Every puppy needs a pacifier to soothe teething pain, look cute, and exercise his chompers for a life filled with treats! The Nylabone Puppy Teething Pacifier Dog Chew Toy gives your brand-new pup two chews to choose from. Both have raised nubs that stimulate gums and teeth, and both cost less than replacing a chewed up pair of shoes.\\\\xa0Designed for teething puppies up to 25 pounds - Not recommended for adult dogs or puppies with any permanent teeth.\\\\xa0', 'Recommended for puppies up to 25 pounds only. Every dog plays differently and, since not all toys are created equal, it’s always best to keep a close watch on your pup in case things get ruff. Supervised play will help toys last longer and most importantly keep your pal safe. No dog toy is truly indestructible, so always remove the toy from playtime if pieces begin to break off.', '\\\\n\\\\n                        See all items by Nylabone\\\\n']\""
      ]
     },
     "execution_count": 18,
     "metadata": {},
     "output_type": "execute_result"
    }
   ],
   "source": [
    "df['descriptions'][0]"
   ]
  },
  {
   "cell_type": "code",
   "execution_count": 19,
   "metadata": {},
   "outputs": [],
   "source": [
    "# To get rid of some characters from scraping the data that I don't want in the text \n",
    "df['descriptions'] = df['descriptions'].map(lambda x: x.replace('[', ''))\n",
    "df['descriptions'] = df['descriptions'].map(lambda x: x.replace('\\\\n', ''))"
   ]
  },
  {
   "cell_type": "code",
   "execution_count": 20,
   "metadata": {},
   "outputs": [
    {
     "data": {
      "text/plain": [
       "0       ['Designed to encourage positive play and teac...\n",
       "1       ['Unpredictable bounce is great for energetic ...\n",
       "2       ['Chew toy that combines real wood with synthe...\n",
       "3       ['Designed to encourage positive play and teac...\n",
       "4       ['Non-edible dog toy is made for teething pupp...\n",
       "                              ...                        \n",
       "2394    ['Tug toy featuring Spider-Man on both sides.'...\n",
       "2395    ['Tug toy featuring The Metropolis Marvel.', '...\n",
       "2396    ['Tug toy featuring Barry Allen’s alter ego on...\n",
       "2397    ['Treat-dispensing design holds treats on eith...\n",
       "2398    ['A bundle of 6 toys specially selected for sm...\n",
       "Name: key_benefits, Length: 2399, dtype: object"
      ]
     },
     "execution_count": 20,
     "metadata": {},
     "output_type": "execute_result"
    }
   ],
   "source": [
    "df['key_benefits']"
   ]
  },
  {
   "cell_type": "code",
   "execution_count": 21,
   "metadata": {},
   "outputs": [],
   "source": [
    "# Doing the same things to key_benefits\n",
    "df['key_benefits'] = df['key_benefits'].apply(lambda x: str(x).replace('[', ''))\n",
    "df['key_benefits'] = df['key_benefits'].apply(lambda x: str(x).replace(']', ''))\n",
    "df['key_benefits'] = df['key_benefits'].apply(lambda x: str(x).replace(\"\\'\", ''))"
   ]
  },
  {
   "cell_type": "code",
   "execution_count": 22,
   "metadata": {},
   "outputs": [
    {
     "data": {
      "text/plain": [
       "'Designed to encourage positive play and teach your puppy healthy chewing habits from an early age., Keep them happy, busy and entertained while nubs help to clean teeth, reduce plaque and tartar, and promote proper oral hygiene., \"Satisfies the needs of your teething puppy with a toy thats safe and designed for pets that dont have permanent teeth.\", Vet-recommended teething toy for puppies so you can feel confident about giving this to your pet., Bright colors help keep your pet entertained and engaged.'"
      ]
     },
     "execution_count": 22,
     "metadata": {},
     "output_type": "execute_result"
    }
   ],
   "source": [
    "df['key_benefits'][0]"
   ]
  },
  {
   "cell_type": "markdown",
   "metadata": {},
   "source": [
    "Now to look at reviews--pretty sure they were not scraped properly "
   ]
  },
  {
   "cell_type": "markdown",
   "metadata": {},
   "source": [
    "### Now going to look at reviews\n",
    "For some reason when I scraped the review, there was a bit of extra parts that were included from Beautiful Soup. However, this is an easy fix because they are all the same thing I believe, so I should just be able to remove them all easily. "
   ]
  },
  {
   "cell_type": "code",
   "execution_count": 23,
   "metadata": {},
   "outputs": [],
   "source": [
    "from bs4 import BeautifulSoup  "
   ]
  },
  {
   "cell_type": "code",
   "execution_count": 24,
   "metadata": {},
   "outputs": [
    {
     "data": {
      "text/plain": [
       "'[<span class=\"ugc-list__review__display\">I do not know how to rate this. The puppy this was purchased for is a 10 wk. old Irish Wolfhound.\\nShe carries this toy around quite a bit; however, she does not chew on it.  I do not know if it is the texture or the hardness of it.  She chews her other toys that are smoother and less hard.  I believe that it is this puppy’s preference and nothing to do with the toy itself. That is why I gave it a three; I have no clue as to how it will hold up if she does ever actually chew it.</span>, <span class=\"ugc-list__review__display\">this is the winner of our chewy haul. ordered a variety of chew toys to try out for our new puppy and so far this is her favorite. she\\'s only 9 weeks old, and like chewing on our fingers (ouch!) this toy is just slightly softer than a normal chew toy and she loves it. having a couple toys and ring seems to entertain her more than a typical bone. will it last forever? probably not. but nice to not have puppy shark teeth attacking my fingers.</span>, <span class=\"ugc-list__review__display\">I read the reviews and thought we\\'d be safe. We have a 3 month border collie mix puppy, and most of the reviews that this didn\\'t work for have dogs that were bigger or better chewers, so I thought. I didn\\'t think she would get through it as fast as she did. The pink one was chewed up in less than an hour. She really loved it, but we can\\'t safely let her keep chomping it.</span>, <span class=\"ugc-list__review__display\">I have a 3 month old GoldenDoodle he loved this in the first few days I gave it to him and the other weeks had past and he still plays with it and it’s definitely in his top 5 he plays with most but when I was washing his toys for its weekly wash I have been noticing teeth marks on the ring and some on the toys but I didn’t think much about since there was nothing that bad on it that would choke or do something bad to him. but right now he is playing with it and it’s in pretty good shape just hopefully nothing bad happens!</span>, <span class=\"ugc-list__review__display\">This is well made, but our puppy is totally disinterested in it.  I thought it would be a great chewy toy, but even when I give it to him and try to pull and entice him to play with it, he doesn\\'t care.  He goes off to find something else.  This could just be my dog, I have no idea how other pups would react.</span>, <span class=\"ugc-list__review__display\">Good quality.  Bought this for the pup as she is starting to teeth.  The toy is a little bigger than I expected but that is ok.  I appreciate that there is two chewys on the ring.  I put them in the freezer for awhile and then give them to the pooch.  The bumpies on the chewys in addition to the cold from the freezer helps keep her interested.</span>, <span class=\"ugc-list__review__display\">This is a great chew toy for our puppies! We had gone to purchase puppy chew toys at stores because we needed something right away, and the stores only had plushies and kongs! We don\\'t use plushies because the puppies chew them and eat the bits, and the kongs were just too big. These are perfect for our 8 week old puppies to teath on and they love them!</span>, <span class=\"ugc-list__review__display\">This is one of the first chew toys I bought my pup when we got him. I thought it was cute. He loved it. So did my older pups. (the other two are 5). It\\'s been chewed until it\\'s just nubs and a ring. So I buy another.  I\\'m not sure how many I\\'ve purchased but I keep buying them when they start to break because my pup (who is now a 14 month old 50 lb chinese shar pei) loves this and who am I to say no? so, yes, I know it\\'s for teethers, but my lil\\' guy said he\\'s still teething and to give him his binky back.</span>, <span class=\"ugc-list__review__display\">These keys are just right for puppies with biting/teething issues. The keys give them something to help wean the teething process in an hopefully save your skin from bleeding as much from Sharp puppy teeth. In the end these keys are Awesome toy for your fur baby</span>, <span class=\"ugc-list__review__display\">Our puppy is a biting maniac right now. She basically just runs around with her mouth open and whatever she runs into she bites. This includes calves, shirts, shoes, couches, even iron coffee tables. This toy has helped us so much! We just stick it in her mouth while trying to ‘exchange’ our flesh for a toy and she loves it.</span>]'"
      ]
     },
     "execution_count": 24,
     "metadata": {},
     "output_type": "execute_result"
    }
   ],
   "source": [
    "df['reviews'][0]"
   ]
  },
  {
   "cell_type": "markdown",
   "metadata": {},
   "source": [
    "The html object, '\\<span class=\"ugc-list__review__display\">' needed to be removed along with '\\</span>' and other characters that will be unneccessary. "
   ]
  },
  {
   "cell_type": "code",
   "execution_count": 25,
   "metadata": {},
   "outputs": [],
   "source": [
    "# df['reviews'] = df['reviews'].apply(lambda x: str(x).replace('<span class=\"ugc-list__review__display\">', ''))\n",
    "# df['reviews'] = df['reviews'].apply(lambda x: str(x).replace('</span>', ''))\n",
    "df['reviews'] = df['reviews'].apply(lambda x: BeautifulSoup(x).get_text())\n",
    "df['reviews'] = df['reviews'].apply(lambda x: str(x).replace('[', ''))\n",
    "df['reviews'] = df['reviews'].apply(lambda x: str(x).replace(']', ''))"
   ]
  },
  {
   "cell_type": "code",
   "execution_count": 26,
   "metadata": {},
   "outputs": [
    {
     "data": {
      "text/plain": [
       "0       I do not know how to rate this. The puppy this...\n",
       "1       I have had dozens of dogs over the years, and ...\n",
       "2       Our 8 month old, shepherd/mastiff has had this...\n",
       "3       I have a small shih tzu who absolutely loves t...\n",
       "4       This is a great shoe for a tiny puppy in there...\n",
       "                              ...                        \n",
       "2394                                                     \n",
       "2395                                                     \n",
       "2396                                                     \n",
       "2397    We have a 1 year old St. Bernard puppy and he ...\n",
       "2398    I recently got a mini labradoodle and all of t...\n",
       "Name: reviews, Length: 2399, dtype: object"
      ]
     },
     "execution_count": 26,
     "metadata": {},
     "output_type": "execute_result"
    }
   ],
   "source": [
    "df['reviews']"
   ]
  },
  {
   "cell_type": "markdown",
   "metadata": {},
   "source": [
    "### Exporting combined dataframe "
   ]
  },
  {
   "cell_type": "code",
   "execution_count": 27,
   "metadata": {},
   "outputs": [],
   "source": [
    "# df.to_csv('data/chewy.csv')"
   ]
  },
  {
   "cell_type": "markdown",
   "metadata": {},
   "source": [
    "## EDA"
   ]
  },
  {
   "cell_type": "markdown",
   "metadata": {},
   "source": [
    "But first I will look at the variables, I do have. "
   ]
  },
  {
   "cell_type": "markdown",
   "metadata": {},
   "source": [
    "Links used to help format these graphs   \n",
    "https://www.drawingfromdata.com/how-to-rotate-axis-labels-in-seaborn-and-matplotlib    \n",
    "https://matplotlib.org/3.1.1/gallery/ticks_and_spines/ticklabels_rotation.html   "
   ]
  },
  {
   "cell_type": "markdown",
   "metadata": {},
   "source": [
    "Created two smaller dataframes for plotting purposes. "
   ]
  },
  {
   "cell_type": "code",
   "execution_count": 28,
   "metadata": {},
   "outputs": [
    {
     "data": {
      "text/html": [
       "<div>\n",
       "<style scoped>\n",
       "    .dataframe tbody tr th:only-of-type {\n",
       "        vertical-align: middle;\n",
       "    }\n",
       "\n",
       "    .dataframe tbody tr th {\n",
       "        vertical-align: top;\n",
       "    }\n",
       "\n",
       "    .dataframe thead th {\n",
       "        text-align: right;\n",
       "    }\n",
       "</style>\n",
       "<table border=\"1\" class=\"dataframe\">\n",
       "  <thead>\n",
       "    <tr style=\"text-align: right;\">\n",
       "      <th></th>\n",
       "      <th>cat</th>\n",
       "    </tr>\n",
       "  </thead>\n",
       "  <tbody>\n",
       "    <tr>\n",
       "      <th>plush toys</th>\n",
       "      <td>1291</td>\n",
       "    </tr>\n",
       "    <tr>\n",
       "      <th>chew toys</th>\n",
       "      <td>297</td>\n",
       "    </tr>\n",
       "    <tr>\n",
       "      <th>interactive toys</th>\n",
       "      <td>285</td>\n",
       "    </tr>\n",
       "    <tr>\n",
       "      <th>rope &amp; tug toys</th>\n",
       "      <td>273</td>\n",
       "    </tr>\n",
       "    <tr>\n",
       "      <th>fetch toys</th>\n",
       "      <td>253</td>\n",
       "    </tr>\n",
       "  </tbody>\n",
       "</table>\n",
       "</div>"
      ],
      "text/plain": [
       "                   cat\n",
       "plush toys        1291\n",
       "chew toys          297\n",
       "interactive toys   285\n",
       "rope & tug toys    273\n",
       "fetch toys         253"
      ]
     },
     "execution_count": 28,
     "metadata": {},
     "output_type": "execute_result"
    }
   ],
   "source": [
    "cat_counts_df = pd.DataFrame(df['cat'].value_counts())\n",
    "cat_counts_df"
   ]
  },
  {
   "cell_type": "code",
   "execution_count": 29,
   "metadata": {},
   "outputs": [
    {
     "data": {
      "text/html": [
       "<div>\n",
       "<style scoped>\n",
       "    .dataframe tbody tr th:only-of-type {\n",
       "        vertical-align: middle;\n",
       "    }\n",
       "\n",
       "    .dataframe tbody tr th {\n",
       "        vertical-align: top;\n",
       "    }\n",
       "\n",
       "    .dataframe thead th {\n",
       "        text-align: right;\n",
       "    }\n",
       "</style>\n",
       "<table border=\"1\" class=\"dataframe\">\n",
       "  <thead>\n",
       "    <tr style=\"text-align: right;\">\n",
       "      <th></th>\n",
       "      <th>subcat</th>\n",
       "    </tr>\n",
       "  </thead>\n",
       "  <tbody>\n",
       "    <tr>\n",
       "      <th>stuffed</th>\n",
       "      <td>1174</td>\n",
       "    </tr>\n",
       "    <tr>\n",
       "      <th>rope_tug_toys</th>\n",
       "      <td>273</td>\n",
       "    </tr>\n",
       "    <tr>\n",
       "      <th>treat toys &amp; dispensers</th>\n",
       "      <td>180</td>\n",
       "    </tr>\n",
       "    <tr>\n",
       "      <th>moderate</th>\n",
       "      <td>175</td>\n",
       "    </tr>\n",
       "    <tr>\n",
       "      <th>sticks</th>\n",
       "      <td>144</td>\n",
       "    </tr>\n",
       "    <tr>\n",
       "      <th>unstuffed</th>\n",
       "      <td>117</td>\n",
       "    </tr>\n",
       "    <tr>\n",
       "      <th>discs</th>\n",
       "      <td>108</td>\n",
       "    </tr>\n",
       "    <tr>\n",
       "      <th>tough</th>\n",
       "      <td>72</td>\n",
       "    </tr>\n",
       "    <tr>\n",
       "      <th>puzzle toys &amp; games</th>\n",
       "      <td>72</td>\n",
       "    </tr>\n",
       "    <tr>\n",
       "      <th>extreme</th>\n",
       "      <td>50</td>\n",
       "    </tr>\n",
       "    <tr>\n",
       "      <th>treat dispenser refills</th>\n",
       "      <td>33</td>\n",
       "    </tr>\n",
       "    <tr>\n",
       "      <th>balls</th>\n",
       "      <td>1</td>\n",
       "    </tr>\n",
       "  </tbody>\n",
       "</table>\n",
       "</div>"
      ],
      "text/plain": [
       "                         subcat\n",
       "stuffed                    1174\n",
       "rope_tug_toys               273\n",
       "treat toys & dispensers     180\n",
       "moderate                    175\n",
       "sticks                      144\n",
       "unstuffed                   117\n",
       "discs                       108\n",
       "tough                        72\n",
       "puzzle toys & games          72\n",
       "extreme                      50\n",
       "treat dispenser refills      33\n",
       "balls                         1"
      ]
     },
     "execution_count": 29,
     "metadata": {},
     "output_type": "execute_result"
    }
   ],
   "source": [
    "subcat_counts_df = pd.DataFrame(df['subcat'].value_counts())\n",
    "subcat_counts_df"
   ]
  },
  {
   "cell_type": "code",
   "execution_count": 30,
   "metadata": {},
   "outputs": [],
   "source": [
    "# plt.plot(cat_counts_df.index, cat_counts_df['cat'])"
   ]
  },
  {
   "cell_type": "code",
   "execution_count": 31,
   "metadata": {},
   "outputs": [
    {
     "data": {
      "image/png": "[encoded data removed]",
      "text/plain": [
       "<Figure size 432x288 with 1 Axes>"
      ]
     },
     "metadata": {
      "needs_background": "light"
     },
     "output_type": "display_data"
    }
   ],
   "source": [
    "# Going to plot categories and subcategories \n",
    "\n",
    "plt.hist(df['cat'])\n",
    "plt.xlabel('Dog Toy Categories')\n",
    "plt.ylabel('Count')\n",
    "plt.title(\"Count of Number of Toys in Each Category\");"
   ]
  },
  {
   "cell_type": "code",
   "execution_count": 32,
   "metadata": {},
   "outputs": [
    {
     "data": {
      "image/png": "[encoded data removed]",
      "text/plain": [
       "<Figure size 432x288 with 1 Axes>"
      ]
     },
     "metadata": {
      "needs_background": "light"
     },
     "output_type": "display_data"
    }
   ],
   "source": [
    "plt.hist(df['subcat'])\n",
    "plt.xlabel('Dog Toy Sub-Categories')\n",
    "plt.ylabel('Count')\n",
    "plt.title(\"Count of Number of Toys in Each Sub-Category\")\n",
    "plt.xticks(rotation=90);"
   ]
  },
  {
   "cell_type": "code",
   "execution_count": 33,
   "metadata": {},
   "outputs": [],
   "source": [
    "# plt.figure(figsize=(15, 6))\n",
    "# plt.hist(df['subcat'], rwidth=)\n",
    "\n",
    "# plt.xlabel('Dog Toy Sub-Categories')\n",
    "# plt.ylabel('Count')\n",
    "# plt.title('Count of Number of Toys in Each Sub-Category');"
   ]
  },
  {
   "cell_type": "markdown",
   "metadata": {},
   "source": [
    "### Looking at the distribution of Ratings in Categories and Subcategories "
   ]
  },
  {
   "cell_type": "code",
   "execution_count": 34,
   "metadata": {},
   "outputs": [
    {
     "data": {
      "image/png": "[encoded data removed]",
      "text/plain": [
       "<Figure size 720x432 with 1 Axes>"
      ]
     },
     "metadata": {
      "needs_background": "light"
     },
     "output_type": "display_data"
    }
   ],
   "source": [
    "plt.figure(figsize=(10, 6))\n",
    "cat = sns.boxplot(x='cat', y='rating', data=df)\n",
    "cat.set_xticklabels(cat.get_xticklabels(), rotation=45)\n",
    "cat.set_title('Ratings vs Categories', size=25) # What value of rating is this?\n",
    "cat.set_xlabel('Categories', size=15)\n",
    "cat.set_ylabel('Ratings', size=15);"
   ]
  },
  {
   "cell_type": "code",
   "execution_count": 35,
   "metadata": {},
   "outputs": [
    {
     "data": {
      "image/png": "[encoded data removed]",
      "text/plain": [
       "<Figure size 720x432 with 1 Axes>"
      ]
     },
     "metadata": {
      "needs_background": "light"
     },
     "output_type": "display_data"
    }
   ],
   "source": [
    "plt.figure(figsize=(10, 6))\n",
    "subcat = sns.boxplot(x='subcat', y='rating', data=df)\n",
    "subcat.set_xticklabels(subcat.get_xticklabels(), rotation=90)\n",
    "subcat.set_title('Ratings vs Sub-Categories', size=25) # What value of rating is this?\n",
    "subcat.set_xlabel('Sub-Categories', size=15)\n",
    "subcat.set_ylabel('Ratings', size=15);"
   ]
  },
  {
   "cell_type": "markdown",
   "metadata": {},
   "source": [
    "### Looking at Reviews\n",
    "Going to try tokenizing and then removing stop words"
   ]
  },
  {
   "cell_type": "code",
   "execution_count": 36,
   "metadata": {
    "collapsed": true,
    "jupyter": {
     "outputs_hidden": true
    }
   },
   "outputs": [
    {
     "data": {
      "text/plain": [
       "\"I do not know how to rate this. The puppy this was purchased for is a 10 wk. old Irish Wolfhound.\\nShe carries this toy around quite a bit; however, she does not chew on it.  I do not know if it is the texture or the hardness of it.  She chews her other toys that are smoother and less hard.  I believe that it is this puppy’s preference and nothing to do with the toy itself. That is why I gave it a three; I have no clue as to how it will hold up if she does ever actually chew it., this is the winner of our chewy haul. ordered a variety of chew toys to try out for our new puppy and so far this is her favorite. she's only 9 weeks old, and like chewing on our fingers (ouch!) this toy is just slightly softer than a normal chew toy and she loves it. having a couple toys and ring seems to entertain her more than a typical bone. will it last forever? probably not. but nice to not have puppy shark teeth attacking my fingers., I read the reviews and thought we'd be safe. We have a 3 month border collie mix puppy, and most of the reviews that this didn't work for have dogs that were bigger or better chewers, so I thought. I didn't think she would get through it as fast as she did. The pink one was chewed up in less than an hour. She really loved it, but we can't safely let her keep chomping it., I have a 3 month old GoldenDoodle he loved this in the first few days I gave it to him and the other weeks had past and he still plays with it and it’s definitely in his top 5 he plays with most but when I was washing his toys for its weekly wash I have been noticing teeth marks on the ring and some on the toys but I didn’t think much about since there was nothing that bad on it that would choke or do something bad to him. but right now he is playing with it and it’s in pretty good shape just hopefully nothing bad happens!, This is well made, but our puppy is totally disinterested in it.  I thought it would be a great chewy toy, but even when I give it to him and try to pull and entice him to play with it, he doesn't care.  He goes off to find something else.  This could just be my dog, I have no idea how other pups would react., Good quality.  Bought this for the pup as she is starting to teeth.  The toy is a little bigger than I expected but that is ok.  I appreciate that there is two chewys on the ring.  I put them in the freezer for awhile and then give them to the pooch.  The bumpies on the chewys in addition to the cold from the freezer helps keep her interested., This is a great chew toy for our puppies! We had gone to purchase puppy chew toys at stores because we needed something right away, and the stores only had plushies and kongs! We don't use plushies because the puppies chew them and eat the bits, and the kongs were just too big. These are perfect for our 8 week old puppies to teath on and they love them!, This is one of the first chew toys I bought my pup when we got him. I thought it was cute. He loved it. So did my older pups. (the other two are 5). It's been chewed until it's just nubs and a ring. So I buy another.  I'm not sure how many I've purchased but I keep buying them when they start to break because my pup (who is now a 14 month old 50 lb chinese shar pei) loves this and who am I to say no? so, yes, I know it's for teethers, but my lil' guy said he's still teething and to give him his binky back., These keys are just right for puppies with biting/teething issues. The keys give them something to help wean the teething process in an hopefully save your skin from bleeding as much from Sharp puppy teeth. In the end these keys are Awesome toy for your fur baby, Our puppy is a biting maniac right now. She basically just runs around with her mouth open and whatever she runs into she bites. This includes calves, shirts, shoes, couches, even iron coffee tables. This toy has helped us so much! We just stick it in her mouth while trying to ‘exchange’ our flesh for a toy and she loves it.\""
      ]
     },
     "execution_count": 36,
     "metadata": {},
     "output_type": "execute_result"
    }
   ],
   "source": [
    "df['reviews'][0]"
   ]
  },
  {
   "cell_type": "code",
   "execution_count": 37,
   "metadata": {},
   "outputs": [
    {
     "name": "stdout",
     "output_type": "stream",
     "text": [
      "44\n",
      "34\n",
      "41\n"
     ]
    }
   ],
   "source": [
    "# sentence tokenizer\n",
    "print(len(sent_tokenize(df['reviews'][0].lower())))\n",
    "print(len(sent_tokenize(df['reviews'][1].lower())))\n",
    "print(len(sent_tokenize(df['reviews'][2].lower())))"
   ]
  },
  {
   "cell_type": "code",
   "execution_count": 38,
   "metadata": {},
   "outputs": [
    {
     "name": "stderr",
     "output_type": "stream",
     "text": [
      "/Users/haleytaft/opt/anaconda3/envs/dsi/lib/python3.7/site-packages/ipykernel_launcher.py:3: SettingWithCopyWarning: \n",
      "A value is trying to be set on a copy of a slice from a DataFrame\n",
      "\n",
      "See the caveats in the documentation: https://pandas.pydata.org/pandas-docs/stable/user_guide/indexing.html#returning-a-view-versus-a-copy\n",
      "  This is separate from the ipykernel package so we can avoid doing imports until\n"
     ]
    }
   ],
   "source": [
    "df['review_sent_len'] = 0\n",
    "for i in range(len(df.index)):\n",
    "    df['review_sent_len'][i] = len(sent_tokenize(df['reviews'][i].lower()))"
   ]
  },
  {
   "cell_type": "code",
   "execution_count": 39,
   "metadata": {},
   "outputs": [
    {
     "data": {
      "text/html": [
       "<div>\n",
       "<style scoped>\n",
       "    .dataframe tbody tr th:only-of-type {\n",
       "        vertical-align: middle;\n",
       "    }\n",
       "\n",
       "    .dataframe tbody tr th {\n",
       "        vertical-align: top;\n",
       "    }\n",
       "\n",
       "    .dataframe thead th {\n",
       "        text-align: right;\n",
       "    }\n",
       "</style>\n",
       "<table border=\"1\" class=\"dataframe\">\n",
       "  <thead>\n",
       "    <tr style=\"text-align: right;\">\n",
       "      <th></th>\n",
       "      <th>title</th>\n",
       "      <th>price</th>\n",
       "      <th>descriptions</th>\n",
       "      <th>key_benefits</th>\n",
       "      <th>rating</th>\n",
       "      <th>reviews</th>\n",
       "      <th>subcat</th>\n",
       "      <th>cat</th>\n",
       "      <th>review_sent_len</th>\n",
       "    </tr>\n",
       "  </thead>\n",
       "  <tbody>\n",
       "    <tr>\n",
       "      <th>0</th>\n",
       "      <td>Nylabone Teething Pacifier Puppy Chew Toy</td>\n",
       "      <td>3.59</td>\n",
       "      <td>'Every puppy needs a pacifier to soothe teethi...</td>\n",
       "      <td>Designed to encourage positive play and teach ...</td>\n",
       "      <td>4.2</td>\n",
       "      <td>I do not know how to rate this. The puppy this...</td>\n",
       "      <td>moderate</td>\n",
       "      <td>chew toys</td>\n",
       "      <td>44</td>\n",
       "    </tr>\n",
       "    <tr>\n",
       "      <th>1</th>\n",
       "      <td>KONG Puppy Dog Toy, Color Varies</td>\n",
       "      <td>6.99</td>\n",
       "      <td>\"The Puppy KONG dog toy is customized for a gr...</td>\n",
       "      <td>Unpredictable bounce is great for energetic pu...</td>\n",
       "      <td>4.3</td>\n",
       "      <td>I have had dozens of dogs over the years, and ...</td>\n",
       "      <td>moderate</td>\n",
       "      <td>chew toys</td>\n",
       "      <td>34</td>\n",
       "    </tr>\n",
       "    <tr>\n",
       "      <th>2</th>\n",
       "      <td>Petstages Dogwood Tough Dog Chew Toy</td>\n",
       "      <td>8.83</td>\n",
       "      <td>\"Chewing is a natural behavior in all dogs, as...</td>\n",
       "      <td>Chew toy that combines real wood with syntheti...</td>\n",
       "      <td>4.2</td>\n",
       "      <td>Our 8 month old, shepherd/mastiff has had this...</td>\n",
       "      <td>moderate</td>\n",
       "      <td>chew toys</td>\n",
       "      <td>41</td>\n",
       "    </tr>\n",
       "    <tr>\n",
       "      <th>3</th>\n",
       "      <td>Nylabone Teething Rings Puppy Chew Toy</td>\n",
       "      <td>6.57</td>\n",
       "      <td>'Great for teething and tugging! The Puppy Tee...</td>\n",
       "      <td>Designed to encourage positive play and teach ...</td>\n",
       "      <td>4.1</td>\n",
       "      <td>I have a small shih tzu who absolutely loves t...</td>\n",
       "      <td>moderate</td>\n",
       "      <td>chew toys</td>\n",
       "      <td>24</td>\n",
       "    </tr>\n",
       "    <tr>\n",
       "      <th>4</th>\n",
       "      <td>Nylabone Puppy Teething X Bone Beef Flavored P...</td>\n",
       "      <td>6.89</td>\n",
       "      <td>'Curious puppies have met their match with the...</td>\n",
       "      <td>Non-edible dog toy is made for teething puppie...</td>\n",
       "      <td>4.1</td>\n",
       "      <td>This is a great shoe for a tiny puppy in there...</td>\n",
       "      <td>moderate</td>\n",
       "      <td>chew toys</td>\n",
       "      <td>21</td>\n",
       "    </tr>\n",
       "  </tbody>\n",
       "</table>\n",
       "</div>"
      ],
      "text/plain": [
       "                                               title  price  \\\n",
       "0          Nylabone Teething Pacifier Puppy Chew Toy   3.59   \n",
       "1                   KONG Puppy Dog Toy, Color Varies   6.99   \n",
       "2               Petstages Dogwood Tough Dog Chew Toy   8.83   \n",
       "3             Nylabone Teething Rings Puppy Chew Toy   6.57   \n",
       "4  Nylabone Puppy Teething X Bone Beef Flavored P...   6.89   \n",
       "\n",
       "                                        descriptions  \\\n",
       "0  'Every puppy needs a pacifier to soothe teethi...   \n",
       "1  \"The Puppy KONG dog toy is customized for a gr...   \n",
       "2  \"Chewing is a natural behavior in all dogs, as...   \n",
       "3  'Great for teething and tugging! The Puppy Tee...   \n",
       "4  'Curious puppies have met their match with the...   \n",
       "\n",
       "                                        key_benefits  rating  \\\n",
       "0  Designed to encourage positive play and teach ...     4.2   \n",
       "1  Unpredictable bounce is great for energetic pu...     4.3   \n",
       "2  Chew toy that combines real wood with syntheti...     4.2   \n",
       "3  Designed to encourage positive play and teach ...     4.1   \n",
       "4  Non-edible dog toy is made for teething puppie...     4.1   \n",
       "\n",
       "                                             reviews    subcat        cat  \\\n",
       "0  I do not know how to rate this. The puppy this...  moderate  chew toys   \n",
       "1  I have had dozens of dogs over the years, and ...  moderate  chew toys   \n",
       "2  Our 8 month old, shepherd/mastiff has had this...  moderate  chew toys   \n",
       "3  I have a small shih tzu who absolutely loves t...  moderate  chew toys   \n",
       "4  This is a great shoe for a tiny puppy in there...  moderate  chew toys   \n",
       "\n",
       "   review_sent_len  \n",
       "0               44  \n",
       "1               34  \n",
       "2               41  \n",
       "3               24  \n",
       "4               21  "
      ]
     },
     "execution_count": 39,
     "metadata": {},
     "output_type": "execute_result"
    }
   ],
   "source": [
    "df.head()"
   ]
  },
  {
   "cell_type": "code",
   "execution_count": 40,
   "metadata": {},
   "outputs": [
    {
     "name": "stderr",
     "output_type": "stream",
     "text": [
      "/Users/haleytaft/opt/anaconda3/envs/dsi/lib/python3.7/site-packages/ipykernel_launcher.py:3: SettingWithCopyWarning: \n",
      "A value is trying to be set on a copy of a slice from a DataFrame\n",
      "\n",
      "See the caveats in the documentation: https://pandas.pydata.org/pandas-docs/stable/user_guide/indexing.html#returning-a-view-versus-a-copy\n",
      "  This is separate from the ipykernel package so we can avoid doing imports until\n"
     ]
    }
   ],
   "source": [
    "df['review_word_leng'] = 0\n",
    "for i in range(len(df.index)):\n",
    "    df['review_word_leng'][i] = len(word_tokenize(df['reviews'][i].lower()))"
   ]
  },
  {
   "cell_type": "code",
   "execution_count": 41,
   "metadata": {},
   "outputs": [
    {
     "data": {
      "text/html": [
       "<div>\n",
       "<style scoped>\n",
       "    .dataframe tbody tr th:only-of-type {\n",
       "        vertical-align: middle;\n",
       "    }\n",
       "\n",
       "    .dataframe tbody tr th {\n",
       "        vertical-align: top;\n",
       "    }\n",
       "\n",
       "    .dataframe thead th {\n",
       "        text-align: right;\n",
       "    }\n",
       "</style>\n",
       "<table border=\"1\" class=\"dataframe\">\n",
       "  <thead>\n",
       "    <tr style=\"text-align: right;\">\n",
       "      <th></th>\n",
       "      <th>title</th>\n",
       "      <th>price</th>\n",
       "      <th>descriptions</th>\n",
       "      <th>key_benefits</th>\n",
       "      <th>rating</th>\n",
       "      <th>reviews</th>\n",
       "      <th>subcat</th>\n",
       "      <th>cat</th>\n",
       "      <th>review_sent_len</th>\n",
       "      <th>review_word_leng</th>\n",
       "    </tr>\n",
       "  </thead>\n",
       "  <tbody>\n",
       "    <tr>\n",
       "      <th>0</th>\n",
       "      <td>Nylabone Teething Pacifier Puppy Chew Toy</td>\n",
       "      <td>3.59</td>\n",
       "      <td>'Every puppy needs a pacifier to soothe teethi...</td>\n",
       "      <td>Designed to encourage positive play and teach ...</td>\n",
       "      <td>4.2</td>\n",
       "      <td>I do not know how to rate this. The puppy this...</td>\n",
       "      <td>moderate</td>\n",
       "      <td>chew toys</td>\n",
       "      <td>44</td>\n",
       "      <td>902</td>\n",
       "    </tr>\n",
       "    <tr>\n",
       "      <th>1</th>\n",
       "      <td>KONG Puppy Dog Toy, Color Varies</td>\n",
       "      <td>6.99</td>\n",
       "      <td>\"The Puppy KONG dog toy is customized for a gr...</td>\n",
       "      <td>Unpredictable bounce is great for energetic pu...</td>\n",
       "      <td>4.3</td>\n",
       "      <td>I have had dozens of dogs over the years, and ...</td>\n",
       "      <td>moderate</td>\n",
       "      <td>chew toys</td>\n",
       "      <td>34</td>\n",
       "      <td>732</td>\n",
       "    </tr>\n",
       "    <tr>\n",
       "      <th>2</th>\n",
       "      <td>Petstages Dogwood Tough Dog Chew Toy</td>\n",
       "      <td>8.83</td>\n",
       "      <td>\"Chewing is a natural behavior in all dogs, as...</td>\n",
       "      <td>Chew toy that combines real wood with syntheti...</td>\n",
       "      <td>4.2</td>\n",
       "      <td>Our 8 month old, shepherd/mastiff has had this...</td>\n",
       "      <td>moderate</td>\n",
       "      <td>chew toys</td>\n",
       "      <td>41</td>\n",
       "      <td>894</td>\n",
       "    </tr>\n",
       "    <tr>\n",
       "      <th>3</th>\n",
       "      <td>Nylabone Teething Rings Puppy Chew Toy</td>\n",
       "      <td>6.57</td>\n",
       "      <td>'Great for teething and tugging! The Puppy Tee...</td>\n",
       "      <td>Designed to encourage positive play and teach ...</td>\n",
       "      <td>4.1</td>\n",
       "      <td>I have a small shih tzu who absolutely loves t...</td>\n",
       "      <td>moderate</td>\n",
       "      <td>chew toys</td>\n",
       "      <td>24</td>\n",
       "      <td>514</td>\n",
       "    </tr>\n",
       "    <tr>\n",
       "      <th>4</th>\n",
       "      <td>Nylabone Puppy Teething X Bone Beef Flavored P...</td>\n",
       "      <td>6.89</td>\n",
       "      <td>'Curious puppies have met their match with the...</td>\n",
       "      <td>Non-edible dog toy is made for teething puppie...</td>\n",
       "      <td>4.1</td>\n",
       "      <td>This is a great shoe for a tiny puppy in there...</td>\n",
       "      <td>moderate</td>\n",
       "      <td>chew toys</td>\n",
       "      <td>21</td>\n",
       "      <td>570</td>\n",
       "    </tr>\n",
       "  </tbody>\n",
       "</table>\n",
       "</div>"
      ],
      "text/plain": [
       "                                               title  price  \\\n",
       "0          Nylabone Teething Pacifier Puppy Chew Toy   3.59   \n",
       "1                   KONG Puppy Dog Toy, Color Varies   6.99   \n",
       "2               Petstages Dogwood Tough Dog Chew Toy   8.83   \n",
       "3             Nylabone Teething Rings Puppy Chew Toy   6.57   \n",
       "4  Nylabone Puppy Teething X Bone Beef Flavored P...   6.89   \n",
       "\n",
       "                                        descriptions  \\\n",
       "0  'Every puppy needs a pacifier to soothe teethi...   \n",
       "1  \"The Puppy KONG dog toy is customized for a gr...   \n",
       "2  \"Chewing is a natural behavior in all dogs, as...   \n",
       "3  'Great for teething and tugging! The Puppy Tee...   \n",
       "4  'Curious puppies have met their match with the...   \n",
       "\n",
       "                                        key_benefits  rating  \\\n",
       "0  Designed to encourage positive play and teach ...     4.2   \n",
       "1  Unpredictable bounce is great for energetic pu...     4.3   \n",
       "2  Chew toy that combines real wood with syntheti...     4.2   \n",
       "3  Designed to encourage positive play and teach ...     4.1   \n",
       "4  Non-edible dog toy is made for teething puppie...     4.1   \n",
       "\n",
       "                                             reviews    subcat        cat  \\\n",
       "0  I do not know how to rate this. The puppy this...  moderate  chew toys   \n",
       "1  I have had dozens of dogs over the years, and ...  moderate  chew toys   \n",
       "2  Our 8 month old, shepherd/mastiff has had this...  moderate  chew toys   \n",
       "3  I have a small shih tzu who absolutely loves t...  moderate  chew toys   \n",
       "4  This is a great shoe for a tiny puppy in there...  moderate  chew toys   \n",
       "\n",
       "   review_sent_len  review_word_leng  \n",
       "0               44               902  \n",
       "1               34               732  \n",
       "2               41               894  \n",
       "3               24               514  \n",
       "4               21               570  "
      ]
     },
     "execution_count": 41,
     "metadata": {},
     "output_type": "execute_result"
    }
   ],
   "source": [
    "df.head()"
   ]
  },
  {
   "cell_type": "markdown",
   "metadata": {},
   "source": [
    "Going to look at removing stop words and observing length of reviews.  \n",
    "*Used lessons 5.03 and 5.04 on NLP and Sentiment Analysis for this part*"
   ]
  },
  {
   "cell_type": "code",
   "execution_count": 42,
   "metadata": {},
   "outputs": [
    {
     "name": "stdout",
     "output_type": "stream",
     "text": [
      "['i', 'me', 'my', 'myself', 'we', 'our', 'ours', 'ourselves', 'you', \"you're\", \"you've\", \"you'll\", \"you'd\", 'your', 'yours', 'yourself', 'yourselves', 'he', 'him', 'his', 'himself', 'she', \"she's\", 'her', 'hers', 'herself', 'it', \"it's\", 'its', 'itself', 'they', 'them', 'their', 'theirs', 'themselves', 'what', 'which', 'who', 'whom', 'this', 'that', \"that'll\", 'these', 'those', 'am', 'is', 'are', 'was', 'were', 'be', 'been', 'being', 'have', 'has', 'had', 'having', 'do', 'does', 'did', 'doing', 'a', 'an', 'the', 'and', 'but', 'if', 'or', 'because', 'as', 'until', 'while', 'of', 'at', 'by', 'for', 'with', 'about', 'against', 'between', 'into', 'through', 'during', 'before', 'after', 'above', 'below', 'to', 'from', 'up', 'down', 'in', 'out', 'on', 'off', 'over', 'under', 'again', 'further', 'then', 'once', 'here', 'there', 'when', 'where', 'why', 'how', 'all', 'any', 'both', 'each', 'few', 'more', 'most', 'other', 'some', 'such', 'no', 'nor', 'not', 'only', 'own', 'same', 'so', 'than', 'too', 'very', 's', 't', 'can', 'will', 'just', 'don', \"don't\", 'should', \"should've\", 'now', 'd', 'll', 'm', 'o', 're', 've', 'y', 'ain', 'aren', \"aren't\", 'couldn', \"couldn't\", 'didn', \"didn't\", 'doesn', \"doesn't\", 'hadn', \"hadn't\", 'hasn', \"hasn't\", 'haven', \"haven't\", 'isn', \"isn't\", 'ma', 'mightn', \"mightn't\", 'mustn', \"mustn't\", 'needn', \"needn't\", 'shan', \"shan't\", 'shouldn', \"shouldn't\", 'wasn', \"wasn't\", 'weren', \"weren't\", 'won', \"won't\", 'wouldn', \"wouldn't\"]\n"
     ]
    }
   ],
   "source": [
    "# To first just look at the stop words\n",
    "print(stopwords.words('english'))"
   ]
  },
  {
   "cell_type": "code",
   "execution_count": 43,
   "metadata": {},
   "outputs": [],
   "source": [
    "tokenizer = RegexpTokenizer(r'\\w+')"
   ]
  },
  {
   "cell_type": "code",
   "execution_count": 44,
   "metadata": {
    "collapsed": true,
    "jupyter": {
     "outputs_hidden": true
    }
   },
   "outputs": [
    {
     "data": {
      "text/plain": [
       "\"I do not know how to rate this. The puppy this was purchased for is a 10 wk. old Irish Wolfhound.\\nShe carries this toy around quite a bit; however, she does not chew on it.  I do not know if it is the texture or the hardness of it.  She chews her other toys that are smoother and less hard.  I believe that it is this puppy’s preference and nothing to do with the toy itself. That is why I gave it a three; I have no clue as to how it will hold up if she does ever actually chew it., this is the winner of our chewy haul. ordered a variety of chew toys to try out for our new puppy and so far this is her favorite. she's only 9 weeks old, and like chewing on our fingers (ouch!) this toy is just slightly softer than a normal chew toy and she loves it. having a couple toys and ring seems to entertain her more than a typical bone. will it last forever? probably not. but nice to not have puppy shark teeth attacking my fingers., I read the reviews and thought we'd be safe. We have a 3 month border collie mix puppy, and most of the reviews that this didn't work for have dogs that were bigger or better chewers, so I thought. I didn't think she would get through it as fast as she did. The pink one was chewed up in less than an hour. She really loved it, but we can't safely let her keep chomping it., I have a 3 month old GoldenDoodle he loved this in the first few days I gave it to him and the other weeks had past and he still plays with it and it’s definitely in his top 5 he plays with most but when I was washing his toys for its weekly wash I have been noticing teeth marks on the ring and some on the toys but I didn’t think much about since there was nothing that bad on it that would choke or do something bad to him. but right now he is playing with it and it’s in pretty good shape just hopefully nothing bad happens!, This is well made, but our puppy is totally disinterested in it.  I thought it would be a great chewy toy, but even when I give it to him and try to pull and entice him to play with it, he doesn't care.  He goes off to find something else.  This could just be my dog, I have no idea how other pups would react., Good quality.  Bought this for the pup as she is starting to teeth.  The toy is a little bigger than I expected but that is ok.  I appreciate that there is two chewys on the ring.  I put them in the freezer for awhile and then give them to the pooch.  The bumpies on the chewys in addition to the cold from the freezer helps keep her interested., This is a great chew toy for our puppies! We had gone to purchase puppy chew toys at stores because we needed something right away, and the stores only had plushies and kongs! We don't use plushies because the puppies chew them and eat the bits, and the kongs were just too big. These are perfect for our 8 week old puppies to teath on and they love them!, This is one of the first chew toys I bought my pup when we got him. I thought it was cute. He loved it. So did my older pups. (the other two are 5). It's been chewed until it's just nubs and a ring. So I buy another.  I'm not sure how many I've purchased but I keep buying them when they start to break because my pup (who is now a 14 month old 50 lb chinese shar pei) loves this and who am I to say no? so, yes, I know it's for teethers, but my lil' guy said he's still teething and to give him his binky back., These keys are just right for puppies with biting/teething issues. The keys give them something to help wean the teething process in an hopefully save your skin from bleeding as much from Sharp puppy teeth. In the end these keys are Awesome toy for your fur baby, Our puppy is a biting maniac right now. She basically just runs around with her mouth open and whatever she runs into she bites. This includes calves, shirts, shoes, couches, even iron coffee tables. This toy has helped us so much! We just stick it in her mouth while trying to ‘exchange’ our flesh for a toy and she loves it.\""
      ]
     },
     "execution_count": 44,
     "metadata": {},
     "output_type": "execute_result"
    }
   ],
   "source": [
    "df['reviews'][0]"
   ]
  },
  {
   "cell_type": "code",
   "execution_count": 45,
   "metadata": {},
   "outputs": [
    {
     "name": "stderr",
     "output_type": "stream",
     "text": [
      "/Users/haleytaft/opt/anaconda3/envs/dsi/lib/python3.7/site-packages/ipykernel_launcher.py:6: SettingWithCopyWarning: \n",
      "A value is trying to be set on a copy of a slice from a DataFrame\n",
      "\n",
      "See the caveats in the documentation: https://pandas.pydata.org/pandas-docs/stable/user_guide/indexing.html#returning-a-view-versus-a-copy\n",
      "  \n",
      "/Users/haleytaft/opt/anaconda3/envs/dsi/lib/python3.7/site-packages/pandas/core/indexing.py:670: SettingWithCopyWarning: \n",
      "A value is trying to be set on a copy of a slice from a DataFrame\n",
      "\n",
      "See the caveats in the documentation: https://pandas.pydata.org/pandas-docs/stable/user_guide/indexing.html#returning-a-view-versus-a-copy\n",
      "  iloc._setitem_with_indexer(indexer, value)\n"
     ]
    }
   ],
   "source": [
    "df['tokenized_reviews'] = 0\n",
    "for i in range(len(df.index)):\n",
    "#     df['review_sent_leng'][i] = len(sent_tokenize(df['reviews'][i].lower()))\n",
    "    review_tokens = tokenizer.tokenize(df['reviews'][i].lower())\n",
    "    no_stop_words = [token for token in review_tokens if token not in stopwords.words('english')]\n",
    "    df['tokenized_reviews'][i] = no_stop_words"
   ]
  },
  {
   "cell_type": "code",
   "execution_count": 46,
   "metadata": {},
   "outputs": [
    {
     "data": {
      "text/html": [
       "<div>\n",
       "<style scoped>\n",
       "    .dataframe tbody tr th:only-of-type {\n",
       "        vertical-align: middle;\n",
       "    }\n",
       "\n",
       "    .dataframe tbody tr th {\n",
       "        vertical-align: top;\n",
       "    }\n",
       "\n",
       "    .dataframe thead th {\n",
       "        text-align: right;\n",
       "    }\n",
       "</style>\n",
       "<table border=\"1\" class=\"dataframe\">\n",
       "  <thead>\n",
       "    <tr style=\"text-align: right;\">\n",
       "      <th></th>\n",
       "      <th>title</th>\n",
       "      <th>price</th>\n",
       "      <th>descriptions</th>\n",
       "      <th>key_benefits</th>\n",
       "      <th>rating</th>\n",
       "      <th>reviews</th>\n",
       "      <th>subcat</th>\n",
       "      <th>cat</th>\n",
       "      <th>review_sent_len</th>\n",
       "      <th>review_word_leng</th>\n",
       "      <th>tokenized_reviews</th>\n",
       "    </tr>\n",
       "  </thead>\n",
       "  <tbody>\n",
       "    <tr>\n",
       "      <th>0</th>\n",
       "      <td>Nylabone Teething Pacifier Puppy Chew Toy</td>\n",
       "      <td>3.59</td>\n",
       "      <td>'Every puppy needs a pacifier to soothe teethi...</td>\n",
       "      <td>Designed to encourage positive play and teach ...</td>\n",
       "      <td>4.2</td>\n",
       "      <td>I do not know how to rate this. The puppy this...</td>\n",
       "      <td>moderate</td>\n",
       "      <td>chew toys</td>\n",
       "      <td>44</td>\n",
       "      <td>902</td>\n",
       "      <td>[know, rate, puppy, purchased, 10, wk, old, ir...</td>\n",
       "    </tr>\n",
       "    <tr>\n",
       "      <th>1</th>\n",
       "      <td>KONG Puppy Dog Toy, Color Varies</td>\n",
       "      <td>6.99</td>\n",
       "      <td>\"The Puppy KONG dog toy is customized for a gr...</td>\n",
       "      <td>Unpredictable bounce is great for energetic pu...</td>\n",
       "      <td>4.3</td>\n",
       "      <td>I have had dozens of dogs over the years, and ...</td>\n",
       "      <td>moderate</td>\n",
       "      <td>chew toys</td>\n",
       "      <td>34</td>\n",
       "      <td>732</td>\n",
       "      <td>[dozens, dogs, years, raising, puppies, defini...</td>\n",
       "    </tr>\n",
       "    <tr>\n",
       "      <th>2</th>\n",
       "      <td>Petstages Dogwood Tough Dog Chew Toy</td>\n",
       "      <td>8.83</td>\n",
       "      <td>\"Chewing is a natural behavior in all dogs, as...</td>\n",
       "      <td>Chew toy that combines real wood with syntheti...</td>\n",
       "      <td>4.2</td>\n",
       "      <td>Our 8 month old, shepherd/mastiff has had this...</td>\n",
       "      <td>moderate</td>\n",
       "      <td>chew toys</td>\n",
       "      <td>41</td>\n",
       "      <td>894</td>\n",
       "      <td>[8, month, old, shepherd, mastiff, toy, 3, wee...</td>\n",
       "    </tr>\n",
       "    <tr>\n",
       "      <th>3</th>\n",
       "      <td>Nylabone Teething Rings Puppy Chew Toy</td>\n",
       "      <td>6.57</td>\n",
       "      <td>'Great for teething and tugging! The Puppy Tee...</td>\n",
       "      <td>Designed to encourage positive play and teach ...</td>\n",
       "      <td>4.1</td>\n",
       "      <td>I have a small shih tzu who absolutely loves t...</td>\n",
       "      <td>moderate</td>\n",
       "      <td>chew toys</td>\n",
       "      <td>24</td>\n",
       "      <td>514</td>\n",
       "      <td>[small, shih, tzu, absolutely, loves, chew, to...</td>\n",
       "    </tr>\n",
       "    <tr>\n",
       "      <th>4</th>\n",
       "      <td>Nylabone Puppy Teething X Bone Beef Flavored P...</td>\n",
       "      <td>6.89</td>\n",
       "      <td>'Curious puppies have met their match with the...</td>\n",
       "      <td>Non-edible dog toy is made for teething puppie...</td>\n",
       "      <td>4.1</td>\n",
       "      <td>This is a great shoe for a tiny puppy in there...</td>\n",
       "      <td>moderate</td>\n",
       "      <td>chew toys</td>\n",
       "      <td>21</td>\n",
       "      <td>570</td>\n",
       "      <td>[great, shoe, tiny, puppy, first, teeth, fear,...</td>\n",
       "    </tr>\n",
       "  </tbody>\n",
       "</table>\n",
       "</div>"
      ],
      "text/plain": [
       "                                               title  price  \\\n",
       "0          Nylabone Teething Pacifier Puppy Chew Toy   3.59   \n",
       "1                   KONG Puppy Dog Toy, Color Varies   6.99   \n",
       "2               Petstages Dogwood Tough Dog Chew Toy   8.83   \n",
       "3             Nylabone Teething Rings Puppy Chew Toy   6.57   \n",
       "4  Nylabone Puppy Teething X Bone Beef Flavored P...   6.89   \n",
       "\n",
       "                                        descriptions  \\\n",
       "0  'Every puppy needs a pacifier to soothe teethi...   \n",
       "1  \"The Puppy KONG dog toy is customized for a gr...   \n",
       "2  \"Chewing is a natural behavior in all dogs, as...   \n",
       "3  'Great for teething and tugging! The Puppy Tee...   \n",
       "4  'Curious puppies have met their match with the...   \n",
       "\n",
       "                                        key_benefits  rating  \\\n",
       "0  Designed to encourage positive play and teach ...     4.2   \n",
       "1  Unpredictable bounce is great for energetic pu...     4.3   \n",
       "2  Chew toy that combines real wood with syntheti...     4.2   \n",
       "3  Designed to encourage positive play and teach ...     4.1   \n",
       "4  Non-edible dog toy is made for teething puppie...     4.1   \n",
       "\n",
       "                                             reviews    subcat        cat  \\\n",
       "0  I do not know how to rate this. The puppy this...  moderate  chew toys   \n",
       "1  I have had dozens of dogs over the years, and ...  moderate  chew toys   \n",
       "2  Our 8 month old, shepherd/mastiff has had this...  moderate  chew toys   \n",
       "3  I have a small shih tzu who absolutely loves t...  moderate  chew toys   \n",
       "4  This is a great shoe for a tiny puppy in there...  moderate  chew toys   \n",
       "\n",
       "   review_sent_len  review_word_leng  \\\n",
       "0               44               902   \n",
       "1               34               732   \n",
       "2               41               894   \n",
       "3               24               514   \n",
       "4               21               570   \n",
       "\n",
       "                                   tokenized_reviews  \n",
       "0  [know, rate, puppy, purchased, 10, wk, old, ir...  \n",
       "1  [dozens, dogs, years, raising, puppies, defini...  \n",
       "2  [8, month, old, shepherd, mastiff, toy, 3, wee...  \n",
       "3  [small, shih, tzu, absolutely, loves, chew, to...  \n",
       "4  [great, shoe, tiny, puppy, first, teeth, fear,...  "
      ]
     },
     "execution_count": 46,
     "metadata": {},
     "output_type": "execute_result"
    }
   ],
   "source": [
    "df.head()"
   ]
  },
  {
   "cell_type": "markdown",
   "metadata": {},
   "source": [
    "**Looking at Most Frequently Used Words**\n",
    "Using TfidfVectorizer"
   ]
  },
  {
   "cell_type": "code",
   "execution_count": 47,
   "metadata": {},
   "outputs": [],
   "source": [
    "# Instantiate the transformer.\n",
    "tvec = TfidfVectorizer(stop_words='english')"
   ]
  },
  {
   "cell_type": "markdown",
   "metadata": {},
   "source": [
    "Ok need to work on getting the vectorizer inside the list!"
   ]
  },
  {
   "cell_type": "code",
   "execution_count": 48,
   "metadata": {},
   "outputs": [
    {
     "data": {
      "text/plain": [
       "array([[0., 0., 0., ..., 0., 0., 0.],\n",
       "       [0., 0., 0., ..., 0., 0., 0.],\n",
       "       [0., 0., 0., ..., 0., 0., 0.],\n",
       "       ...,\n",
       "       [0., 0., 0., ..., 0., 0., 0.],\n",
       "       [0., 0., 0., ..., 0., 0., 0.],\n",
       "       [0., 0., 0., ..., 0., 0., 0.]])"
      ]
     },
     "execution_count": 48,
     "metadata": {},
     "output_type": "execute_result"
    }
   ],
   "source": [
    "tvec.fit_transform(df['reviews']).toarray()"
   ]
  },
  {
   "cell_type": "code",
   "execution_count": 49,
   "metadata": {},
   "outputs": [
    {
     "data": {
      "text/html": [
       "<div>\n",
       "<style scoped>\n",
       "    .dataframe tbody tr th:only-of-type {\n",
       "        vertical-align: middle;\n",
       "    }\n",
       "\n",
       "    .dataframe tbody tr th {\n",
       "        vertical-align: top;\n",
       "    }\n",
       "\n",
       "    .dataframe thead th {\n",
       "        text-align: right;\n",
       "    }\n",
       "</style>\n",
       "<table border=\"1\" class=\"dataframe\">\n",
       "  <thead>\n",
       "    <tr style=\"text-align: right;\">\n",
       "      <th></th>\n",
       "      <th>00</th>\n",
       "      <th>000</th>\n",
       "      <th>061820</th>\n",
       "      <th>10</th>\n",
       "      <th>100</th>\n",
       "      <th>1000</th>\n",
       "      <th>10000</th>\n",
       "      <th>100lb</th>\n",
       "      <th>100lbs</th>\n",
       "      <th>104</th>\n",
       "      <th>...</th>\n",
       "      <th>zooming</th>\n",
       "      <th>zooms</th>\n",
       "      <th>zucchini</th>\n",
       "      <th>zucchinis</th>\n",
       "      <th>zuchon</th>\n",
       "      <th>zukes</th>\n",
       "      <th>zuko</th>\n",
       "      <th>zumi</th>\n",
       "      <th>zuula</th>\n",
       "      <th>çute</th>\n",
       "    </tr>\n",
       "  </thead>\n",
       "  <tbody>\n",
       "    <tr>\n",
       "      <th>0</th>\n",
       "      <td>0.0</td>\n",
       "      <td>0.0</td>\n",
       "      <td>0.0</td>\n",
       "      <td>0.026956</td>\n",
       "      <td>0.0</td>\n",
       "      <td>0.0</td>\n",
       "      <td>0.0</td>\n",
       "      <td>0.0</td>\n",
       "      <td>0.0</td>\n",
       "      <td>0.0</td>\n",
       "      <td>...</td>\n",
       "      <td>0.0</td>\n",
       "      <td>0.0</td>\n",
       "      <td>0.0</td>\n",
       "      <td>0.0</td>\n",
       "      <td>0.0</td>\n",
       "      <td>0.0</td>\n",
       "      <td>0.0</td>\n",
       "      <td>0.0</td>\n",
       "      <td>0.0</td>\n",
       "      <td>0.0</td>\n",
       "    </tr>\n",
       "    <tr>\n",
       "      <th>1</th>\n",
       "      <td>0.0</td>\n",
       "      <td>0.0</td>\n",
       "      <td>0.0</td>\n",
       "      <td>0.000000</td>\n",
       "      <td>0.0</td>\n",
       "      <td>0.0</td>\n",
       "      <td>0.0</td>\n",
       "      <td>0.0</td>\n",
       "      <td>0.0</td>\n",
       "      <td>0.0</td>\n",
       "      <td>...</td>\n",
       "      <td>0.0</td>\n",
       "      <td>0.0</td>\n",
       "      <td>0.0</td>\n",
       "      <td>0.0</td>\n",
       "      <td>0.0</td>\n",
       "      <td>0.0</td>\n",
       "      <td>0.0</td>\n",
       "      <td>0.0</td>\n",
       "      <td>0.0</td>\n",
       "      <td>0.0</td>\n",
       "    </tr>\n",
       "    <tr>\n",
       "      <th>2</th>\n",
       "      <td>0.0</td>\n",
       "      <td>0.0</td>\n",
       "      <td>0.0</td>\n",
       "      <td>0.055185</td>\n",
       "      <td>0.0</td>\n",
       "      <td>0.0</td>\n",
       "      <td>0.0</td>\n",
       "      <td>0.0</td>\n",
       "      <td>0.0</td>\n",
       "      <td>0.0</td>\n",
       "      <td>...</td>\n",
       "      <td>0.0</td>\n",
       "      <td>0.0</td>\n",
       "      <td>0.0</td>\n",
       "      <td>0.0</td>\n",
       "      <td>0.0</td>\n",
       "      <td>0.0</td>\n",
       "      <td>0.0</td>\n",
       "      <td>0.0</td>\n",
       "      <td>0.0</td>\n",
       "      <td>0.0</td>\n",
       "    </tr>\n",
       "    <tr>\n",
       "      <th>3</th>\n",
       "      <td>0.0</td>\n",
       "      <td>0.0</td>\n",
       "      <td>0.0</td>\n",
       "      <td>0.000000</td>\n",
       "      <td>0.0</td>\n",
       "      <td>0.0</td>\n",
       "      <td>0.0</td>\n",
       "      <td>0.0</td>\n",
       "      <td>0.0</td>\n",
       "      <td>0.0</td>\n",
       "      <td>...</td>\n",
       "      <td>0.0</td>\n",
       "      <td>0.0</td>\n",
       "      <td>0.0</td>\n",
       "      <td>0.0</td>\n",
       "      <td>0.0</td>\n",
       "      <td>0.0</td>\n",
       "      <td>0.0</td>\n",
       "      <td>0.0</td>\n",
       "      <td>0.0</td>\n",
       "      <td>0.0</td>\n",
       "    </tr>\n",
       "    <tr>\n",
       "      <th>4</th>\n",
       "      <td>0.0</td>\n",
       "      <td>0.0</td>\n",
       "      <td>0.0</td>\n",
       "      <td>0.000000</td>\n",
       "      <td>0.0</td>\n",
       "      <td>0.0</td>\n",
       "      <td>0.0</td>\n",
       "      <td>0.0</td>\n",
       "      <td>0.0</td>\n",
       "      <td>0.0</td>\n",
       "      <td>...</td>\n",
       "      <td>0.0</td>\n",
       "      <td>0.0</td>\n",
       "      <td>0.0</td>\n",
       "      <td>0.0</td>\n",
       "      <td>0.0</td>\n",
       "      <td>0.0</td>\n",
       "      <td>0.0</td>\n",
       "      <td>0.0</td>\n",
       "      <td>0.0</td>\n",
       "      <td>0.0</td>\n",
       "    </tr>\n",
       "    <tr>\n",
       "      <th>...</th>\n",
       "      <td>...</td>\n",
       "      <td>...</td>\n",
       "      <td>...</td>\n",
       "      <td>...</td>\n",
       "      <td>...</td>\n",
       "      <td>...</td>\n",
       "      <td>...</td>\n",
       "      <td>...</td>\n",
       "      <td>...</td>\n",
       "      <td>...</td>\n",
       "      <td>...</td>\n",
       "      <td>...</td>\n",
       "      <td>...</td>\n",
       "      <td>...</td>\n",
       "      <td>...</td>\n",
       "      <td>...</td>\n",
       "      <td>...</td>\n",
       "      <td>...</td>\n",
       "      <td>...</td>\n",
       "      <td>...</td>\n",
       "      <td>...</td>\n",
       "    </tr>\n",
       "    <tr>\n",
       "      <th>2394</th>\n",
       "      <td>0.0</td>\n",
       "      <td>0.0</td>\n",
       "      <td>0.0</td>\n",
       "      <td>0.000000</td>\n",
       "      <td>0.0</td>\n",
       "      <td>0.0</td>\n",
       "      <td>0.0</td>\n",
       "      <td>0.0</td>\n",
       "      <td>0.0</td>\n",
       "      <td>0.0</td>\n",
       "      <td>...</td>\n",
       "      <td>0.0</td>\n",
       "      <td>0.0</td>\n",
       "      <td>0.0</td>\n",
       "      <td>0.0</td>\n",
       "      <td>0.0</td>\n",
       "      <td>0.0</td>\n",
       "      <td>0.0</td>\n",
       "      <td>0.0</td>\n",
       "      <td>0.0</td>\n",
       "      <td>0.0</td>\n",
       "    </tr>\n",
       "    <tr>\n",
       "      <th>2395</th>\n",
       "      <td>0.0</td>\n",
       "      <td>0.0</td>\n",
       "      <td>0.0</td>\n",
       "      <td>0.000000</td>\n",
       "      <td>0.0</td>\n",
       "      <td>0.0</td>\n",
       "      <td>0.0</td>\n",
       "      <td>0.0</td>\n",
       "      <td>0.0</td>\n",
       "      <td>0.0</td>\n",
       "      <td>...</td>\n",
       "      <td>0.0</td>\n",
       "      <td>0.0</td>\n",
       "      <td>0.0</td>\n",
       "      <td>0.0</td>\n",
       "      <td>0.0</td>\n",
       "      <td>0.0</td>\n",
       "      <td>0.0</td>\n",
       "      <td>0.0</td>\n",
       "      <td>0.0</td>\n",
       "      <td>0.0</td>\n",
       "    </tr>\n",
       "    <tr>\n",
       "      <th>2396</th>\n",
       "      <td>0.0</td>\n",
       "      <td>0.0</td>\n",
       "      <td>0.0</td>\n",
       "      <td>0.000000</td>\n",
       "      <td>0.0</td>\n",
       "      <td>0.0</td>\n",
       "      <td>0.0</td>\n",
       "      <td>0.0</td>\n",
       "      <td>0.0</td>\n",
       "      <td>0.0</td>\n",
       "      <td>...</td>\n",
       "      <td>0.0</td>\n",
       "      <td>0.0</td>\n",
       "      <td>0.0</td>\n",
       "      <td>0.0</td>\n",
       "      <td>0.0</td>\n",
       "      <td>0.0</td>\n",
       "      <td>0.0</td>\n",
       "      <td>0.0</td>\n",
       "      <td>0.0</td>\n",
       "      <td>0.0</td>\n",
       "    </tr>\n",
       "    <tr>\n",
       "      <th>2397</th>\n",
       "      <td>0.0</td>\n",
       "      <td>0.0</td>\n",
       "      <td>0.0</td>\n",
       "      <td>0.031341</td>\n",
       "      <td>0.0</td>\n",
       "      <td>0.0</td>\n",
       "      <td>0.0</td>\n",
       "      <td>0.0</td>\n",
       "      <td>0.0</td>\n",
       "      <td>0.0</td>\n",
       "      <td>...</td>\n",
       "      <td>0.0</td>\n",
       "      <td>0.0</td>\n",
       "      <td>0.0</td>\n",
       "      <td>0.0</td>\n",
       "      <td>0.0</td>\n",
       "      <td>0.0</td>\n",
       "      <td>0.0</td>\n",
       "      <td>0.0</td>\n",
       "      <td>0.0</td>\n",
       "      <td>0.0</td>\n",
       "    </tr>\n",
       "    <tr>\n",
       "      <th>2398</th>\n",
       "      <td>0.0</td>\n",
       "      <td>0.0</td>\n",
       "      <td>0.0</td>\n",
       "      <td>0.031032</td>\n",
       "      <td>0.0</td>\n",
       "      <td>0.0</td>\n",
       "      <td>0.0</td>\n",
       "      <td>0.0</td>\n",
       "      <td>0.0</td>\n",
       "      <td>0.0</td>\n",
       "      <td>...</td>\n",
       "      <td>0.0</td>\n",
       "      <td>0.0</td>\n",
       "      <td>0.0</td>\n",
       "      <td>0.0</td>\n",
       "      <td>0.0</td>\n",
       "      <td>0.0</td>\n",
       "      <td>0.0</td>\n",
       "      <td>0.0</td>\n",
       "      <td>0.0</td>\n",
       "      <td>0.0</td>\n",
       "    </tr>\n",
       "  </tbody>\n",
       "</table>\n",
       "<p>2399 rows × 11987 columns</p>\n",
       "</div>"
      ],
      "text/plain": [
       "       00  000  061820        10  100  1000  10000  100lb  100lbs  104  ...  \\\n",
       "0     0.0  0.0     0.0  0.026956  0.0   0.0    0.0    0.0     0.0  0.0  ...   \n",
       "1     0.0  0.0     0.0  0.000000  0.0   0.0    0.0    0.0     0.0  0.0  ...   \n",
       "2     0.0  0.0     0.0  0.055185  0.0   0.0    0.0    0.0     0.0  0.0  ...   \n",
       "3     0.0  0.0     0.0  0.000000  0.0   0.0    0.0    0.0     0.0  0.0  ...   \n",
       "4     0.0  0.0     0.0  0.000000  0.0   0.0    0.0    0.0     0.0  0.0  ...   \n",
       "...   ...  ...     ...       ...  ...   ...    ...    ...     ...  ...  ...   \n",
       "2394  0.0  0.0     0.0  0.000000  0.0   0.0    0.0    0.0     0.0  0.0  ...   \n",
       "2395  0.0  0.0     0.0  0.000000  0.0   0.0    0.0    0.0     0.0  0.0  ...   \n",
       "2396  0.0  0.0     0.0  0.000000  0.0   0.0    0.0    0.0     0.0  0.0  ...   \n",
       "2397  0.0  0.0     0.0  0.031341  0.0   0.0    0.0    0.0     0.0  0.0  ...   \n",
       "2398  0.0  0.0     0.0  0.031032  0.0   0.0    0.0    0.0     0.0  0.0  ...   \n",
       "\n",
       "      zooming  zooms  zucchini  zucchinis  zuchon  zukes  zuko  zumi  zuula  \\\n",
       "0         0.0    0.0       0.0        0.0     0.0    0.0   0.0   0.0    0.0   \n",
       "1         0.0    0.0       0.0        0.0     0.0    0.0   0.0   0.0    0.0   \n",
       "2         0.0    0.0       0.0        0.0     0.0    0.0   0.0   0.0    0.0   \n",
       "3         0.0    0.0       0.0        0.0     0.0    0.0   0.0   0.0    0.0   \n",
       "4         0.0    0.0       0.0        0.0     0.0    0.0   0.0   0.0    0.0   \n",
       "...       ...    ...       ...        ...     ...    ...   ...   ...    ...   \n",
       "2394      0.0    0.0       0.0        0.0     0.0    0.0   0.0   0.0    0.0   \n",
       "2395      0.0    0.0       0.0        0.0     0.0    0.0   0.0   0.0    0.0   \n",
       "2396      0.0    0.0       0.0        0.0     0.0    0.0   0.0   0.0    0.0   \n",
       "2397      0.0    0.0       0.0        0.0     0.0    0.0   0.0   0.0    0.0   \n",
       "2398      0.0    0.0       0.0        0.0     0.0    0.0   0.0   0.0    0.0   \n",
       "\n",
       "      çute  \n",
       "0      0.0  \n",
       "1      0.0  \n",
       "2      0.0  \n",
       "3      0.0  \n",
       "4      0.0  \n",
       "...    ...  \n",
       "2394   0.0  \n",
       "2395   0.0  \n",
       "2396   0.0  \n",
       "2397   0.0  \n",
       "2398   0.0  \n",
       "\n",
       "[2399 rows x 11987 columns]"
      ]
     },
     "execution_count": 49,
     "metadata": {},
     "output_type": "execute_result"
    }
   ],
   "source": [
    "# creating the vectorized words dataframe\n",
    "word_vector_df = pd.DataFrame(tvec.fit_transform(df['reviews']).toarray(),\n",
    "                  columns=tvec.get_feature_names())\n",
    "word_vector_df\n",
    "\n",
    "# Is there a way to get the word as the column? "
   ]
  },
  {
   "cell_type": "code",
   "execution_count": 50,
   "metadata": {},
   "outputs": [
    {
     "data": {
      "text/plain": [
       "(2399, 11)"
      ]
     },
     "execution_count": 50,
     "metadata": {},
     "output_type": "execute_result"
    }
   ],
   "source": [
    "df.shape"
   ]
  },
  {
   "cell_type": "code",
   "execution_count": 51,
   "metadata": {},
   "outputs": [],
   "source": [
    "# get count of top-occurring words\n",
    "top_words_tf = {}\n",
    "for i in word_vector_df.columns:\n",
    "    top_words_tf[i] =  word_vector_df[i].sum()\n",
    "    \n",
    "# top_words to dataframe sorted by highest occurance\n",
    "most_freq_tf = pd.DataFrame(sorted(top_words_tf.items(), key = lambda x: x[1], reverse = True))"
   ]
  },
  {
   "cell_type": "code",
   "execution_count": 52,
   "metadata": {},
   "outputs": [
    {
     "data": {
      "image/png": "[encoded data removed]",
      "text/plain": [
       "<Figure size 720x360 with 1 Axes>"
      ]
     },
     "metadata": {
      "needs_background": "light"
     },
     "output_type": "display_data"
    }
   ],
   "source": [
    "plt.figure(figsize = (10, 5))\n",
    "\n",
    "# visualize top 10 words\n",
    "plt.bar(most_freq_tf[0][:10], most_freq_tf[1][:10]);"
   ]
  },
  {
   "cell_type": "markdown",
   "metadata": {},
   "source": [
    "Need to get the stop words out of the reviews! "
   ]
  },
  {
   "cell_type": "code",
   "execution_count": 53,
   "metadata": {},
   "outputs": [
    {
     "data": {
      "text/html": [
       "<div>\n",
       "<style scoped>\n",
       "    .dataframe tbody tr th:only-of-type {\n",
       "        vertical-align: middle;\n",
       "    }\n",
       "\n",
       "    .dataframe tbody tr th {\n",
       "        vertical-align: top;\n",
       "    }\n",
       "\n",
       "    .dataframe thead th {\n",
       "        text-align: right;\n",
       "    }\n",
       "</style>\n",
       "<table border=\"1\" class=\"dataframe\">\n",
       "  <thead>\n",
       "    <tr style=\"text-align: right;\">\n",
       "      <th></th>\n",
       "      <th>title</th>\n",
       "      <th>price</th>\n",
       "      <th>descriptions</th>\n",
       "      <th>key_benefits</th>\n",
       "      <th>rating</th>\n",
       "      <th>reviews</th>\n",
       "      <th>subcat</th>\n",
       "      <th>cat</th>\n",
       "      <th>review_sent_len</th>\n",
       "      <th>review_word_leng</th>\n",
       "      <th>tokenized_reviews</th>\n",
       "    </tr>\n",
       "  </thead>\n",
       "  <tbody>\n",
       "    <tr>\n",
       "      <th>0</th>\n",
       "      <td>Nylabone Teething Pacifier Puppy Chew Toy</td>\n",
       "      <td>3.59</td>\n",
       "      <td>'Every puppy needs a pacifier to soothe teethi...</td>\n",
       "      <td>Designed to encourage positive play and teach ...</td>\n",
       "      <td>4.2</td>\n",
       "      <td>I do not know how to rate this. The puppy this...</td>\n",
       "      <td>moderate</td>\n",
       "      <td>chew toys</td>\n",
       "      <td>44</td>\n",
       "      <td>902</td>\n",
       "      <td>[know, rate, puppy, purchased, 10, wk, old, ir...</td>\n",
       "    </tr>\n",
       "    <tr>\n",
       "      <th>1</th>\n",
       "      <td>KONG Puppy Dog Toy, Color Varies</td>\n",
       "      <td>6.99</td>\n",
       "      <td>\"The Puppy KONG dog toy is customized for a gr...</td>\n",
       "      <td>Unpredictable bounce is great for energetic pu...</td>\n",
       "      <td>4.3</td>\n",
       "      <td>I have had dozens of dogs over the years, and ...</td>\n",
       "      <td>moderate</td>\n",
       "      <td>chew toys</td>\n",
       "      <td>34</td>\n",
       "      <td>732</td>\n",
       "      <td>[dozens, dogs, years, raising, puppies, defini...</td>\n",
       "    </tr>\n",
       "    <tr>\n",
       "      <th>2</th>\n",
       "      <td>Petstages Dogwood Tough Dog Chew Toy</td>\n",
       "      <td>8.83</td>\n",
       "      <td>\"Chewing is a natural behavior in all dogs, as...</td>\n",
       "      <td>Chew toy that combines real wood with syntheti...</td>\n",
       "      <td>4.2</td>\n",
       "      <td>Our 8 month old, shepherd/mastiff has had this...</td>\n",
       "      <td>moderate</td>\n",
       "      <td>chew toys</td>\n",
       "      <td>41</td>\n",
       "      <td>894</td>\n",
       "      <td>[8, month, old, shepherd, mastiff, toy, 3, wee...</td>\n",
       "    </tr>\n",
       "    <tr>\n",
       "      <th>3</th>\n",
       "      <td>Nylabone Teething Rings Puppy Chew Toy</td>\n",
       "      <td>6.57</td>\n",
       "      <td>'Great for teething and tugging! The Puppy Tee...</td>\n",
       "      <td>Designed to encourage positive play and teach ...</td>\n",
       "      <td>4.1</td>\n",
       "      <td>I have a small shih tzu who absolutely loves t...</td>\n",
       "      <td>moderate</td>\n",
       "      <td>chew toys</td>\n",
       "      <td>24</td>\n",
       "      <td>514</td>\n",
       "      <td>[small, shih, tzu, absolutely, loves, chew, to...</td>\n",
       "    </tr>\n",
       "    <tr>\n",
       "      <th>4</th>\n",
       "      <td>Nylabone Puppy Teething X Bone Beef Flavored P...</td>\n",
       "      <td>6.89</td>\n",
       "      <td>'Curious puppies have met their match with the...</td>\n",
       "      <td>Non-edible dog toy is made for teething puppie...</td>\n",
       "      <td>4.1</td>\n",
       "      <td>This is a great shoe for a tiny puppy in there...</td>\n",
       "      <td>moderate</td>\n",
       "      <td>chew toys</td>\n",
       "      <td>21</td>\n",
       "      <td>570</td>\n",
       "      <td>[great, shoe, tiny, puppy, first, teeth, fear,...</td>\n",
       "    </tr>\n",
       "  </tbody>\n",
       "</table>\n",
       "</div>"
      ],
      "text/plain": [
       "                                               title  price  \\\n",
       "0          Nylabone Teething Pacifier Puppy Chew Toy   3.59   \n",
       "1                   KONG Puppy Dog Toy, Color Varies   6.99   \n",
       "2               Petstages Dogwood Tough Dog Chew Toy   8.83   \n",
       "3             Nylabone Teething Rings Puppy Chew Toy   6.57   \n",
       "4  Nylabone Puppy Teething X Bone Beef Flavored P...   6.89   \n",
       "\n",
       "                                        descriptions  \\\n",
       "0  'Every puppy needs a pacifier to soothe teethi...   \n",
       "1  \"The Puppy KONG dog toy is customized for a gr...   \n",
       "2  \"Chewing is a natural behavior in all dogs, as...   \n",
       "3  'Great for teething and tugging! The Puppy Tee...   \n",
       "4  'Curious puppies have met their match with the...   \n",
       "\n",
       "                                        key_benefits  rating  \\\n",
       "0  Designed to encourage positive play and teach ...     4.2   \n",
       "1  Unpredictable bounce is great for energetic pu...     4.3   \n",
       "2  Chew toy that combines real wood with syntheti...     4.2   \n",
       "3  Designed to encourage positive play and teach ...     4.1   \n",
       "4  Non-edible dog toy is made for teething puppie...     4.1   \n",
       "\n",
       "                                             reviews    subcat        cat  \\\n",
       "0  I do not know how to rate this. The puppy this...  moderate  chew toys   \n",
       "1  I have had dozens of dogs over the years, and ...  moderate  chew toys   \n",
       "2  Our 8 month old, shepherd/mastiff has had this...  moderate  chew toys   \n",
       "3  I have a small shih tzu who absolutely loves t...  moderate  chew toys   \n",
       "4  This is a great shoe for a tiny puppy in there...  moderate  chew toys   \n",
       "\n",
       "   review_sent_len  review_word_leng  \\\n",
       "0               44               902   \n",
       "1               34               732   \n",
       "2               41               894   \n",
       "3               24               514   \n",
       "4               21               570   \n",
       "\n",
       "                                   tokenized_reviews  \n",
       "0  [know, rate, puppy, purchased, 10, wk, old, ir...  \n",
       "1  [dozens, dogs, years, raising, puppies, defini...  \n",
       "2  [8, month, old, shepherd, mastiff, toy, 3, wee...  \n",
       "3  [small, shih, tzu, absolutely, loves, chew, to...  \n",
       "4  [great, shoe, tiny, puppy, first, teeth, fear,...  "
      ]
     },
     "execution_count": 53,
     "metadata": {},
     "output_type": "execute_result"
    }
   ],
   "source": [
    "df.head()"
   ]
  },
  {
   "cell_type": "markdown",
   "metadata": {},
   "source": [
    "**Making my own stop word lists**"
   ]
  },
  {
   "cell_type": "code",
   "execution_count": 54,
   "metadata": {},
   "outputs": [],
   "source": [
    "stopwords = stopwords.words('english') + ['dog', 'toy', 'dogs', 'toys', 'one']"
   ]
  },
  {
   "cell_type": "code",
   "execution_count": 55,
   "metadata": {},
   "outputs": [],
   "source": [
    "# Instantiate the transformer.\n",
    "tvec_stopwords = TfidfVectorizer(stop_words=stopwords)"
   ]
  },
  {
   "cell_type": "code",
   "execution_count": 56,
   "metadata": {},
   "outputs": [
    {
     "data": {
      "text/html": [
       "<div>\n",
       "<style scoped>\n",
       "    .dataframe tbody tr th:only-of-type {\n",
       "        vertical-align: middle;\n",
       "    }\n",
       "\n",
       "    .dataframe tbody tr th {\n",
       "        vertical-align: top;\n",
       "    }\n",
       "\n",
       "    .dataframe thead th {\n",
       "        text-align: right;\n",
       "    }\n",
       "</style>\n",
       "<table border=\"1\" class=\"dataframe\">\n",
       "  <thead>\n",
       "    <tr style=\"text-align: right;\">\n",
       "      <th></th>\n",
       "      <th>00</th>\n",
       "      <th>000</th>\n",
       "      <th>061820</th>\n",
       "      <th>10</th>\n",
       "      <th>100</th>\n",
       "      <th>1000</th>\n",
       "      <th>10000</th>\n",
       "      <th>100lb</th>\n",
       "      <th>100lbs</th>\n",
       "      <th>104</th>\n",
       "      <th>...</th>\n",
       "      <th>zooming</th>\n",
       "      <th>zooms</th>\n",
       "      <th>zucchini</th>\n",
       "      <th>zucchinis</th>\n",
       "      <th>zuchon</th>\n",
       "      <th>zukes</th>\n",
       "      <th>zuko</th>\n",
       "      <th>zumi</th>\n",
       "      <th>zuula</th>\n",
       "      <th>çute</th>\n",
       "    </tr>\n",
       "  </thead>\n",
       "  <tbody>\n",
       "    <tr>\n",
       "      <th>0</th>\n",
       "      <td>0.0</td>\n",
       "      <td>0.0</td>\n",
       "      <td>0.0</td>\n",
       "      <td>0.026590</td>\n",
       "      <td>0.0</td>\n",
       "      <td>0.0</td>\n",
       "      <td>0.0</td>\n",
       "      <td>0.0</td>\n",
       "      <td>0.0</td>\n",
       "      <td>0.0</td>\n",
       "      <td>...</td>\n",
       "      <td>0.0</td>\n",
       "      <td>0.0</td>\n",
       "      <td>0.0</td>\n",
       "      <td>0.0</td>\n",
       "      <td>0.0</td>\n",
       "      <td>0.0</td>\n",
       "      <td>0.0</td>\n",
       "      <td>0.0</td>\n",
       "      <td>0.0</td>\n",
       "      <td>0.0</td>\n",
       "    </tr>\n",
       "    <tr>\n",
       "      <th>1</th>\n",
       "      <td>0.0</td>\n",
       "      <td>0.0</td>\n",
       "      <td>0.0</td>\n",
       "      <td>0.000000</td>\n",
       "      <td>0.0</td>\n",
       "      <td>0.0</td>\n",
       "      <td>0.0</td>\n",
       "      <td>0.0</td>\n",
       "      <td>0.0</td>\n",
       "      <td>0.0</td>\n",
       "      <td>...</td>\n",
       "      <td>0.0</td>\n",
       "      <td>0.0</td>\n",
       "      <td>0.0</td>\n",
       "      <td>0.0</td>\n",
       "      <td>0.0</td>\n",
       "      <td>0.0</td>\n",
       "      <td>0.0</td>\n",
       "      <td>0.0</td>\n",
       "      <td>0.0</td>\n",
       "      <td>0.0</td>\n",
       "    </tr>\n",
       "    <tr>\n",
       "      <th>2</th>\n",
       "      <td>0.0</td>\n",
       "      <td>0.0</td>\n",
       "      <td>0.0</td>\n",
       "      <td>0.054704</td>\n",
       "      <td>0.0</td>\n",
       "      <td>0.0</td>\n",
       "      <td>0.0</td>\n",
       "      <td>0.0</td>\n",
       "      <td>0.0</td>\n",
       "      <td>0.0</td>\n",
       "      <td>...</td>\n",
       "      <td>0.0</td>\n",
       "      <td>0.0</td>\n",
       "      <td>0.0</td>\n",
       "      <td>0.0</td>\n",
       "      <td>0.0</td>\n",
       "      <td>0.0</td>\n",
       "      <td>0.0</td>\n",
       "      <td>0.0</td>\n",
       "      <td>0.0</td>\n",
       "      <td>0.0</td>\n",
       "    </tr>\n",
       "    <tr>\n",
       "      <th>3</th>\n",
       "      <td>0.0</td>\n",
       "      <td>0.0</td>\n",
       "      <td>0.0</td>\n",
       "      <td>0.000000</td>\n",
       "      <td>0.0</td>\n",
       "      <td>0.0</td>\n",
       "      <td>0.0</td>\n",
       "      <td>0.0</td>\n",
       "      <td>0.0</td>\n",
       "      <td>0.0</td>\n",
       "      <td>...</td>\n",
       "      <td>0.0</td>\n",
       "      <td>0.0</td>\n",
       "      <td>0.0</td>\n",
       "      <td>0.0</td>\n",
       "      <td>0.0</td>\n",
       "      <td>0.0</td>\n",
       "      <td>0.0</td>\n",
       "      <td>0.0</td>\n",
       "      <td>0.0</td>\n",
       "      <td>0.0</td>\n",
       "    </tr>\n",
       "    <tr>\n",
       "      <th>4</th>\n",
       "      <td>0.0</td>\n",
       "      <td>0.0</td>\n",
       "      <td>0.0</td>\n",
       "      <td>0.000000</td>\n",
       "      <td>0.0</td>\n",
       "      <td>0.0</td>\n",
       "      <td>0.0</td>\n",
       "      <td>0.0</td>\n",
       "      <td>0.0</td>\n",
       "      <td>0.0</td>\n",
       "      <td>...</td>\n",
       "      <td>0.0</td>\n",
       "      <td>0.0</td>\n",
       "      <td>0.0</td>\n",
       "      <td>0.0</td>\n",
       "      <td>0.0</td>\n",
       "      <td>0.0</td>\n",
       "      <td>0.0</td>\n",
       "      <td>0.0</td>\n",
       "      <td>0.0</td>\n",
       "      <td>0.0</td>\n",
       "    </tr>\n",
       "    <tr>\n",
       "      <th>...</th>\n",
       "      <td>...</td>\n",
       "      <td>...</td>\n",
       "      <td>...</td>\n",
       "      <td>...</td>\n",
       "      <td>...</td>\n",
       "      <td>...</td>\n",
       "      <td>...</td>\n",
       "      <td>...</td>\n",
       "      <td>...</td>\n",
       "      <td>...</td>\n",
       "      <td>...</td>\n",
       "      <td>...</td>\n",
       "      <td>...</td>\n",
       "      <td>...</td>\n",
       "      <td>...</td>\n",
       "      <td>...</td>\n",
       "      <td>...</td>\n",
       "      <td>...</td>\n",
       "      <td>...</td>\n",
       "      <td>...</td>\n",
       "      <td>...</td>\n",
       "    </tr>\n",
       "    <tr>\n",
       "      <th>2394</th>\n",
       "      <td>0.0</td>\n",
       "      <td>0.0</td>\n",
       "      <td>0.0</td>\n",
       "      <td>0.000000</td>\n",
       "      <td>0.0</td>\n",
       "      <td>0.0</td>\n",
       "      <td>0.0</td>\n",
       "      <td>0.0</td>\n",
       "      <td>0.0</td>\n",
       "      <td>0.0</td>\n",
       "      <td>...</td>\n",
       "      <td>0.0</td>\n",
       "      <td>0.0</td>\n",
       "      <td>0.0</td>\n",
       "      <td>0.0</td>\n",
       "      <td>0.0</td>\n",
       "      <td>0.0</td>\n",
       "      <td>0.0</td>\n",
       "      <td>0.0</td>\n",
       "      <td>0.0</td>\n",
       "      <td>0.0</td>\n",
       "    </tr>\n",
       "    <tr>\n",
       "      <th>2395</th>\n",
       "      <td>0.0</td>\n",
       "      <td>0.0</td>\n",
       "      <td>0.0</td>\n",
       "      <td>0.000000</td>\n",
       "      <td>0.0</td>\n",
       "      <td>0.0</td>\n",
       "      <td>0.0</td>\n",
       "      <td>0.0</td>\n",
       "      <td>0.0</td>\n",
       "      <td>0.0</td>\n",
       "      <td>...</td>\n",
       "      <td>0.0</td>\n",
       "      <td>0.0</td>\n",
       "      <td>0.0</td>\n",
       "      <td>0.0</td>\n",
       "      <td>0.0</td>\n",
       "      <td>0.0</td>\n",
       "      <td>0.0</td>\n",
       "      <td>0.0</td>\n",
       "      <td>0.0</td>\n",
       "      <td>0.0</td>\n",
       "    </tr>\n",
       "    <tr>\n",
       "      <th>2396</th>\n",
       "      <td>0.0</td>\n",
       "      <td>0.0</td>\n",
       "      <td>0.0</td>\n",
       "      <td>0.000000</td>\n",
       "      <td>0.0</td>\n",
       "      <td>0.0</td>\n",
       "      <td>0.0</td>\n",
       "      <td>0.0</td>\n",
       "      <td>0.0</td>\n",
       "      <td>0.0</td>\n",
       "      <td>...</td>\n",
       "      <td>0.0</td>\n",
       "      <td>0.0</td>\n",
       "      <td>0.0</td>\n",
       "      <td>0.0</td>\n",
       "      <td>0.0</td>\n",
       "      <td>0.0</td>\n",
       "      <td>0.0</td>\n",
       "      <td>0.0</td>\n",
       "      <td>0.0</td>\n",
       "      <td>0.0</td>\n",
       "    </tr>\n",
       "    <tr>\n",
       "      <th>2397</th>\n",
       "      <td>0.0</td>\n",
       "      <td>0.0</td>\n",
       "      <td>0.0</td>\n",
       "      <td>0.031531</td>\n",
       "      <td>0.0</td>\n",
       "      <td>0.0</td>\n",
       "      <td>0.0</td>\n",
       "      <td>0.0</td>\n",
       "      <td>0.0</td>\n",
       "      <td>0.0</td>\n",
       "      <td>...</td>\n",
       "      <td>0.0</td>\n",
       "      <td>0.0</td>\n",
       "      <td>0.0</td>\n",
       "      <td>0.0</td>\n",
       "      <td>0.0</td>\n",
       "      <td>0.0</td>\n",
       "      <td>0.0</td>\n",
       "      <td>0.0</td>\n",
       "      <td>0.0</td>\n",
       "      <td>0.0</td>\n",
       "    </tr>\n",
       "    <tr>\n",
       "      <th>2398</th>\n",
       "      <td>0.0</td>\n",
       "      <td>0.0</td>\n",
       "      <td>0.0</td>\n",
       "      <td>0.031422</td>\n",
       "      <td>0.0</td>\n",
       "      <td>0.0</td>\n",
       "      <td>0.0</td>\n",
       "      <td>0.0</td>\n",
       "      <td>0.0</td>\n",
       "      <td>0.0</td>\n",
       "      <td>...</td>\n",
       "      <td>0.0</td>\n",
       "      <td>0.0</td>\n",
       "      <td>0.0</td>\n",
       "      <td>0.0</td>\n",
       "      <td>0.0</td>\n",
       "      <td>0.0</td>\n",
       "      <td>0.0</td>\n",
       "      <td>0.0</td>\n",
       "      <td>0.0</td>\n",
       "      <td>0.0</td>\n",
       "    </tr>\n",
       "  </tbody>\n",
       "</table>\n",
       "<p>2399 rows × 12133 columns</p>\n",
       "</div>"
      ],
      "text/plain": [
       "       00  000  061820        10  100  1000  10000  100lb  100lbs  104  ...  \\\n",
       "0     0.0  0.0     0.0  0.026590  0.0   0.0    0.0    0.0     0.0  0.0  ...   \n",
       "1     0.0  0.0     0.0  0.000000  0.0   0.0    0.0    0.0     0.0  0.0  ...   \n",
       "2     0.0  0.0     0.0  0.054704  0.0   0.0    0.0    0.0     0.0  0.0  ...   \n",
       "3     0.0  0.0     0.0  0.000000  0.0   0.0    0.0    0.0     0.0  0.0  ...   \n",
       "4     0.0  0.0     0.0  0.000000  0.0   0.0    0.0    0.0     0.0  0.0  ...   \n",
       "...   ...  ...     ...       ...  ...   ...    ...    ...     ...  ...  ...   \n",
       "2394  0.0  0.0     0.0  0.000000  0.0   0.0    0.0    0.0     0.0  0.0  ...   \n",
       "2395  0.0  0.0     0.0  0.000000  0.0   0.0    0.0    0.0     0.0  0.0  ...   \n",
       "2396  0.0  0.0     0.0  0.000000  0.0   0.0    0.0    0.0     0.0  0.0  ...   \n",
       "2397  0.0  0.0     0.0  0.031531  0.0   0.0    0.0    0.0     0.0  0.0  ...   \n",
       "2398  0.0  0.0     0.0  0.031422  0.0   0.0    0.0    0.0     0.0  0.0  ...   \n",
       "\n",
       "      zooming  zooms  zucchini  zucchinis  zuchon  zukes  zuko  zumi  zuula  \\\n",
       "0         0.0    0.0       0.0        0.0     0.0    0.0   0.0   0.0    0.0   \n",
       "1         0.0    0.0       0.0        0.0     0.0    0.0   0.0   0.0    0.0   \n",
       "2         0.0    0.0       0.0        0.0     0.0    0.0   0.0   0.0    0.0   \n",
       "3         0.0    0.0       0.0        0.0     0.0    0.0   0.0   0.0    0.0   \n",
       "4         0.0    0.0       0.0        0.0     0.0    0.0   0.0   0.0    0.0   \n",
       "...       ...    ...       ...        ...     ...    ...   ...   ...    ...   \n",
       "2394      0.0    0.0       0.0        0.0     0.0    0.0   0.0   0.0    0.0   \n",
       "2395      0.0    0.0       0.0        0.0     0.0    0.0   0.0   0.0    0.0   \n",
       "2396      0.0    0.0       0.0        0.0     0.0    0.0   0.0   0.0    0.0   \n",
       "2397      0.0    0.0       0.0        0.0     0.0    0.0   0.0   0.0    0.0   \n",
       "2398      0.0    0.0       0.0        0.0     0.0    0.0   0.0   0.0    0.0   \n",
       "\n",
       "      çute  \n",
       "0      0.0  \n",
       "1      0.0  \n",
       "2      0.0  \n",
       "3      0.0  \n",
       "4      0.0  \n",
       "...    ...  \n",
       "2394   0.0  \n",
       "2395   0.0  \n",
       "2396   0.0  \n",
       "2397   0.0  \n",
       "2398   0.0  \n",
       "\n",
       "[2399 rows x 12133 columns]"
      ]
     },
     "execution_count": 56,
     "metadata": {},
     "output_type": "execute_result"
    }
   ],
   "source": [
    "# creating the vectorized words dataframe\n",
    "stopword_vector_df = pd.DataFrame(tvec_stopwords.fit_transform(df['reviews']).toarray(),\n",
    "                  columns=tvec_stopwords.get_feature_names())\n",
    "stopword_vector_df"
   ]
  },
  {
   "cell_type": "code",
   "execution_count": 57,
   "metadata": {},
   "outputs": [],
   "source": [
    "# get count of top-occurring words\n",
    "top_stopwords_tf = {}\n",
    "for i in stopword_vector_df.columns:\n",
    "    top_stopwords_tf[i] =  stopword_vector_df[i].sum()\n",
    "    \n",
    "# top_words to dataframe sorted by highest occurance\n",
    "most_stopfreq_tf = pd.DataFrame(sorted(top_stopwords_tf.items(), key = lambda x: x[1], reverse = True))"
   ]
  },
  {
   "cell_type": "code",
   "execution_count": 58,
   "metadata": {},
   "outputs": [
    {
     "data": {
      "image/png": "[encoded data removed]",
      "text/plain": [
       "<Figure size 720x360 with 1 Axes>"
      ]
     },
     "metadata": {
      "needs_background": "light"
     },
     "output_type": "display_data"
    }
   ],
   "source": [
    "plt.figure(figsize = (10, 5))\n",
    "\n",
    "# visualize top 10 words\n",
    "plt.bar(most_stopfreq_tf[0][:10], most_stopfreq_tf[1][:10]);"
   ]
  },
  {
   "cell_type": "code",
   "execution_count": 59,
   "metadata": {},
   "outputs": [
    {
     "data": {
      "image/png": "[encoded data removed]",
      "text/plain": [
       "<Figure size 432x288 with 1 Axes>"
      ]
     },
     "metadata": {
      "needs_background": "light"
     },
     "output_type": "display_data"
    }
   ],
   "source": [
    "plt.scatter(x=df['review_word_leng'], y=df['rating'],\n",
    "           s=1.5)\n",
    "plt.title(\"Rating Score vs Total Word Length of Reviews\")\n",
    "plt.xlabel(\"Total Word Length\")\n",
    "plt.ylabel(\"Rating\");"
   ]
  },
  {
   "cell_type": "markdown",
   "metadata": {},
   "source": [
    "### Looking at Reviews of Each category (maybe will look at subcategory) "
   ]
  },
  {
   "cell_type": "markdown",
   "metadata": {},
   "source": [
    "**Chew Toys**"
   ]
  },
  {
   "cell_type": "code",
   "execution_count": 68,
   "metadata": {},
   "outputs": [
    {
     "data": {
      "image/png": "[encoded data removed]",
      "text/plain": [
       "<Figure size 720x360 with 1 Axes>"
      ]
     },
     "metadata": {
      "needs_background": "light"
     },
     "output_type": "display_data"
    }
   ],
   "source": [
    "chew_reviews_df = df['reviews'][df['cat'] == 'chew toys']\n",
    "chew_reviews_df = pd.DataFrame(chew_reviews_df)\n",
    "chew_reviews_df\n",
    "\n",
    "# creating the vectorized words dataframe\n",
    "chew_vector_df = pd.DataFrame(tvec_stopwords.fit_transform(chew_reviews_df['reviews']).toarray(),\n",
    "                  columns=tvec_stopwords.get_feature_names())\n",
    "chew_vector_df\n",
    "\n",
    "# get count of top-occurring words in chew toys\n",
    "top_stopwords_tf = {}\n",
    "for i in chew_vector_df.columns:\n",
    "    top_stopwords_tf[i] =  chew_vector_df[i].sum()\n",
    "    \n",
    "# top_words to dataframe sorted by highest occurance\n",
    "most_stopfreq_tf = pd.DataFrame(sorted(top_stopwords_tf.items(), key = lambda x: x[1], reverse = True))\n",
    "\n",
    "plt.figure(figsize = (10, 5))\n",
    "\n",
    "# visualize top 10 words\n",
    "plt.bar(most_stopfreq_tf[0][:10], most_stopfreq_tf[1][:10]);"
   ]
  },
  {
   "cell_type": "markdown",
   "metadata": {},
   "source": [
    "**Fetch Toys**"
   ]
  },
  {
   "cell_type": "code",
   "execution_count": 64,
   "metadata": {},
   "outputs": [
    {
     "data": {
      "image/png": "[encoded data removed]",
      "text/plain": [
       "<Figure size 720x360 with 1 Axes>"
      ]
     },
     "metadata": {
      "needs_background": "light"
     },
     "output_type": "display_data"
    }
   ],
   "source": [
    "fetch_reviews_df = df['reviews'][df['cat'] == 'fetch toys']\n",
    "fetch_reviews_df = pd.DataFrame(fetch_reviews_df)\n",
    "fetch_reviews_df\n",
    "\n",
    "# creating the vectorized words dataframe\n",
    "fetch_vector_df = pd.DataFrame(tvec_stopwords.fit_transform(fetch_reviews_df['reviews']).toarray(),\n",
    "                  columns=tvec_stopwords.get_feature_names())\n",
    "# chew_vector_df\n",
    "\n",
    "# get count of top-occurring words in chew toys\n",
    "top_stopwords_tf = {}\n",
    "for i in fetch_vector_df.columns:\n",
    "    top_stopwords_tf[i] =  fetch_vector_df[i].sum()\n",
    "    \n",
    "# top_words to dataframe sorted by highest occurance\n",
    "most_stopfreq_tf = pd.DataFrame(sorted(top_stopwords_tf.items(), key = lambda x: x[1], reverse = True))\n",
    "\n",
    "plt.figure(figsize = (10, 5))\n",
    "\n",
    "# visualize top 10 words\n",
    "plt.bar(most_stopfreq_tf[0][:10], most_stopfreq_tf[1][:10]);"
   ]
  },
  {
   "cell_type": "markdown",
   "metadata": {},
   "source": [
    "**Interactive Toys**"
   ]
  },
  {
   "cell_type": "code",
   "execution_count": 65,
   "metadata": {},
   "outputs": [
    {
     "data": {
      "image/png": "[encoded data removed]",
      "text/plain": [
       "<Figure size 720x360 with 1 Axes>"
      ]
     },
     "metadata": {
      "needs_background": "light"
     },
     "output_type": "display_data"
    }
   ],
   "source": [
    "interactive_reviews_df = df['reviews'][df['cat'] == 'interactive toys']\n",
    "interactive_reviews_df = pd.DataFrame(interactive_reviews_df)\n",
    "\n",
    "# creating the vectorized words dataframe\n",
    "interactive_vector_df = pd.DataFrame(tvec_stopwords.fit_transform(interactive_reviews_df['reviews']).toarray(),\n",
    "                  columns=tvec_stopwords.get_feature_names())\n",
    "\n",
    "# get count of top-occurring words in chew toys\n",
    "top_stopwords_tf = {}\n",
    "for i in interactive_vector_df.columns:\n",
    "    top_stopwords_tf[i] =  interactive_vector_df[i].sum()\n",
    "    \n",
    "# top_words to dataframe sorted by highest occurance\n",
    "most_stopfreq_tf = pd.DataFrame(sorted(top_stopwords_tf.items(), key = lambda x: x[1], reverse = True))\n",
    "\n",
    "plt.figure(figsize = (10, 5))\n",
    "\n",
    "# visualize top 10 words\n",
    "plt.bar(most_stopfreq_tf[0][:10], most_stopfreq_tf[1][:10]);"
   ]
  },
  {
   "cell_type": "markdown",
   "metadata": {},
   "source": [
    "**Plush Toys**"
   ]
  },
  {
   "cell_type": "code",
   "execution_count": 66,
   "metadata": {},
   "outputs": [
    {
     "data": {
      "image/png": "[encoded data removed]",
      "text/plain": [
       "<Figure size 720x360 with 1 Axes>"
      ]
     },
     "metadata": {
      "needs_background": "light"
     },
     "output_type": "display_data"
    }
   ],
   "source": [
    "plush_reviews_df = df['reviews'][df['cat'] == 'plush toys']\n",
    "plush_reviews_df = pd.DataFrame(plush_reviews_df)\n",
    "\n",
    "# creating the vectorized words dataframe\n",
    "plush_vector_df = pd.DataFrame(tvec_stopwords.fit_transform(plush_reviews_df['reviews']).toarray(),\n",
    "                  columns=tvec_stopwords.get_feature_names())\n",
    "\n",
    "# get count of top-occurring words in chew toys\n",
    "top_stopwords_tf = {}\n",
    "for i in plush_vector_df.columns:\n",
    "    top_stopwords_tf[i] =  plush_vector_df[i].sum()\n",
    "    \n",
    "# top_words to dataframe sorted by highest occurance\n",
    "most_stopfreq_tf = pd.DataFrame(sorted(top_stopwords_tf.items(), key = lambda x: x[1], reverse = True))\n",
    "\n",
    "plt.figure(figsize = (10, 5))\n",
    "\n",
    "# visualize top 10 words\n",
    "plt.bar(most_stopfreq_tf[0][:10], most_stopfreq_tf[1][:10]);"
   ]
  },
  {
   "cell_type": "markdown",
   "metadata": {},
   "source": [
    "**Rope & Tug Toys**"
   ]
  },
  {
   "cell_type": "code",
   "execution_count": 67,
   "metadata": {},
   "outputs": [
    {
     "data": {
      "image/png": "[encoded data removed]",
      "text/plain": [
       "<Figure size 720x360 with 1 Axes>"
      ]
     },
     "metadata": {
      "needs_background": "light"
     },
     "output_type": "display_data"
    }
   ],
   "source": [
    "ropetug_reviews_df = df['reviews'][df['cat'] == 'rope & tug toys']\n",
    "ropetug_reviews_df = pd.DataFrame(ropetug_reviews_df)\n",
    "\n",
    "# creating the vectorized words dataframe\n",
    "ropetug_vector_df = pd.DataFrame(tvec_stopwords.fit_transform(ropetug_reviews_df['reviews']).toarray(),\n",
    "                  columns=tvec_stopwords.get_feature_names())\n",
    "\n",
    "# get count of top-occurring words in chew toys\n",
    "top_stopwords_tf = {}\n",
    "for i in ropetug_vector_df.columns:\n",
    "    top_stopwords_tf[i] =  ropetug_vector_df[i].sum()\n",
    "    \n",
    "# top_words to dataframe sorted by highest occurance\n",
    "most_stopfreq_tf = pd.DataFrame(sorted(top_stopwords_tf.items(), key = lambda x: x[1], reverse = True))\n",
    "\n",
    "plt.figure(figsize = (10, 5))\n",
    "\n",
    "# visualize top 10 words\n",
    "plt.bar(most_stopfreq_tf[0][:10], most_stopfreq_tf[1][:10]);"
   ]
  },
  {
   "cell_type": "code",
   "execution_count": null,
   "metadata": {},
   "outputs": [],
   "source": []
  }
 ],
 "metadata": {
  "kernelspec": {
   "display_name": "Python 3",
   "language": "python",
   "name": "python3"
  },
  "language_info": {
   "codemirror_mode": {
    "name": "ipython",
    "version": 3
   },
   "file_extension": ".py",
   "mimetype": "text/x-python",
   "name": "python",
   "nbconvert_exporter": "python",
   "pygments_lexer": "ipython3",
   "version": "3.7.7"
  }
 },
 "nbformat": 4,
 "nbformat_minor": 4
}
