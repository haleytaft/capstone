{
 "cells": [
  {
   "cell_type": "markdown",
   "metadata": {},
   "source": [
    "# Capstone Project: \n",
    "## Data Cleaning and EDA"
   ]
  },
  {
   "cell_type": "code",
   "execution_count": 1,
   "metadata": {},
   "outputs": [],
   "source": [
    "# import libaries\n",
    "import pandas as pd\n",
    "import matplotlib.pyplot as plt\n",
    "import numpy as np\n",
    "import seaborn as sns\n",
    "\n",
    "from bs4 import BeautifulSoup \n",
    "\n",
    "from nltk.tokenize import sent_tokenize, word_tokenize, RegexpTokenizer\n",
    "from nltk.corpus import stopwords \n",
    "from sklearn.feature_extraction.text import CountVectorizer, TfidfVectorizer\n",
    "\n",
    "import spacy"
   ]
  },
  {
   "cell_type": "code",
   "execution_count": 2,
   "metadata": {},
   "outputs": [],
   "source": [
    "# reading in datasets\n",
    "chew_df = pd.read_csv('data/chewtoy_df.csv')\n",
    "fetch_df = pd.read_csv('data/fetchtoy_df.csv')\n",
    "interactive_df = pd.read_csv('data/interactivetoy_df.csv')\n",
    "plush_df = pd.read_csv('data/plushtoy_df.csv')\n",
    "ropetug_df = pd.read_csv('data/ropetugtoy_df.csv')"
   ]
  },
  {
   "cell_type": "markdown",
   "metadata": {},
   "source": [
    "Looking at each dataframe first:"
   ]
  },
  {
   "cell_type": "code",
   "execution_count": 3,
   "metadata": {},
   "outputs": [
    {
     "data": {
      "text/html": [
       "<div>\n",
       "<style scoped>\n",
       "    .dataframe tbody tr th:only-of-type {\n",
       "        vertical-align: middle;\n",
       "    }\n",
       "\n",
       "    .dataframe tbody tr th {\n",
       "        vertical-align: top;\n",
       "    }\n",
       "\n",
       "    .dataframe thead th {\n",
       "        text-align: right;\n",
       "    }\n",
       "</style>\n",
       "<table border=\"1\" class=\"dataframe\">\n",
       "  <thead>\n",
       "    <tr style=\"text-align: right;\">\n",
       "      <th></th>\n",
       "      <th>title</th>\n",
       "      <th>price</th>\n",
       "      <th>descriptions</th>\n",
       "      <th>key_benefits</th>\n",
       "      <th>rating</th>\n",
       "      <th>reviews</th>\n",
       "      <th>subcat</th>\n",
       "      <th>cat</th>\n",
       "      <th>link</th>\n",
       "    </tr>\n",
       "  </thead>\n",
       "  <tbody>\n",
       "    <tr>\n",
       "      <th>0</th>\n",
       "      <td>Nylabone Teething Pacifier Puppy Chew Toy</td>\n",
       "      <td>$3.23</td>\n",
       "      <td>['Every puppy needs a pacifier to soothe teeth...</td>\n",
       "      <td>['Designed to encourage positive play and teac...</td>\n",
       "      <td>4_2</td>\n",
       "      <td>[&lt;span class=\"ugc-list__review__display\"&gt;I rea...</td>\n",
       "      <td>moderate</td>\n",
       "      <td>chew toys</td>\n",
       "      <td>https://www.chewy.com/nylabone-teething-pacifi...</td>\n",
       "    </tr>\n",
       "    <tr>\n",
       "      <th>1</th>\n",
       "      <td>KONG Puppy Dog Toy, Color Varies</td>\n",
       "      <td>$6.99</td>\n",
       "      <td>[\"The Puppy KONG dog toy is customized for a g...</td>\n",
       "      <td>['Unpredictable bounce is great for energetic ...</td>\n",
       "      <td>4_3</td>\n",
       "      <td>[&lt;span class=\"ugc-list__review__display\"&gt;I hav...</td>\n",
       "      <td>moderate</td>\n",
       "      <td>chew toys</td>\n",
       "      <td>https://www.chewy.com/kong-puppy-dog-toy-color...</td>\n",
       "    </tr>\n",
       "    <tr>\n",
       "      <th>2</th>\n",
       "      <td>Petstages Dogwood Tough Dog Chew Toy</td>\n",
       "      <td>$8.83</td>\n",
       "      <td>[\"Chewing is a natural behavior in all dogs, a...</td>\n",
       "      <td>['Chew toy that combines real wood with synthe...</td>\n",
       "      <td>4_2</td>\n",
       "      <td>[&lt;span class=\"ugc-list__review__display\"&gt;My do...</td>\n",
       "      <td>moderate</td>\n",
       "      <td>chew toys</td>\n",
       "      <td>https://www.chewy.com/petstages-dogwood-tough-...</td>\n",
       "    </tr>\n",
       "  </tbody>\n",
       "</table>\n",
       "</div>"
      ],
      "text/plain": [
       "                                       title  price  \\\n",
       "0  Nylabone Teething Pacifier Puppy Chew Toy  $3.23   \n",
       "1           KONG Puppy Dog Toy, Color Varies  $6.99   \n",
       "2       Petstages Dogwood Tough Dog Chew Toy  $8.83   \n",
       "\n",
       "                                        descriptions  \\\n",
       "0  ['Every puppy needs a pacifier to soothe teeth...   \n",
       "1  [\"The Puppy KONG dog toy is customized for a g...   \n",
       "2  [\"Chewing is a natural behavior in all dogs, a...   \n",
       "\n",
       "                                        key_benefits rating  \\\n",
       "0  ['Designed to encourage positive play and teac...    4_2   \n",
       "1  ['Unpredictable bounce is great for energetic ...    4_3   \n",
       "2  ['Chew toy that combines real wood with synthe...    4_2   \n",
       "\n",
       "                                             reviews    subcat        cat  \\\n",
       "0  [<span class=\"ugc-list__review__display\">I rea...  moderate  chew toys   \n",
       "1  [<span class=\"ugc-list__review__display\">I hav...  moderate  chew toys   \n",
       "2  [<span class=\"ugc-list__review__display\">My do...  moderate  chew toys   \n",
       "\n",
       "                                                link  \n",
       "0  https://www.chewy.com/nylabone-teething-pacifi...  \n",
       "1  https://www.chewy.com/kong-puppy-dog-toy-color...  \n",
       "2  https://www.chewy.com/petstages-dogwood-tough-...  "
      ]
     },
     "execution_count": 3,
     "metadata": {},
     "output_type": "execute_result"
    }
   ],
   "source": [
    "# Chew Toys\n",
    "chew_df.head(3)"
   ]
  },
  {
   "cell_type": "code",
   "execution_count": 4,
   "metadata": {},
   "outputs": [
    {
     "data": {
      "text/plain": [
       "(147, 9)"
      ]
     },
     "execution_count": 4,
     "metadata": {},
     "output_type": "execute_result"
    }
   ],
   "source": [
    "chew_df.shape"
   ]
  },
  {
   "cell_type": "code",
   "execution_count": 5,
   "metadata": {},
   "outputs": [
    {
     "data": {
      "text/html": [
       "<div>\n",
       "<style scoped>\n",
       "    .dataframe tbody tr th:only-of-type {\n",
       "        vertical-align: middle;\n",
       "    }\n",
       "\n",
       "    .dataframe tbody tr th {\n",
       "        vertical-align: top;\n",
       "    }\n",
       "\n",
       "    .dataframe thead th {\n",
       "        text-align: right;\n",
       "    }\n",
       "</style>\n",
       "<table border=\"1\" class=\"dataframe\">\n",
       "  <thead>\n",
       "    <tr style=\"text-align: right;\">\n",
       "      <th></th>\n",
       "      <th>title</th>\n",
       "      <th>price</th>\n",
       "      <th>descriptions</th>\n",
       "      <th>key_benefits</th>\n",
       "      <th>rating</th>\n",
       "      <th>reviews</th>\n",
       "      <th>subcat</th>\n",
       "      <th>cat</th>\n",
       "      <th>link</th>\n",
       "    </tr>\n",
       "  </thead>\n",
       "  <tbody>\n",
       "    <tr>\n",
       "      <th>0</th>\n",
       "      <td>Chuckit! Ultra Rubber Ball Tough Dog Toy</td>\n",
       "      <td>$5.24</td>\n",
       "      <td>[\"Trees, rocks, earth...it doesn't matter what...</td>\n",
       "      <td>['High bouncing balls that can be used in the ...</td>\n",
       "      <td>4_8</td>\n",
       "      <td>[&lt;span class=\"ugc-list__review__display\"&gt;My do...</td>\n",
       "      <td>balls</td>\n",
       "      <td>interactive toys</td>\n",
       "      <td>https://www.chewy.com/chuckit-ultra-rubber-bal...</td>\n",
       "    </tr>\n",
       "    <tr>\n",
       "      <th>1</th>\n",
       "      <td>As Seen on TV Wobble Wag Giggle Ball Squeaky D...</td>\n",
       "      <td>$11.99</td>\n",
       "      <td>[\"Wobble Wag Giggle Ball Dog Toy is an interac...</td>\n",
       "      <td>['Makes fun giggle sounds when moved around', ...</td>\n",
       "      <td>3_9</td>\n",
       "      <td>[&lt;span class=\"ugc-list__review__display\"&gt;My Gr...</td>\n",
       "      <td>balls</td>\n",
       "      <td>interactive toys</td>\n",
       "      <td>https://www.chewy.com/as-seen-on-tv-wobble-wag...</td>\n",
       "    </tr>\n",
       "    <tr>\n",
       "      <th>2</th>\n",
       "      <td>KONG Squeezz Ball Dog Toy, Color Varies</td>\n",
       "      <td>$2.44</td>\n",
       "      <td>['The KONG Squeezz Ball has a recessed squeake...</td>\n",
       "      <td>[\"Perfect for games of fetch because it's easy...</td>\n",
       "      <td>4_2</td>\n",
       "      <td>[&lt;span class=\"ugc-list__review__display\"&gt;Our B...</td>\n",
       "      <td>balls</td>\n",
       "      <td>interactive toys</td>\n",
       "      <td>https://www.chewy.com/kong-squeezz-ball-dog-to...</td>\n",
       "    </tr>\n",
       "  </tbody>\n",
       "</table>\n",
       "</div>"
      ],
      "text/plain": [
       "                                               title   price  \\\n",
       "0           Chuckit! Ultra Rubber Ball Tough Dog Toy   $5.24   \n",
       "1  As Seen on TV Wobble Wag Giggle Ball Squeaky D...  $11.99   \n",
       "2            KONG Squeezz Ball Dog Toy, Color Varies   $2.44   \n",
       "\n",
       "                                        descriptions  \\\n",
       "0  [\"Trees, rocks, earth...it doesn't matter what...   \n",
       "1  [\"Wobble Wag Giggle Ball Dog Toy is an interac...   \n",
       "2  ['The KONG Squeezz Ball has a recessed squeake...   \n",
       "\n",
       "                                        key_benefits rating  \\\n",
       "0  ['High bouncing balls that can be used in the ...    4_8   \n",
       "1  ['Makes fun giggle sounds when moved around', ...    3_9   \n",
       "2  [\"Perfect for games of fetch because it's easy...    4_2   \n",
       "\n",
       "                                             reviews subcat               cat  \\\n",
       "0  [<span class=\"ugc-list__review__display\">My do...  balls  interactive toys   \n",
       "1  [<span class=\"ugc-list__review__display\">My Gr...  balls  interactive toys   \n",
       "2  [<span class=\"ugc-list__review__display\">Our B...  balls  interactive toys   \n",
       "\n",
       "                                                link  \n",
       "0  https://www.chewy.com/chuckit-ultra-rubber-bal...  \n",
       "1  https://www.chewy.com/as-seen-on-tv-wobble-wag...  \n",
       "2  https://www.chewy.com/kong-squeezz-ball-dog-to...  "
      ]
     },
     "execution_count": 5,
     "metadata": {},
     "output_type": "execute_result"
    }
   ],
   "source": [
    "# Fetch Toys\n",
    "# need to drop index column -- FIX ONCE YOU FIX THE DATA COLLECTION SIDE \n",
    "# fetch_df.drop(columns=['Unnamed: 0'], inplace=True)\n",
    "\n",
    "fetch_df.head(3)"
   ]
  },
  {
   "cell_type": "code",
   "execution_count": 79,
   "metadata": {},
   "outputs": [
    {
     "data": {
      "text/plain": [
       "0      fetch toys\n",
       "1      fetch toys\n",
       "2      fetch toys\n",
       "3      fetch toys\n",
       "4      fetch toys\n",
       "          ...    \n",
       "535    fetch toys\n",
       "536    fetch toys\n",
       "537    fetch toys\n",
       "538    fetch toys\n",
       "539    fetch toys\n",
       "Name: cat, Length: 540, dtype: object"
      ]
     },
     "execution_count": 79,
     "metadata": {},
     "output_type": "execute_result"
    }
   ],
   "source": [
    "# # Need to fitch the category name for the fetch doys, bc set wrong during scraping\n",
    "# fetch_df['cat'] = 'fetch toys'\n",
    "# fetch_df['cat']"
   ]
  },
  {
   "cell_type": "code",
   "execution_count": 7,
   "metadata": {},
   "outputs": [],
   "source": [
    "# # going to merge them now into one df\n",
    "# fetch_df = pd.merge(left=fetch_df, right=ball_df, how='outer')"
   ]
  },
  {
   "cell_type": "code",
   "execution_count": 80,
   "metadata": {},
   "outputs": [
    {
     "data": {
      "text/plain": [
       "(540, 9)"
      ]
     },
     "execution_count": 80,
     "metadata": {},
     "output_type": "execute_result"
    }
   ],
   "source": [
    "fetch_df.shape"
   ]
  },
  {
   "cell_type": "code",
   "execution_count": 81,
   "metadata": {},
   "outputs": [
    {
     "data": {
      "text/html": [
       "<div>\n",
       "<style scoped>\n",
       "    .dataframe tbody tr th:only-of-type {\n",
       "        vertical-align: middle;\n",
       "    }\n",
       "\n",
       "    .dataframe tbody tr th {\n",
       "        vertical-align: top;\n",
       "    }\n",
       "\n",
       "    .dataframe thead th {\n",
       "        text-align: right;\n",
       "    }\n",
       "</style>\n",
       "<table border=\"1\" class=\"dataframe\">\n",
       "  <thead>\n",
       "    <tr style=\"text-align: right;\">\n",
       "      <th></th>\n",
       "      <th>title</th>\n",
       "      <th>price</th>\n",
       "      <th>descriptions</th>\n",
       "      <th>key_benefits</th>\n",
       "      <th>rating</th>\n",
       "      <th>reviews</th>\n",
       "      <th>link</th>\n",
       "      <th>subcat</th>\n",
       "      <th>cat</th>\n",
       "    </tr>\n",
       "  </thead>\n",
       "  <tbody>\n",
       "    <tr>\n",
       "      <th>0</th>\n",
       "      <td>KONG Puppy Dog Toy, Color Varies</td>\n",
       "      <td>$6.99</td>\n",
       "      <td>[\"The Puppy KONG dog toy is customized for a g...</td>\n",
       "      <td>['Unpredictable bounce is great for energetic ...</td>\n",
       "      <td>4_3</td>\n",
       "      <td>[&lt;span class=\"ugc-list__review__display\"&gt;I hav...</td>\n",
       "      <td>https://www.chewy.com/kong-puppy-dog-toy-color...</td>\n",
       "      <td>treat toys &amp; dispensers</td>\n",
       "      <td>interactive toys</td>\n",
       "    </tr>\n",
       "    <tr>\n",
       "      <th>1</th>\n",
       "      <td>Starmark Everlasting Treat Bento Ball Tough Do...</td>\n",
       "      <td>$12.16</td>\n",
       "      <td>[\"The Everlasting Treat Bento Ball is a fun wa...</td>\n",
       "      <td>['Includes an edible chicken-flavored treat - ...</td>\n",
       "      <td>3_3</td>\n",
       "      <td>[&lt;span class=\"ugc-list__review__display\"&gt;I lik...</td>\n",
       "      <td>https://www.chewy.com/starmark-everlasting-tre...</td>\n",
       "      <td>treat toys &amp; dispensers</td>\n",
       "      <td>interactive toys</td>\n",
       "    </tr>\n",
       "    <tr>\n",
       "      <th>2</th>\n",
       "      <td>Pet Zone IQ Treat Dispenser Ball Dog Toy</td>\n",
       "      <td>$12.45</td>\n",
       "      <td>['Have your pet work for his treats with the P...</td>\n",
       "      <td>['Mentally and physically engages your dog to ...</td>\n",
       "      <td>3_7</td>\n",
       "      <td>[&lt;span class=\"ugc-list__review__display\"&gt;Roxy ...</td>\n",
       "      <td>https://www.chewy.com/pet-zone-iq-treat-dispen...</td>\n",
       "      <td>treat toys &amp; dispensers</td>\n",
       "      <td>interactive toys</td>\n",
       "    </tr>\n",
       "  </tbody>\n",
       "</table>\n",
       "</div>"
      ],
      "text/plain": [
       "                                               title   price  \\\n",
       "0                   KONG Puppy Dog Toy, Color Varies   $6.99   \n",
       "1  Starmark Everlasting Treat Bento Ball Tough Do...  $12.16   \n",
       "2           Pet Zone IQ Treat Dispenser Ball Dog Toy  $12.45   \n",
       "\n",
       "                                        descriptions  \\\n",
       "0  [\"The Puppy KONG dog toy is customized for a g...   \n",
       "1  [\"The Everlasting Treat Bento Ball is a fun wa...   \n",
       "2  ['Have your pet work for his treats with the P...   \n",
       "\n",
       "                                        key_benefits rating  \\\n",
       "0  ['Unpredictable bounce is great for energetic ...    4_3   \n",
       "1  ['Includes an edible chicken-flavored treat - ...    3_3   \n",
       "2  ['Mentally and physically engages your dog to ...    3_7   \n",
       "\n",
       "                                             reviews  \\\n",
       "0  [<span class=\"ugc-list__review__display\">I hav...   \n",
       "1  [<span class=\"ugc-list__review__display\">I lik...   \n",
       "2  [<span class=\"ugc-list__review__display\">Roxy ...   \n",
       "\n",
       "                                                link                   subcat  \\\n",
       "0  https://www.chewy.com/kong-puppy-dog-toy-color...  treat toys & dispensers   \n",
       "1  https://www.chewy.com/starmark-everlasting-tre...  treat toys & dispensers   \n",
       "2  https://www.chewy.com/pet-zone-iq-treat-dispen...  treat toys & dispensers   \n",
       "\n",
       "                cat  \n",
       "0  interactive toys  \n",
       "1  interactive toys  \n",
       "2  interactive toys  "
      ]
     },
     "execution_count": 81,
     "metadata": {},
     "output_type": "execute_result"
    }
   ],
   "source": [
    "# Interactive Toys \n",
    "interactive_df.head(3)"
   ]
  },
  {
   "cell_type": "code",
   "execution_count": 82,
   "metadata": {},
   "outputs": [
    {
     "data": {
      "text/plain": [
       "(290, 9)"
      ]
     },
     "execution_count": 82,
     "metadata": {},
     "output_type": "execute_result"
    }
   ],
   "source": [
    "interactive_df.shape"
   ]
  },
  {
   "cell_type": "code",
   "execution_count": 83,
   "metadata": {},
   "outputs": [
    {
     "data": {
      "text/html": [
       "<div>\n",
       "<style scoped>\n",
       "    .dataframe tbody tr th:only-of-type {\n",
       "        vertical-align: middle;\n",
       "    }\n",
       "\n",
       "    .dataframe tbody tr th {\n",
       "        vertical-align: top;\n",
       "    }\n",
       "\n",
       "    .dataframe thead th {\n",
       "        text-align: right;\n",
       "    }\n",
       "</style>\n",
       "<table border=\"1\" class=\"dataframe\">\n",
       "  <thead>\n",
       "    <tr style=\"text-align: right;\">\n",
       "      <th></th>\n",
       "      <th>title</th>\n",
       "      <th>price</th>\n",
       "      <th>descriptions</th>\n",
       "      <th>key_benefits</th>\n",
       "      <th>rating</th>\n",
       "      <th>reviews</th>\n",
       "      <th>subcat</th>\n",
       "      <th>cat</th>\n",
       "      <th>link</th>\n",
       "    </tr>\n",
       "  </thead>\n",
       "  <tbody>\n",
       "    <tr>\n",
       "      <th>0</th>\n",
       "      <td>KONG Cozie Marvin the Moose Plush Dog Toy</td>\n",
       "      <td>$4.99</td>\n",
       "      <td>['The KONG Cozies are cute, soft and cuddly pl...</td>\n",
       "      <td>['Soft and cuddly plush toys made with an extr...</td>\n",
       "      <td>4_0</td>\n",
       "      <td>[&lt;span class=\"ugc-list__review__display\"&gt;This ...</td>\n",
       "      <td>stuffed</td>\n",
       "      <td>plush toys</td>\n",
       "      <td>https://www.chewy.com/kong-cozie-marvin-moose-...</td>\n",
       "    </tr>\n",
       "    <tr>\n",
       "      <th>1</th>\n",
       "      <td>KONG Cozie Baily the Blue Dog Toy</td>\n",
       "      <td>$5.82</td>\n",
       "      <td>['The KONG Cozies are cute, soft and cuddly pl...</td>\n",
       "      <td>['Soft and cuddly plush toys made with an extr...</td>\n",
       "      <td>4_1</td>\n",
       "      <td>[&lt;span class=\"ugc-list__review__display\"&gt;This ...</td>\n",
       "      <td>stuffed</td>\n",
       "      <td>plush toys</td>\n",
       "      <td>https://www.chewy.com/kong-cozie-baily-blue-do...</td>\n",
       "    </tr>\n",
       "    <tr>\n",
       "      <th>2</th>\n",
       "      <td>Frisco Plush with Rope Squeaking Monkey Dog Toy</td>\n",
       "      <td>$5.98</td>\n",
       "      <td>['Toss, squeak, repeat—bring on every game wit...</td>\n",
       "      <td>['Plush monkey dog toy features a built-in squ...</td>\n",
       "      <td>4_4</td>\n",
       "      <td>[&lt;span class=\"ugc-list__review__display\"&gt;As ot...</td>\n",
       "      <td>stuffed</td>\n",
       "      <td>plush toys</td>\n",
       "      <td>https://www.chewy.com/frisco-plush-rope-squeak...</td>\n",
       "    </tr>\n",
       "  </tbody>\n",
       "</table>\n",
       "</div>"
      ],
      "text/plain": [
       "                                             title  price  \\\n",
       "0        KONG Cozie Marvin the Moose Plush Dog Toy  $4.99   \n",
       "1                KONG Cozie Baily the Blue Dog Toy  $5.82   \n",
       "2  Frisco Plush with Rope Squeaking Monkey Dog Toy  $5.98   \n",
       "\n",
       "                                        descriptions  \\\n",
       "0  ['The KONG Cozies are cute, soft and cuddly pl...   \n",
       "1  ['The KONG Cozies are cute, soft and cuddly pl...   \n",
       "2  ['Toss, squeak, repeat—bring on every game wit...   \n",
       "\n",
       "                                        key_benefits rating  \\\n",
       "0  ['Soft and cuddly plush toys made with an extr...    4_0   \n",
       "1  ['Soft and cuddly plush toys made with an extr...    4_1   \n",
       "2  ['Plush monkey dog toy features a built-in squ...    4_4   \n",
       "\n",
       "                                             reviews   subcat         cat  \\\n",
       "0  [<span class=\"ugc-list__review__display\">This ...  stuffed  plush toys   \n",
       "1  [<span class=\"ugc-list__review__display\">This ...  stuffed  plush toys   \n",
       "2  [<span class=\"ugc-list__review__display\">As ot...  stuffed  plush toys   \n",
       "\n",
       "                                                link  \n",
       "0  https://www.chewy.com/kong-cozie-marvin-moose-...  \n",
       "1  https://www.chewy.com/kong-cozie-baily-blue-do...  \n",
       "2  https://www.chewy.com/frisco-plush-rope-squeak...  "
      ]
     },
     "execution_count": 83,
     "metadata": {},
     "output_type": "execute_result"
    }
   ],
   "source": [
    "plush_df.head(3)"
   ]
  },
  {
   "cell_type": "code",
   "execution_count": 84,
   "metadata": {},
   "outputs": [
    {
     "data": {
      "text/plain": [
       "(1281, 9)"
      ]
     },
     "execution_count": 84,
     "metadata": {},
     "output_type": "execute_result"
    }
   ],
   "source": [
    "plush_df.shape"
   ]
  },
  {
   "cell_type": "code",
   "execution_count": 85,
   "metadata": {},
   "outputs": [
    {
     "data": {
      "text/html": [
       "<div>\n",
       "<style scoped>\n",
       "    .dataframe tbody tr th:only-of-type {\n",
       "        vertical-align: middle;\n",
       "    }\n",
       "\n",
       "    .dataframe tbody tr th {\n",
       "        vertical-align: top;\n",
       "    }\n",
       "\n",
       "    .dataframe thead th {\n",
       "        text-align: right;\n",
       "    }\n",
       "</style>\n",
       "<table border=\"1\" class=\"dataframe\">\n",
       "  <thead>\n",
       "    <tr style=\"text-align: right;\">\n",
       "      <th></th>\n",
       "      <th>title</th>\n",
       "      <th>price</th>\n",
       "      <th>descriptions</th>\n",
       "      <th>key_benefits</th>\n",
       "      <th>rating</th>\n",
       "      <th>reviews</th>\n",
       "      <th>link</th>\n",
       "      <th>subcat</th>\n",
       "      <th>cat</th>\n",
       "    </tr>\n",
       "  </thead>\n",
       "  <tbody>\n",
       "    <tr>\n",
       "      <th>0</th>\n",
       "      <td>Chuckit! Amphibious Bumper Dog Toy, Color Varies</td>\n",
       "      <td>$9.95</td>\n",
       "      <td>[\"Games of tug-of-war don't need to end just b...</td>\n",
       "      <td>['Designed for exceptional visibility and perf...</td>\n",
       "      <td>4_2</td>\n",
       "      <td>[&lt;span class=\"ugc-list__review__display\"&gt;Omg! ...</td>\n",
       "      <td>https://www.chewy.com/chuckit-amphibious-bumpe...</td>\n",
       "      <td>rope_tug_toys</td>\n",
       "      <td>rope &amp; tug toys</td>\n",
       "    </tr>\n",
       "    <tr>\n",
       "      <th>1</th>\n",
       "      <td>KONG SqueakStix Dog Toy</td>\n",
       "      <td>$13.99</td>\n",
       "      <td>['Give your chewsy pooch a stick that will sti...</td>\n",
       "      <td>['Extra-long, durable design built for easy ga...</td>\n",
       "      <td>4_2</td>\n",
       "      <td>[&lt;span class=\"ugc-list__review__display\"&gt;My do...</td>\n",
       "      <td>https://www.chewy.com/kong-squeakstix-dog-toy-...</td>\n",
       "      <td>rope_tug_toys</td>\n",
       "      <td>rope &amp; tug toys</td>\n",
       "    </tr>\n",
       "    <tr>\n",
       "      <th>2</th>\n",
       "      <td>Booda Fresh N Floss Spearmint 3-Knot Rope Dog Toy</td>\n",
       "      <td>$4.16</td>\n",
       "      <td>[\"With Booda Fresh N' Floss, you can finally g...</td>\n",
       "      <td>['Combines durable cotton with mint-scented fl...</td>\n",
       "      <td>4_2</td>\n",
       "      <td>[&lt;span class=\"ugc-list__review__display\"&gt;Bough...</td>\n",
       "      <td>https://www.chewy.com/booda-fresh-n-floss-spea...</td>\n",
       "      <td>rope_tug_toys</td>\n",
       "      <td>rope &amp; tug toys</td>\n",
       "    </tr>\n",
       "  </tbody>\n",
       "</table>\n",
       "</div>"
      ],
      "text/plain": [
       "                                               title   price  \\\n",
       "0   Chuckit! Amphibious Bumper Dog Toy, Color Varies   $9.95   \n",
       "1                            KONG SqueakStix Dog Toy  $13.99   \n",
       "2  Booda Fresh N Floss Spearmint 3-Knot Rope Dog Toy   $4.16   \n",
       "\n",
       "                                        descriptions  \\\n",
       "0  [\"Games of tug-of-war don't need to end just b...   \n",
       "1  ['Give your chewsy pooch a stick that will sti...   \n",
       "2  [\"With Booda Fresh N' Floss, you can finally g...   \n",
       "\n",
       "                                        key_benefits rating  \\\n",
       "0  ['Designed for exceptional visibility and perf...    4_2   \n",
       "1  ['Extra-long, durable design built for easy ga...    4_2   \n",
       "2  ['Combines durable cotton with mint-scented fl...    4_2   \n",
       "\n",
       "                                             reviews  \\\n",
       "0  [<span class=\"ugc-list__review__display\">Omg! ...   \n",
       "1  [<span class=\"ugc-list__review__display\">My do...   \n",
       "2  [<span class=\"ugc-list__review__display\">Bough...   \n",
       "\n",
       "                                                link         subcat  \\\n",
       "0  https://www.chewy.com/chuckit-amphibious-bumpe...  rope_tug_toys   \n",
       "1  https://www.chewy.com/kong-squeakstix-dog-toy-...  rope_tug_toys   \n",
       "2  https://www.chewy.com/booda-fresh-n-floss-spea...  rope_tug_toys   \n",
       "\n",
       "               cat  \n",
       "0  rope & tug toys  \n",
       "1  rope & tug toys  \n",
       "2  rope & tug toys  "
      ]
     },
     "execution_count": 85,
     "metadata": {},
     "output_type": "execute_result"
    }
   ],
   "source": [
    "ropetug_df.head(3)"
   ]
  },
  {
   "cell_type": "code",
   "execution_count": 86,
   "metadata": {},
   "outputs": [
    {
     "data": {
      "text/plain": [
       "(309, 9)"
      ]
     },
     "execution_count": 86,
     "metadata": {},
     "output_type": "execute_result"
    }
   ],
   "source": [
    "ropetug_df.shape"
   ]
  },
  {
   "cell_type": "markdown",
   "metadata": {},
   "source": [
    "### Merge dataframes into one large dataframe"
   ]
  },
  {
   "cell_type": "code",
   "execution_count": 87,
   "metadata": {},
   "outputs": [
    {
     "data": {
      "text/plain": [
       "2567"
      ]
     },
     "execution_count": 87,
     "metadata": {},
     "output_type": "execute_result"
    }
   ],
   "source": [
    "# How many rows should be in the combined dataframe\n",
    "chew_df.shape[0] + fetch_df.shape[0] + interactive_df.shape[0] + plush_df.shape[0] + ropetug_df.shape[0]"
   ]
  },
  {
   "cell_type": "code",
   "execution_count": 88,
   "metadata": {},
   "outputs": [],
   "source": [
    "# merging the dataframes together into one large one, df\n",
    "df = pd.merge(left=chew_df, right=fetch_df, how='outer')\n",
    "df = pd.merge(left=df, right=interactive_df, how='outer')\n",
    "df = pd.merge(left=df, right=plush_df, how='outer')\n",
    "df = pd.merge(left=df, right=ropetug_df, how='outer')"
   ]
  },
  {
   "cell_type": "code",
   "execution_count": 89,
   "metadata": {},
   "outputs": [
    {
     "name": "stdout",
     "output_type": "stream",
     "text": [
      "<class 'pandas.core.frame.DataFrame'>\n",
      "Int64Index: 2567 entries, 0 to 2566\n",
      "Data columns (total 9 columns):\n",
      " #   Column        Non-Null Count  Dtype \n",
      "---  ------        --------------  ----- \n",
      " 0   title         2567 non-null   object\n",
      " 1   price         2567 non-null   object\n",
      " 2   descriptions  2567 non-null   object\n",
      " 3   key_benefits  2557 non-null   object\n",
      " 4   rating        2567 non-null   object\n",
      " 5   reviews       2567 non-null   object\n",
      " 6   subcat        2567 non-null   object\n",
      " 7   cat           2567 non-null   object\n",
      " 8   link          2567 non-null   object\n",
      "dtypes: object(9)\n",
      "memory usage: 200.5+ KB\n"
     ]
    }
   ],
   "source": [
    "df.info()"
   ]
  },
  {
   "cell_type": "markdown",
   "metadata": {},
   "source": [
    "**Looking at the different datatypes, I note that I will have to change both price and ratings to floats.**"
   ]
  },
  {
   "cell_type": "markdown",
   "metadata": {},
   "source": [
    "First to look at Price column."
   ]
  },
  {
   "cell_type": "code",
   "execution_count": 90,
   "metadata": {},
   "outputs": [],
   "source": [
    "# To first get rid of the '$' in the price column \n",
    "df['price'] = df['price'].map(lambda x: x[1:])"
   ]
  },
  {
   "cell_type": "code",
   "execution_count": 91,
   "metadata": {},
   "outputs": [],
   "source": [
    "# To change the type to float\n",
    "df['price'] = df['price'].astype(float)"
   ]
  },
  {
   "cell_type": "code",
   "execution_count": 92,
   "metadata": {},
   "outputs": [
    {
     "data": {
      "text/plain": [
       "0        3.23\n",
       "1        6.99\n",
       "2        8.83\n",
       "3       12.99\n",
       "4       12.49\n",
       "        ...  \n",
       "2562     8.96\n",
       "2563    79.99\n",
       "2564     2.66\n",
       "2565     9.99\n",
       "2566    10.39\n",
       "Name: price, Length: 2567, dtype: float64"
      ]
     },
     "execution_count": 92,
     "metadata": {},
     "output_type": "execute_result"
    }
   ],
   "source": [
    "# Checking to make sure changes held\n",
    "df['price']"
   ]
  },
  {
   "cell_type": "markdown",
   "metadata": {},
   "source": [
    "Now to look at ratings."
   ]
  },
  {
   "cell_type": "code",
   "execution_count": 93,
   "metadata": {},
   "outputs": [],
   "source": [
    "# Need to replace the '_' with \".\"\n",
    "df['rating'] = df['rating'].map(lambda x: f'{x[0]}.{x[2]}')"
   ]
  },
  {
   "cell_type": "code",
   "execution_count": 94,
   "metadata": {},
   "outputs": [],
   "source": [
    "# Now convertin the rating to float\n",
    "df['rating'] = df['rating'].astype(float)"
   ]
  },
  {
   "cell_type": "code",
   "execution_count": 95,
   "metadata": {},
   "outputs": [
    {
     "data": {
      "text/plain": [
       "0       4.2\n",
       "1       4.3\n",
       "2       4.2\n",
       "3       4.5\n",
       "4       4.0\n",
       "       ... \n",
       "2562    0.0\n",
       "2563    0.0\n",
       "2564    0.0\n",
       "2565    3.8\n",
       "2566    2.6\n",
       "Name: rating, Length: 2567, dtype: float64"
      ]
     },
     "execution_count": 95,
     "metadata": {},
     "output_type": "execute_result"
    }
   ],
   "source": [
    "# Checking the rating column\n",
    "df['rating']"
   ]
  },
  {
   "cell_type": "markdown",
   "metadata": {},
   "source": [
    "**Now to look at the descriptions and key_benefits columns**"
   ]
  },
  {
   "cell_type": "code",
   "execution_count": 96,
   "metadata": {},
   "outputs": [
    {
     "data": {
      "text/html": [
       "<div>\n",
       "<style scoped>\n",
       "    .dataframe tbody tr th:only-of-type {\n",
       "        vertical-align: middle;\n",
       "    }\n",
       "\n",
       "    .dataframe tbody tr th {\n",
       "        vertical-align: top;\n",
       "    }\n",
       "\n",
       "    .dataframe thead th {\n",
       "        text-align: right;\n",
       "    }\n",
       "</style>\n",
       "<table border=\"1\" class=\"dataframe\">\n",
       "  <thead>\n",
       "    <tr style=\"text-align: right;\">\n",
       "      <th></th>\n",
       "      <th>descriptions</th>\n",
       "      <th>key_benefits</th>\n",
       "    </tr>\n",
       "  </thead>\n",
       "  <tbody>\n",
       "    <tr>\n",
       "      <th>0</th>\n",
       "      <td>['Every puppy needs a pacifier to soothe teeth...</td>\n",
       "      <td>['Designed to encourage positive play and teac...</td>\n",
       "    </tr>\n",
       "    <tr>\n",
       "      <th>1</th>\n",
       "      <td>[\"The Puppy KONG dog toy is customized for a g...</td>\n",
       "      <td>['Unpredictable bounce is great for energetic ...</td>\n",
       "    </tr>\n",
       "    <tr>\n",
       "      <th>2</th>\n",
       "      <td>[\"Chewing is a natural behavior in all dogs, a...</td>\n",
       "      <td>['Chew toy that combines real wood with synthe...</td>\n",
       "    </tr>\n",
       "    <tr>\n",
       "      <th>3</th>\n",
       "      <td>[\"Give your furry friend a reliable and fun pl...</td>\n",
       "      <td>['Made in the USA from globally sourced materi...</td>\n",
       "    </tr>\n",
       "    <tr>\n",
       "      <th>4</th>\n",
       "      <td>['Help fulfill your dog’s natural chewing inst...</td>\n",
       "      <td>[\"Real wood and a strong nylon chew toy won't ...</td>\n",
       "    </tr>\n",
       "    <tr>\n",
       "      <th>...</th>\n",
       "      <td>...</td>\n",
       "      <td>...</td>\n",
       "    </tr>\n",
       "    <tr>\n",
       "      <th>2562</th>\n",
       "      <td>['Get your furry friend ready for tipoff with ...</td>\n",
       "      <td>['Squeaker on the inside to keep your furry fr...</td>\n",
       "    </tr>\n",
       "    <tr>\n",
       "      <th>2563</th>\n",
       "      <td>['Train your aspiring or experienced athlete i...</td>\n",
       "      <td>['Includes 58.5-inch tunnel, 2 vertical poles,...</td>\n",
       "    </tr>\n",
       "    <tr>\n",
       "      <th>2564</th>\n",
       "      <td>['Give Spot a fun new knot to trot, chew and t...</td>\n",
       "      <td>['Spot will love the intricacies of his new kn...</td>\n",
       "    </tr>\n",
       "    <tr>\n",
       "      <th>2565</th>\n",
       "      <td>['If your dog loves tug of war, the Squishy Fa...</td>\n",
       "      <td>['Designed to be used on its own, or as a repl...</td>\n",
       "    </tr>\n",
       "    <tr>\n",
       "      <th>2566</th>\n",
       "      <td>['Your furry companion is going to have a blas...</td>\n",
       "      <td>['Lights up with every bounce to capture your ...</td>\n",
       "    </tr>\n",
       "  </tbody>\n",
       "</table>\n",
       "<p>2567 rows × 2 columns</p>\n",
       "</div>"
      ],
      "text/plain": [
       "                                           descriptions  \\\n",
       "0     ['Every puppy needs a pacifier to soothe teeth...   \n",
       "1     [\"The Puppy KONG dog toy is customized for a g...   \n",
       "2     [\"Chewing is a natural behavior in all dogs, a...   \n",
       "3     [\"Give your furry friend a reliable and fun pl...   \n",
       "4     ['Help fulfill your dog’s natural chewing inst...   \n",
       "...                                                 ...   \n",
       "2562  ['Get your furry friend ready for tipoff with ...   \n",
       "2563  ['Train your aspiring or experienced athlete i...   \n",
       "2564  ['Give Spot a fun new knot to trot, chew and t...   \n",
       "2565  ['If your dog loves tug of war, the Squishy Fa...   \n",
       "2566  ['Your furry companion is going to have a blas...   \n",
       "\n",
       "                                           key_benefits  \n",
       "0     ['Designed to encourage positive play and teac...  \n",
       "1     ['Unpredictable bounce is great for energetic ...  \n",
       "2     ['Chew toy that combines real wood with synthe...  \n",
       "3     ['Made in the USA from globally sourced materi...  \n",
       "4     [\"Real wood and a strong nylon chew toy won't ...  \n",
       "...                                                 ...  \n",
       "2562  ['Squeaker on the inside to keep your furry fr...  \n",
       "2563  ['Includes 58.5-inch tunnel, 2 vertical poles,...  \n",
       "2564  ['Spot will love the intricacies of his new kn...  \n",
       "2565  ['Designed to be used on its own, or as a repl...  \n",
       "2566  ['Lights up with every bounce to capture your ...  \n",
       "\n",
       "[2567 rows x 2 columns]"
      ]
     },
     "execution_count": 96,
     "metadata": {},
     "output_type": "execute_result"
    }
   ],
   "source": [
    "df[['descriptions', 'key_benefits']]"
   ]
  },
  {
   "cell_type": "markdown",
   "metadata": {},
   "source": [
    "Looking at Descriptions"
   ]
  },
  {
   "cell_type": "code",
   "execution_count": 97,
   "metadata": {},
   "outputs": [
    {
     "data": {
      "text/plain": [
       "\"['Every puppy needs a pacifier to soothe teething pain, look cute, and exercise his chompers for a life filled with treats! The Nylabone Puppy Teething Pacifier Dog Chew Toy gives your brand-new pup two chews to choose from. Both have raised nubs that stimulate gums and teeth, and both cost less than replacing a chewed up pair of shoes.\\\\xa0Designed for teething puppies up to 25 pounds - Not recommended for adult dogs or puppies with any permanent teeth.\\\\xa0', 'Recommended for puppies up to 25 pounds only. Every dog plays differently and, since not all toys are created equal, it’s always best to keep a close watch on your pup in case things get ruff. Supervised play will help toys last longer and most importantly keep your pal safe. No dog toy is truly indestructible, so always remove the toy from playtime if pieces begin to break off.', '\\\\n\\\\n                        See all items by Nylabone\\\\n']\""
      ]
     },
     "execution_count": 97,
     "metadata": {},
     "output_type": "execute_result"
    }
   ],
   "source": [
    "df['descriptions'][0]"
   ]
  },
  {
   "cell_type": "code",
   "execution_count": 98,
   "metadata": {},
   "outputs": [],
   "source": [
    "# To get rid of some characters from scraping the data that I don't want in the text \n",
    "df['descriptions'] = df['descriptions'].map(lambda x: x.replace('[', ''))\n",
    "df['descriptions'] = df['descriptions'].map(lambda x: x.replace(']', ''))\n",
    "df['descriptions'] = df['descriptions'].map(lambda x: x.replace('\\\\n', ''))\n",
    "df['descriptions'] = df['descriptions'].map(lambda x: x.replace('\\\\xa0', ''))"
   ]
  },
  {
   "cell_type": "markdown",
   "metadata": {},
   "source": [
    "Looking at Key Benefits"
   ]
  },
  {
   "cell_type": "code",
   "execution_count": 99,
   "metadata": {},
   "outputs": [
    {
     "data": {
      "text/plain": [
       "0       ['Designed to encourage positive play and teac...\n",
       "1       ['Unpredictable bounce is great for energetic ...\n",
       "2       ['Chew toy that combines real wood with synthe...\n",
       "3       ['Made in the USA from globally sourced materi...\n",
       "4       [\"Real wood and a strong nylon chew toy won't ...\n",
       "                              ...                        \n",
       "2562    ['Squeaker on the inside to keep your furry fr...\n",
       "2563    ['Includes 58.5-inch tunnel, 2 vertical poles,...\n",
       "2564    ['Spot will love the intricacies of his new kn...\n",
       "2565    ['Designed to be used on its own, or as a repl...\n",
       "2566    ['Lights up with every bounce to capture your ...\n",
       "Name: key_benefits, Length: 2567, dtype: object"
      ]
     },
     "execution_count": 99,
     "metadata": {},
     "output_type": "execute_result"
    }
   ],
   "source": [
    "df['key_benefits']"
   ]
  },
  {
   "cell_type": "code",
   "execution_count": 100,
   "metadata": {},
   "outputs": [],
   "source": [
    "# Doing the same things to key_benefits\n",
    "df['key_benefits'] = df['key_benefits'].apply(lambda x: str(x).replace('[', ''))\n",
    "df['key_benefits'] = df['key_benefits'].apply(lambda x: str(x).replace(']', ''))\n",
    "df['key_benefits'] = df['key_benefits'].apply(lambda x: str(x).replace(\"\\\\\", ''))\n",
    "df['key_benefits'] = df['key_benefits'].apply(lambda x: str(x).replace(\"\\'\", ''))"
   ]
  },
  {
   "cell_type": "code",
   "execution_count": 101,
   "metadata": {},
   "outputs": [
    {
     "data": {
      "text/plain": [
       "'Designed to encourage positive play and teach your puppy healthy chewing habits from an early age., Keep them happy, busy and entertained while nubs help to clean teeth, reduce plaque and tartar, and promote proper oral hygiene., \"Satisfies the needs of your teething puppy with a toy thats safe and designed for pets that dont have permanent teeth.\", Vet-recommended teething toy for puppies so you can feel confident about giving this to your pet., Bright colors help keep your pet entertained and engaged.'"
      ]
     },
     "execution_count": 101,
     "metadata": {},
     "output_type": "execute_result"
    }
   ],
   "source": [
    "df['key_benefits'][0]"
   ]
  },
  {
   "cell_type": "markdown",
   "metadata": {},
   "source": [
    "### Now going to look at reviews\n",
    "For some reason when I scraped the review, there was a bit of extra parts that were included from Beautiful Soup. However, this is an easy fix because they are all the same thing I believe, so I should just be able to remove them all easily. "
   ]
  },
  {
   "cell_type": "code",
   "execution_count": 102,
   "metadata": {},
   "outputs": [
    {
     "data": {
      "text/plain": [
       "'[<span class=\"ugc-list__review__display\">I read the reviews and thought we\\'d be safe. We have a 3 month border collie mix puppy, and most of the reviews that this didn\\'t work for have dogs that were bigger or better chewers, so I thought. I didn\\'t think she would get through it as fast as she did. The pink one was chewed up in less than an hour. She really loved it, but we can\\'t safely let her keep chomping it.</span>, <span class=\"ugc-list__review__display\">I do not know how to rate this. The puppy this was purchased for is a 10 wk. old Irish Wolfhound.\\nShe carries this toy around quite a bit; however, she does not chew on it.  I do not know if it is the texture or the hardness of it.  She chews her other toys that are smoother and less hard.  I believe that it is this puppy’s preference and nothing to do with the toy itself. That is why I gave it a three; I have no clue as to how it will hold up if she does ever actually chew it.</span>, <span class=\"ugc-list__review__display\">I was impressed with the toy at first, being it is made from a hard plastic.  However when I gave this to my pup, he had it chewed up in less than an hour!!  I do not recommend this toy for dogs who chew on everything or bigger breed pups.  I ordered this with 2 squeak toys which I refuse to give him those as I know he will destroy them in no time as well.</span>, <span class=\"ugc-list__review__display\">this is the winner of our chewy haul. ordered a variety of chew toys to try out for our new puppy and so far this is her favorite. she\\'s only 9 weeks old, and like chewing on our fingers (ouch!) this toy is just slightly softer than a normal chew toy and she loves it. having a couple toys and ring seems to entertain her more than a typical bone. will it last forever? probably not. but nice to not have puppy shark teeth attacking my fingers.</span>, <span class=\"ugc-list__review__display\">I have a 3 month old GoldenDoodle he loved this in the first few days I gave it to him and the other weeks had past and he still plays with it and it’s definitely in his top 5 he plays with most but when I was washing his toys for its weekly wash I have been noticing teeth marks on the ring and some on the toys but I didn’t think much about since there was nothing that bad on it that would choke or do something bad to him. but right now he is playing with it and it’s in pretty good shape just hopefully nothing bad happens!</span>, <span class=\"ugc-list__review__display\">This is well made, but our puppy is totally disinterested in it.  I thought it would be a great chewy toy, but even when I give it to him and try to pull and entice him to play with it, he doesn\\'t care.  He goes off to find something else.  This could just be my dog, I have no idea how other pups would react.</span>, <span class=\"ugc-list__review__display\">Good quality.  Bought this for the pup as she is starting to teeth.  The toy is a little bigger than I expected but that is ok.  I appreciate that there is two chewys on the ring.  I put them in the freezer for awhile and then give them to the pooch.  The bumpies on the chewys in addition to the cold from the freezer helps keep her interested.</span>, <span class=\"ugc-list__review__display\">This is a great chew toy for our puppies! We had gone to purchase puppy chew toys at stores because we needed something right away, and the stores only had plushies and kongs! We don\\'t use plushies because the puppies chew them and eat the bits, and the kongs were just too big. These are perfect for our 8 week old puppies to teath on and they love them!</span>, <span class=\"ugc-list__review__display\">This is one of the first chew toys I bought my pup when we got him. I thought it was cute. He loved it. So did my older pups. (the other two are 5). It\\'s been chewed until it\\'s just nubs and a ring. So I buy another.  I\\'m not sure how many I\\'ve purchased but I keep buying them when they start to break because my pup (who is now a 14 month old 50 lb chinese shar pei) loves this and who am I to say no? so, yes, I know it\\'s for teethers, but my lil\\' guy said he\\'s still teething and to give him his binky back.</span>, <span class=\"ugc-list__review__display\">These keys are just right for puppies with biting/teething issues. The keys give them something to help wean the teething process in an hopefully save your skin from bleeding as much from Sharp puppy teeth. In the end these keys are Awesome toy for your fur baby</span>]'"
      ]
     },
     "execution_count": 102,
     "metadata": {},
     "output_type": "execute_result"
    }
   ],
   "source": [
    "# Going to look at the first toy's reviews\n",
    "df['reviews'][0]"
   ]
  },
  {
   "cell_type": "markdown",
   "metadata": {},
   "source": [
    "The html object, '\\<span class=\"ugc-list__review__display\">' needed to be removed along with '\\</span>' and other characters that will be unneccessary. "
   ]
  },
  {
   "cell_type": "code",
   "execution_count": 103,
   "metadata": {},
   "outputs": [],
   "source": [
    "# df['reviews'] = df['reviews'].apply(lambda x: str(x).replace('<span class=\"ugc-list__review__display\">', ''))\n",
    "# df['reviews'] = df['reviews'].apply(lambda x: str(x).replace('</span>', ''))\n",
    "df['reviews'] = df['reviews'].apply(lambda x: BeautifulSoup(x).get_text())\n",
    "df['reviews'] = df['reviews'].apply(lambda x: str(x).replace('[', ''))\n",
    "df['reviews'] = df['reviews'].apply(lambda x: str(x).replace(']', ''))\n",
    "df['reviews'] = df['reviews'].apply(lambda x: str(x).replace('\\\\', ''))"
   ]
  },
  {
   "cell_type": "code",
   "execution_count": 104,
   "metadata": {},
   "outputs": [
    {
     "data": {
      "text/plain": [
       "\"I read the reviews and thought we'd be safe. We have a 3 month border collie mix puppy, and most of the reviews that this didn't work for have dogs that were bigger or better chewers, so I thought. I didn't think she would get through it as fast as she did. The pink one was chewed up in less than an hour. She really loved it, but we can't safely let her keep chomping it., I do not know how to rate this. The puppy this was purchased for is a 10 wk. old Irish Wolfhound.\\nShe carries this toy around quite a bit; however, she does not chew on it.  I do not know if it is the texture or the hardness of it.  She chews her other toys that are smoother and less hard.  I believe that it is this puppy’s preference and nothing to do with the toy itself. That is why I gave it a three; I have no clue as to how it will hold up if she does ever actually chew it., I was impressed with the toy at first, being it is made from a hard plastic.  However when I gave this to my pup, he had it chewed up in less than an hour!!  I do not recommend this toy for dogs who chew on everything or bigger breed pups.  I ordered this with 2 squeak toys which I refuse to give him those as I know he will destroy them in no time as well., this is the winner of our chewy haul. ordered a variety of chew toys to try out for our new puppy and so far this is her favorite. she's only 9 weeks old, and like chewing on our fingers (ouch!) this toy is just slightly softer than a normal chew toy and she loves it. having a couple toys and ring seems to entertain her more than a typical bone. will it last forever? probably not. but nice to not have puppy shark teeth attacking my fingers., I have a 3 month old GoldenDoodle he loved this in the first few days I gave it to him and the other weeks had past and he still plays with it and it’s definitely in his top 5 he plays with most but when I was washing his toys for its weekly wash I have been noticing teeth marks on the ring and some on the toys but I didn’t think much about since there was nothing that bad on it that would choke or do something bad to him. but right now he is playing with it and it’s in pretty good shape just hopefully nothing bad happens!, This is well made, but our puppy is totally disinterested in it.  I thought it would be a great chewy toy, but even when I give it to him and try to pull and entice him to play with it, he doesn't care.  He goes off to find something else.  This could just be my dog, I have no idea how other pups would react., Good quality.  Bought this for the pup as she is starting to teeth.  The toy is a little bigger than I expected but that is ok.  I appreciate that there is two chewys on the ring.  I put them in the freezer for awhile and then give them to the pooch.  The bumpies on the chewys in addition to the cold from the freezer helps keep her interested., This is a great chew toy for our puppies! We had gone to purchase puppy chew toys at stores because we needed something right away, and the stores only had plushies and kongs! We don't use plushies because the puppies chew them and eat the bits, and the kongs were just too big. These are perfect for our 8 week old puppies to teath on and they love them!, This is one of the first chew toys I bought my pup when we got him. I thought it was cute. He loved it. So did my older pups. (the other two are 5). It's been chewed until it's just nubs and a ring. So I buy another.  I'm not sure how many I've purchased but I keep buying them when they start to break because my pup (who is now a 14 month old 50 lb chinese shar pei) loves this and who am I to say no? so, yes, I know it's for teethers, but my lil' guy said he's still teething and to give him his binky back., These keys are just right for puppies with biting/teething issues. The keys give them something to help wean the teething process in an hopefully save your skin from bleeding as much from Sharp puppy teeth. In the end these keys are Awesome toy for your fur baby\""
      ]
     },
     "execution_count": 104,
     "metadata": {},
     "output_type": "execute_result"
    }
   ],
   "source": [
    "# Checking reviews\n",
    "df['reviews'][0]"
   ]
  },
  {
   "cell_type": "markdown",
   "metadata": {},
   "source": [
    "### Going to Combine Description, Key Benefits (if included) and Reviews into one Column which I will use. "
   ]
  },
  {
   "cell_type": "code",
   "execution_count": 105,
   "metadata": {},
   "outputs": [
    {
     "data": {
      "text/html": [
       "<div>\n",
       "<style scoped>\n",
       "    .dataframe tbody tr th:only-of-type {\n",
       "        vertical-align: middle;\n",
       "    }\n",
       "\n",
       "    .dataframe tbody tr th {\n",
       "        vertical-align: top;\n",
       "    }\n",
       "\n",
       "    .dataframe thead th {\n",
       "        text-align: right;\n",
       "    }\n",
       "</style>\n",
       "<table border=\"1\" class=\"dataframe\">\n",
       "  <thead>\n",
       "    <tr style=\"text-align: right;\">\n",
       "      <th></th>\n",
       "      <th>title</th>\n",
       "      <th>descriptions</th>\n",
       "      <th>key_benefits</th>\n",
       "      <th>reviews</th>\n",
       "    </tr>\n",
       "  </thead>\n",
       "  <tbody>\n",
       "    <tr>\n",
       "      <th>0</th>\n",
       "      <td>Nylabone Teething Pacifier Puppy Chew Toy</td>\n",
       "      <td>'Every puppy needs a pacifier to soothe teethi...</td>\n",
       "      <td>Designed to encourage positive play and teach ...</td>\n",
       "      <td>I read the reviews and thought we'd be safe. W...</td>\n",
       "    </tr>\n",
       "    <tr>\n",
       "      <th>1</th>\n",
       "      <td>KONG Puppy Dog Toy, Color Varies</td>\n",
       "      <td>\"The Puppy KONG dog toy is customized for a gr...</td>\n",
       "      <td>Unpredictable bounce is great for energetic pu...</td>\n",
       "      <td>I have had dozens of dogs over the years, and ...</td>\n",
       "    </tr>\n",
       "    <tr>\n",
       "      <th>2</th>\n",
       "      <td>Petstages Dogwood Tough Dog Chew Toy</td>\n",
       "      <td>\"Chewing is a natural behavior in all dogs, as...</td>\n",
       "      <td>Chew toy that combines real wood with syntheti...</td>\n",
       "      <td>My dogs like chasing sticks and the two of the...</td>\n",
       "    </tr>\n",
       "    <tr>\n",
       "      <th>3</th>\n",
       "      <td>KONG Classic Dog Toy</td>\n",
       "      <td>\"Give your furry friend a reliable and fun pla...</td>\n",
       "      <td>Made in the USA from globally sourced material...</td>\n",
       "      <td>I got the small Kong classic for my Westie. Sh...</td>\n",
       "    </tr>\n",
       "    <tr>\n",
       "      <th>4</th>\n",
       "      <td>Nylabone Strong Chew Stick Maple Bacon Flavore...</td>\n",
       "      <td>'Help fulfill your dog’s natural chewing insti...</td>\n",
       "      <td>\"Real wood and a strong nylon chew toy wont sp...</td>\n",
       "      <td>We weren’t sure about this bone, but it is a f...</td>\n",
       "    </tr>\n",
       "    <tr>\n",
       "      <th>...</th>\n",
       "      <td>...</td>\n",
       "      <td>...</td>\n",
       "      <td>...</td>\n",
       "      <td>...</td>\n",
       "    </tr>\n",
       "    <tr>\n",
       "      <th>2562</th>\n",
       "      <td>Pets First NCAA Basketball Rope Dog Toy, Purdue</td>\n",
       "      <td>'Get your furry friend ready for tipoff with t...</td>\n",
       "      <td>Squeaker on the inside to keep your furry frie...</td>\n",
       "      <td></td>\n",
       "    </tr>\n",
       "    <tr>\n",
       "      <th>2563</th>\n",
       "      <td>Cheering Pet Agility Equipment &amp; Treat Bag Dog...</td>\n",
       "      <td>'Train your aspiring or experienced athlete in...</td>\n",
       "      <td>Includes 58.5-inch tunnel, 2 vertical poles, 8...</td>\n",
       "      <td></td>\n",
       "    </tr>\n",
       "    <tr>\n",
       "      <th>2564</th>\n",
       "      <td>Snugarooz Knot Yours Rope Dog Toy, 9-in</td>\n",
       "      <td>'Give Spot a fun new knot to trot, chew and tu...</td>\n",
       "      <td>Spot will love the intricacies of his new knot...</td>\n",
       "      <td></td>\n",
       "    </tr>\n",
       "    <tr>\n",
       "      <th>2565</th>\n",
       "      <td>Squishy Face Studio Fleece Tug Dog Toy</td>\n",
       "      <td>'If your dog loves tug of war, the Squishy Fac...</td>\n",
       "      <td>Designed to be used on its own, or as a replac...</td>\n",
       "      <td>Yay! Great quality product. I ordered the blue...</td>\n",
       "    </tr>\n",
       "    <tr>\n",
       "      <th>2566</th>\n",
       "      <td>Multipet Doglucent TPR Dental Diamond Bone Dog...</td>\n",
       "      <td>'Your furry companion is going to have a blast...</td>\n",
       "      <td>Lights up with every bounce to capture your ca...</td>\n",
       "      <td>This toy does NOT light up like it is supposed...</td>\n",
       "    </tr>\n",
       "  </tbody>\n",
       "</table>\n",
       "<p>2567 rows × 4 columns</p>\n",
       "</div>"
      ],
      "text/plain": [
       "                                                  title  \\\n",
       "0             Nylabone Teething Pacifier Puppy Chew Toy   \n",
       "1                      KONG Puppy Dog Toy, Color Varies   \n",
       "2                  Petstages Dogwood Tough Dog Chew Toy   \n",
       "3                                  KONG Classic Dog Toy   \n",
       "4     Nylabone Strong Chew Stick Maple Bacon Flavore...   \n",
       "...                                                 ...   \n",
       "2562    Pets First NCAA Basketball Rope Dog Toy, Purdue   \n",
       "2563  Cheering Pet Agility Equipment & Treat Bag Dog...   \n",
       "2564            Snugarooz Knot Yours Rope Dog Toy, 9-in   \n",
       "2565             Squishy Face Studio Fleece Tug Dog Toy   \n",
       "2566  Multipet Doglucent TPR Dental Diamond Bone Dog...   \n",
       "\n",
       "                                           descriptions  \\\n",
       "0     'Every puppy needs a pacifier to soothe teethi...   \n",
       "1     \"The Puppy KONG dog toy is customized for a gr...   \n",
       "2     \"Chewing is a natural behavior in all dogs, as...   \n",
       "3     \"Give your furry friend a reliable and fun pla...   \n",
       "4     'Help fulfill your dog’s natural chewing insti...   \n",
       "...                                                 ...   \n",
       "2562  'Get your furry friend ready for tipoff with t...   \n",
       "2563  'Train your aspiring or experienced athlete in...   \n",
       "2564  'Give Spot a fun new knot to trot, chew and tu...   \n",
       "2565  'If your dog loves tug of war, the Squishy Fac...   \n",
       "2566  'Your furry companion is going to have a blast...   \n",
       "\n",
       "                                           key_benefits  \\\n",
       "0     Designed to encourage positive play and teach ...   \n",
       "1     Unpredictable bounce is great for energetic pu...   \n",
       "2     Chew toy that combines real wood with syntheti...   \n",
       "3     Made in the USA from globally sourced material...   \n",
       "4     \"Real wood and a strong nylon chew toy wont sp...   \n",
       "...                                                 ...   \n",
       "2562  Squeaker on the inside to keep your furry frie...   \n",
       "2563  Includes 58.5-inch tunnel, 2 vertical poles, 8...   \n",
       "2564  Spot will love the intricacies of his new knot...   \n",
       "2565  Designed to be used on its own, or as a replac...   \n",
       "2566  Lights up with every bounce to capture your ca...   \n",
       "\n",
       "                                                reviews  \n",
       "0     I read the reviews and thought we'd be safe. W...  \n",
       "1     I have had dozens of dogs over the years, and ...  \n",
       "2     My dogs like chasing sticks and the two of the...  \n",
       "3     I got the small Kong classic for my Westie. Sh...  \n",
       "4     We weren’t sure about this bone, but it is a f...  \n",
       "...                                                 ...  \n",
       "2562                                                     \n",
       "2563                                                     \n",
       "2564                                                     \n",
       "2565  Yay! Great quality product. I ordered the blue...  \n",
       "2566  This toy does NOT light up like it is supposed...  \n",
       "\n",
       "[2567 rows x 4 columns]"
      ]
     },
     "execution_count": 105,
     "metadata": {},
     "output_type": "execute_result"
    }
   ],
   "source": [
    "df[['title', 'descriptions', 'key_benefits', 'reviews']]"
   ]
  },
  {
   "cell_type": "code",
   "execution_count": 106,
   "metadata": {},
   "outputs": [],
   "source": [
    "# Combining them \n",
    "df['combined_text'] = df['descriptions'] + df['key_benefits'] + df['reviews']"
   ]
  },
  {
   "cell_type": "code",
   "execution_count": 107,
   "metadata": {},
   "outputs": [
    {
     "data": {
      "text/plain": [
       "'\\'Every puppy needs a pacifier to soothe teething pain, look cute, and exercise his chompers for a life filled with treats! The Nylabone Puppy Teething Pacifier Dog Chew Toy gives your brand-new pup two chews to choose from. Both have raised nubs that stimulate gums and teeth, and both cost less than replacing a chewed up pair of shoes.Designed for teething puppies up to 25 pounds - Not recommended for adult dogs or puppies with any permanent teeth.\\', \\'Recommended for puppies up to 25 pounds only. Every dog plays differently and, since not all toys are created equal, it’s always best to keep a close watch on your pup in case things get ruff. Supervised play will help toys last longer and most importantly keep your pal safe. No dog toy is truly indestructible, so always remove the toy from playtime if pieces begin to break off.\\', \\'                        See all items by Nylabone\\'Designed to encourage positive play and teach your puppy healthy chewing habits from an early age., Keep them happy, busy and entertained while nubs help to clean teeth, reduce plaque and tartar, and promote proper oral hygiene., \"Satisfies the needs of your teething puppy with a toy thats safe and designed for pets that dont have permanent teeth.\", Vet-recommended teething toy for puppies so you can feel confident about giving this to your pet., Bright colors help keep your pet entertained and engaged.I read the reviews and thought we\\'d be safe. We have a 3 month border collie mix puppy, and most of the reviews that this didn\\'t work for have dogs that were bigger or better chewers, so I thought. I didn\\'t think she would get through it as fast as she did. The pink one was chewed up in less than an hour. She really loved it, but we can\\'t safely let her keep chomping it., I do not know how to rate this. The puppy this was purchased for is a 10 wk. old Irish Wolfhound.\\nShe carries this toy around quite a bit; however, she does not chew on it.  I do not know if it is the texture or the hardness of it.  She chews her other toys that are smoother and less hard.  I believe that it is this puppy’s preference and nothing to do with the toy itself. That is why I gave it a three; I have no clue as to how it will hold up if she does ever actually chew it., I was impressed with the toy at first, being it is made from a hard plastic.  However when I gave this to my pup, he had it chewed up in less than an hour!!  I do not recommend this toy for dogs who chew on everything or bigger breed pups.  I ordered this with 2 squeak toys which I refuse to give him those as I know he will destroy them in no time as well., this is the winner of our chewy haul. ordered a variety of chew toys to try out for our new puppy and so far this is her favorite. she\\'s only 9 weeks old, and like chewing on our fingers (ouch!) this toy is just slightly softer than a normal chew toy and she loves it. having a couple toys and ring seems to entertain her more than a typical bone. will it last forever? probably not. but nice to not have puppy shark teeth attacking my fingers., I have a 3 month old GoldenDoodle he loved this in the first few days I gave it to him and the other weeks had past and he still plays with it and it’s definitely in his top 5 he plays with most but when I was washing his toys for its weekly wash I have been noticing teeth marks on the ring and some on the toys but I didn’t think much about since there was nothing that bad on it that would choke or do something bad to him. but right now he is playing with it and it’s in pretty good shape just hopefully nothing bad happens!, This is well made, but our puppy is totally disinterested in it.  I thought it would be a great chewy toy, but even when I give it to him and try to pull and entice him to play with it, he doesn\\'t care.  He goes off to find something else.  This could just be my dog, I have no idea how other pups would react., Good quality.  Bought this for the pup as she is starting to teeth.  The toy is a little bigger than I expected but that is ok.  I appreciate that there is two chewys on the ring.  I put them in the freezer for awhile and then give them to the pooch.  The bumpies on the chewys in addition to the cold from the freezer helps keep her interested., This is a great chew toy for our puppies! We had gone to purchase puppy chew toys at stores because we needed something right away, and the stores only had plushies and kongs! We don\\'t use plushies because the puppies chew them and eat the bits, and the kongs were just too big. These are perfect for our 8 week old puppies to teath on and they love them!, This is one of the first chew toys I bought my pup when we got him. I thought it was cute. He loved it. So did my older pups. (the other two are 5). It\\'s been chewed until it\\'s just nubs and a ring. So I buy another.  I\\'m not sure how many I\\'ve purchased but I keep buying them when they start to break because my pup (who is now a 14 month old 50 lb chinese shar pei) loves this and who am I to say no? so, yes, I know it\\'s for teethers, but my lil\\' guy said he\\'s still teething and to give him his binky back., These keys are just right for puppies with biting/teething issues. The keys give them something to help wean the teething process in an hopefully save your skin from bleeding as much from Sharp puppy teeth. In the end these keys are Awesome toy for your fur baby'"
      ]
     },
     "execution_count": 107,
     "metadata": {},
     "output_type": "execute_result"
    }
   ],
   "source": [
    "df['combined_text'][0]"
   ]
  },
  {
   "cell_type": "code",
   "execution_count": 108,
   "metadata": {},
   "outputs": [],
   "source": [
    "df['combined_text'] = df['combined_text'].apply(lambda x: str(x).replace(\"\\'\", ''))\n",
    "df['combined_text'] = df['combined_text'].apply(lambda x: str(x).replace(\"                         \", ''))"
   ]
  },
  {
   "cell_type": "markdown",
   "metadata": {},
   "source": [
    "NOTE: There will be more complex cleaning and preprocessing done for this column below before EDA is conducted. "
   ]
  },
  {
   "cell_type": "markdown",
   "metadata": {},
   "source": [
    "## Preprocessing and EDA"
   ]
  },
  {
   "cell_type": "markdown",
   "metadata": {},
   "source": [
    "Links used to help format these graphs   \n",
    "https://www.drawingfromdata.com/how-to-rotate-axis-labels-in-seaborn-and-matplotlib    \n",
    "https://matplotlib.org/3.1.1/gallery/ticks_and_spines/ticklabels_rotation.html   "
   ]
  },
  {
   "cell_type": "markdown",
   "metadata": {},
   "source": [
    "Created two smaller dataframes for plotting purposes. "
   ]
  },
  {
   "cell_type": "code",
   "execution_count": 109,
   "metadata": {},
   "outputs": [
    {
     "data": {
      "text/html": [
       "<div>\n",
       "<style scoped>\n",
       "    .dataframe tbody tr th:only-of-type {\n",
       "        vertical-align: middle;\n",
       "    }\n",
       "\n",
       "    .dataframe tbody tr th {\n",
       "        vertical-align: top;\n",
       "    }\n",
       "\n",
       "    .dataframe thead th {\n",
       "        text-align: right;\n",
       "    }\n",
       "</style>\n",
       "<table border=\"1\" class=\"dataframe\">\n",
       "  <thead>\n",
       "    <tr style=\"text-align: right;\">\n",
       "      <th></th>\n",
       "      <th>cat</th>\n",
       "    </tr>\n",
       "  </thead>\n",
       "  <tbody>\n",
       "    <tr>\n",
       "      <th>plush toys</th>\n",
       "      <td>1281</td>\n",
       "    </tr>\n",
       "    <tr>\n",
       "      <th>fetch toys</th>\n",
       "      <td>540</td>\n",
       "    </tr>\n",
       "    <tr>\n",
       "      <th>rope &amp; tug toys</th>\n",
       "      <td>309</td>\n",
       "    </tr>\n",
       "    <tr>\n",
       "      <th>interactive toys</th>\n",
       "      <td>290</td>\n",
       "    </tr>\n",
       "    <tr>\n",
       "      <th>chew toys</th>\n",
       "      <td>147</td>\n",
       "    </tr>\n",
       "  </tbody>\n",
       "</table>\n",
       "</div>"
      ],
      "text/plain": [
       "                   cat\n",
       "plush toys        1281\n",
       "fetch toys         540\n",
       "rope & tug toys    309\n",
       "interactive toys   290\n",
       "chew toys          147"
      ]
     },
     "execution_count": 109,
     "metadata": {},
     "output_type": "execute_result"
    }
   ],
   "source": [
    "cat_counts_df = pd.DataFrame(df['cat'].value_counts())\n",
    "cat_counts_df"
   ]
  },
  {
   "cell_type": "code",
   "execution_count": 110,
   "metadata": {},
   "outputs": [
    {
     "data": {
      "text/html": [
       "<div>\n",
       "<style scoped>\n",
       "    .dataframe tbody tr th:only-of-type {\n",
       "        vertical-align: middle;\n",
       "    }\n",
       "\n",
       "    .dataframe tbody tr th {\n",
       "        vertical-align: top;\n",
       "    }\n",
       "\n",
       "    .dataframe thead th {\n",
       "        text-align: right;\n",
       "    }\n",
       "</style>\n",
       "<table border=\"1\" class=\"dataframe\">\n",
       "  <thead>\n",
       "    <tr style=\"text-align: right;\">\n",
       "      <th></th>\n",
       "      <th>subcat</th>\n",
       "    </tr>\n",
       "  </thead>\n",
       "  <tbody>\n",
       "    <tr>\n",
       "      <th>stuffed</th>\n",
       "      <td>1189</td>\n",
       "    </tr>\n",
       "    <tr>\n",
       "      <th>balls</th>\n",
       "      <td>360</td>\n",
       "    </tr>\n",
       "    <tr>\n",
       "      <th>rope_tug_toys</th>\n",
       "      <td>309</td>\n",
       "    </tr>\n",
       "    <tr>\n",
       "      <th>treat toys &amp; dispensers</th>\n",
       "      <td>180</td>\n",
       "    </tr>\n",
       "    <tr>\n",
       "      <th>discs</th>\n",
       "      <td>108</td>\n",
       "    </tr>\n",
       "    <tr>\n",
       "      <th>unstuffed</th>\n",
       "      <td>92</td>\n",
       "    </tr>\n",
       "    <tr>\n",
       "      <th>puzzle toys &amp; games</th>\n",
       "      <td>72</td>\n",
       "    </tr>\n",
       "    <tr>\n",
       "      <th>extreme</th>\n",
       "      <td>72</td>\n",
       "    </tr>\n",
       "    <tr>\n",
       "      <th>tough</th>\n",
       "      <td>72</td>\n",
       "    </tr>\n",
       "    <tr>\n",
       "      <th>launchers</th>\n",
       "      <td>36</td>\n",
       "    </tr>\n",
       "    <tr>\n",
       "      <th>sticks</th>\n",
       "      <td>36</td>\n",
       "    </tr>\n",
       "    <tr>\n",
       "      <th>treat dispenser refills</th>\n",
       "      <td>33</td>\n",
       "    </tr>\n",
       "    <tr>\n",
       "      <th>automatic ball launchers</th>\n",
       "      <td>5</td>\n",
       "    </tr>\n",
       "    <tr>\n",
       "      <th>moderate</th>\n",
       "      <td>3</td>\n",
       "    </tr>\n",
       "  </tbody>\n",
       "</table>\n",
       "</div>"
      ],
      "text/plain": [
       "                          subcat\n",
       "stuffed                     1189\n",
       "balls                        360\n",
       "rope_tug_toys                309\n",
       "treat toys & dispensers      180\n",
       "discs                        108\n",
       "unstuffed                     92\n",
       "puzzle toys & games           72\n",
       "extreme                       72\n",
       "tough                         72\n",
       "launchers                     36\n",
       "sticks                        36\n",
       "treat dispenser refills       33\n",
       "automatic ball launchers       5\n",
       "moderate                       3"
      ]
     },
     "execution_count": 110,
     "metadata": {},
     "output_type": "execute_result"
    }
   ],
   "source": [
    "subcat_counts_df = pd.DataFrame(df['subcat'].value_counts())\n",
    "subcat_counts_df"
   ]
  },
  {
   "cell_type": "code",
   "execution_count": 111,
   "metadata": {},
   "outputs": [],
   "source": [
    "# plt.plot(cat_counts_df.index, cat_counts_df['cat'])"
   ]
  },
  {
   "cell_type": "code",
   "execution_count": 112,
   "metadata": {},
   "outputs": [
    {
     "data": {
      "image/png": "[encoded data removed]",
      "text/plain": [
       "<Figure size 432x288 with 1 Axes>"
      ]
     },
     "metadata": {
      "needs_background": "light"
     },
     "output_type": "display_data"
    }
   ],
   "source": [
    "# Going to plot categories and subcategories \n",
    "\n",
    "plt.hist(df['cat'])\n",
    "plt.xlabel('Dog Toy Categories')\n",
    "plt.ylabel('Count')\n",
    "plt.title(\"Count of Number of Toys in Each Category\");"
   ]
  },
  {
   "cell_type": "code",
   "execution_count": 113,
   "metadata": {},
   "outputs": [
    {
     "data": {
      "image/png": "[encoded data removed]",
      "text/plain": [
       "<Figure size 432x288 with 1 Axes>"
      ]
     },
     "metadata": {
      "needs_background": "light"
     },
     "output_type": "display_data"
    }
   ],
   "source": [
    "plt.hist(df['subcat'])\n",
    "plt.xlabel('Dog Toy Sub-Categories')\n",
    "plt.ylabel('Count')\n",
    "plt.title(\"Count of Number of Toys in Each Sub-Category\")\n",
    "plt.xticks(rotation=90);"
   ]
  },
  {
   "cell_type": "markdown",
   "metadata": {},
   "source": [
    "### Looking at the distribution of Ratings in Categories and Subcategories "
   ]
  },
  {
   "cell_type": "code",
   "execution_count": 114,
   "metadata": {},
   "outputs": [
    {
     "data": {
      "text/plain": [
       "plush toys          1281\n",
       "fetch toys           540\n",
       "rope & tug toys      309\n",
       "interactive toys     290\n",
       "chew toys            147\n",
       "Name: cat, dtype: int64"
      ]
     },
     "execution_count": 114,
     "metadata": {},
     "output_type": "execute_result"
    }
   ],
   "source": [
    "df['cat'].value_counts()"
   ]
  },
  {
   "cell_type": "code",
   "execution_count": 115,
   "metadata": {},
   "outputs": [
    {
     "data": {
      "image/png": "[encoded data removed]",
      "text/plain": [
       "<Figure size 720x432 with 1 Axes>"
      ]
     },
     "metadata": {
      "needs_background": "light"
     },
     "output_type": "display_data"
    }
   ],
   "source": [
    "plt.figure(figsize=(10, 6))\n",
    "cat = sns.boxplot(x='cat', y='rating', data=df)\n",
    "cat.set_xticklabels(cat.get_xticklabels(), rotation=45)\n",
    "cat.set_title('Ratings vs Categories', size=25) # What value of rating is this?\n",
    "cat.set_xlabel('Categories', size=15)\n",
    "cat.set_ylabel('Ratings', size=15);"
   ]
  },
  {
   "cell_type": "code",
   "execution_count": 116,
   "metadata": {},
   "outputs": [
    {
     "data": {
      "image/png": "[encoded data removed]",
      "text/plain": [
       "<Figure size 720x432 with 1 Axes>"
      ]
     },
     "metadata": {
      "needs_background": "light"
     },
     "output_type": "display_data"
    }
   ],
   "source": [
    "plt.figure(figsize=(10, 6))\n",
    "subcat = sns.boxplot(x='subcat', y='rating', data=df)\n",
    "subcat.set_xticklabels(subcat.get_xticklabels(), rotation=90)\n",
    "subcat.set_title('Ratings vs Sub-Categories', size=25) # What value of rating is this?\n",
    "subcat.set_xlabel('Sub-Categories', size=15)\n",
    "subcat.set_ylabel('Ratings', size=15);"
   ]
  },
  {
   "cell_type": "markdown",
   "metadata": {},
   "source": [
    "### Looking at Combined Text\n",
    "Going to try tokenizing and then removing stop words"
   ]
  },
  {
   "cell_type": "code",
   "execution_count": 117,
   "metadata": {},
   "outputs": [
    {
     "data": {
      "text/plain": [
       "'Every puppy needs a pacifier to soothe teething pain, look cute, and exercise his chompers for a life filled with treats! The Nylabone Puppy Teething Pacifier Dog Chew Toy gives your brand-new pup two chews to choose from. Both have raised nubs that stimulate gums and teeth, and both cost less than replacing a chewed up pair of shoes.Designed for teething puppies up to 25 pounds - Not recommended for adult dogs or puppies with any permanent teeth., Recommended for puppies up to 25 pounds only. Every dog plays differently and, since not all toys are created equal, it’s always best to keep a close watch on your pup in case things get ruff. Supervised play will help toys last longer and most importantly keep your pal safe. No dog toy is truly indestructible, so always remove the toy from playtime if pieces begin to break off.,See all items by NylaboneDesigned to encourage positive play and teach your puppy healthy chewing habits from an early age., Keep them happy, busy and entertained while nubs help to clean teeth, reduce plaque and tartar, and promote proper oral hygiene., \"Satisfies the needs of your teething puppy with a toy thats safe and designed for pets that dont have permanent teeth.\", Vet-recommended teething toy for puppies so you can feel confident about giving this to your pet., Bright colors help keep your pet entertained and engaged.I read the reviews and thought wed be safe. We have a 3 month border collie mix puppy, and most of the reviews that this didnt work for have dogs that were bigger or better chewers, so I thought. I didnt think she would get through it as fast as she did. The pink one was chewed up in less than an hour. She really loved it, but we cant safely let her keep chomping it., I do not know how to rate this. The puppy this was purchased for is a 10 wk. old Irish Wolfhound.\\nShe carries this toy around quite a bit; however, she does not chew on it.  I do not know if it is the texture or the hardness of it.  She chews her other toys that are smoother and less hard.  I believe that it is this puppy’s preference and nothing to do with the toy itself. That is why I gave it a three; I have no clue as to how it will hold up if she does ever actually chew it., I was impressed with the toy at first, being it is made from a hard plastic.  However when I gave this to my pup, he had it chewed up in less than an hour!!  I do not recommend this toy for dogs who chew on everything or bigger breed pups.  I ordered this with 2 squeak toys which I refuse to give him those as I know he will destroy them in no time as well., this is the winner of our chewy haul. ordered a variety of chew toys to try out for our new puppy and so far this is her favorite. shes only 9 weeks old, and like chewing on our fingers (ouch!) this toy is just slightly softer than a normal chew toy and she loves it. having a couple toys and ring seems to entertain her more than a typical bone. will it last forever? probably not. but nice to not have puppy shark teeth attacking my fingers., I have a 3 month old GoldenDoodle he loved this in the first few days I gave it to him and the other weeks had past and he still plays with it and it’s definitely in his top 5 he plays with most but when I was washing his toys for its weekly wash I have been noticing teeth marks on the ring and some on the toys but I didn’t think much about since there was nothing that bad on it that would choke or do something bad to him. but right now he is playing with it and it’s in pretty good shape just hopefully nothing bad happens!, This is well made, but our puppy is totally disinterested in it.  I thought it would be a great chewy toy, but even when I give it to him and try to pull and entice him to play with it, he doesnt care.  He goes off to find something else.  This could just be my dog, I have no idea how other pups would react., Good quality.  Bought this for the pup as she is starting to teeth.  The toy is a little bigger than I expected but that is ok.  I appreciate that there is two chewys on the ring.  I put them in the freezer for awhile and then give them to the pooch.  The bumpies on the chewys in addition to the cold from the freezer helps keep her interested., This is a great chew toy for our puppies! We had gone to purchase puppy chew toys at stores because we needed something right away, and the stores only had plushies and kongs! We dont use plushies because the puppies chew them and eat the bits, and the kongs were just too big. These are perfect for our 8 week old puppies to teath on and they love them!, This is one of the first chew toys I bought my pup when we got him. I thought it was cute. He loved it. So did my older pups. (the other two are 5). Its been chewed until its just nubs and a ring. So I buy another.  Im not sure how many Ive purchased but I keep buying them when they start to break because my pup (who is now a 14 month old 50 lb chinese shar pei) loves this and who am I to say no? so, yes, I know its for teethers, but my lil guy said hes still teething and to give him his binky back., These keys are just right for puppies with biting/teething issues. The keys give them something to help wean the teething process in an hopefully save your skin from bleeding as much from Sharp puppy teeth. In the end these keys are Awesome toy for your fur baby'"
      ]
     },
     "execution_count": 117,
     "metadata": {},
     "output_type": "execute_result"
    }
   ],
   "source": [
    "df['combined_text'][0]"
   ]
  },
  {
   "cell_type": "code",
   "execution_count": 118,
   "metadata": {},
   "outputs": [
    {
     "name": "stdout",
     "output_type": "stream",
     "text": [
      "49\n",
      "38\n",
      "47\n"
     ]
    }
   ],
   "source": [
    "# sentence tokenizer\n",
    "print(len(sent_tokenize(df['combined_text'][0].lower())))\n",
    "print(len(sent_tokenize(df['combined_text'][1].lower())))\n",
    "print(len(sent_tokenize(df['combined_text'][2].lower())))"
   ]
  },
  {
   "cell_type": "code",
   "execution_count": 119,
   "metadata": {},
   "outputs": [
    {
     "name": "stderr",
     "output_type": "stream",
     "text": [
      "/Users/haleytaft/opt/anaconda3/envs/dsi/lib/python3.7/site-packages/ipykernel_launcher.py:3: SettingWithCopyWarning: \n",
      "A value is trying to be set on a copy of a slice from a DataFrame\n",
      "\n",
      "See the caveats in the documentation: https://pandas.pydata.org/pandas-docs/stable/user_guide/indexing.html#returning-a-view-versus-a-copy\n",
      "  This is separate from the ipykernel package so we can avoid doing imports until\n"
     ]
    }
   ],
   "source": [
    "df['combined_sent_len'] = 0\n",
    "for i in range(len(df.index)):\n",
    "    df['combined_sent_len'][i] = len(sent_tokenize(df['combined_text'][i].lower()))"
   ]
  },
  {
   "cell_type": "code",
   "execution_count": 120,
   "metadata": {},
   "outputs": [],
   "source": [
    "# df.head()"
   ]
  },
  {
   "cell_type": "code",
   "execution_count": 121,
   "metadata": {},
   "outputs": [
    {
     "name": "stderr",
     "output_type": "stream",
     "text": [
      "/Users/haleytaft/opt/anaconda3/envs/dsi/lib/python3.7/site-packages/ipykernel_launcher.py:3: SettingWithCopyWarning: \n",
      "A value is trying to be set on a copy of a slice from a DataFrame\n",
      "\n",
      "See the caveats in the documentation: https://pandas.pydata.org/pandas-docs/stable/user_guide/indexing.html#returning-a-view-versus-a-copy\n",
      "  This is separate from the ipykernel package so we can avoid doing imports until\n"
     ]
    }
   ],
   "source": [
    "df['combined_word_leng'] = 0\n",
    "for i in range(len(df.index)):\n",
    "    df['combined_word_leng'][i] = len(word_tokenize(df['combined_text'][i].lower()))"
   ]
  },
  {
   "cell_type": "code",
   "execution_count": 122,
   "metadata": {},
   "outputs": [],
   "source": [
    "# df.head()"
   ]
  },
  {
   "cell_type": "markdown",
   "metadata": {},
   "source": [
    "Going to look at removing stop words and observing length of reviews.  \n",
    "*Used lessons 5.03 and 5.04 on NLP and Sentiment Analysis for this part*"
   ]
  },
  {
   "cell_type": "code",
   "execution_count": 123,
   "metadata": {},
   "outputs": [
    {
     "ename": "AttributeError",
     "evalue": "'list' object has no attribute 'words'",
     "output_type": "error",
     "traceback": [
      "\u001b[0;31m---------------------------------------------------------------------------\u001b[0m",
      "\u001b[0;31mAttributeError\u001b[0m                            Traceback (most recent call last)",
      "\u001b[0;32m<ipython-input-123-1879d52f010d>\u001b[0m in \u001b[0;36m<module>\u001b[0;34m\u001b[0m\n\u001b[1;32m      1\u001b[0m \u001b[0;31m# To first just look at the stop words\u001b[0m\u001b[0;34m\u001b[0m\u001b[0;34m\u001b[0m\u001b[0;34m\u001b[0m\u001b[0m\n\u001b[0;32m----> 2\u001b[0;31m \u001b[0mprint\u001b[0m\u001b[0;34m(\u001b[0m\u001b[0mstopwords\u001b[0m\u001b[0;34m.\u001b[0m\u001b[0mwords\u001b[0m\u001b[0;34m(\u001b[0m\u001b[0;34m'english'\u001b[0m\u001b[0;34m)\u001b[0m\u001b[0;34m)\u001b[0m\u001b[0;34m\u001b[0m\u001b[0;34m\u001b[0m\u001b[0m\n\u001b[0m",
      "\u001b[0;31mAttributeError\u001b[0m: 'list' object has no attribute 'words'"
     ]
    }
   ],
   "source": [
    "# To first just look at the stop words\n",
    "print(stopwords.words('english'))"
   ]
  },
  {
   "cell_type": "code",
   "execution_count": null,
   "metadata": {},
   "outputs": [],
   "source": [
    "tokenizer = RegexpTokenizer(r'\\w+')"
   ]
  },
  {
   "cell_type": "code",
   "execution_count": null,
   "metadata": {},
   "outputs": [],
   "source": [
    "df['combined_text'][0]"
   ]
  },
  {
   "cell_type": "code",
   "execution_count": null,
   "metadata": {},
   "outputs": [],
   "source": [
    "# This cell takes a bit to run \n",
    "df['tokenized_combined'] = 0\n",
    "for i in range(len(df.index)):\n",
    "    combined_tokens = tokenizer.tokenize(df['combined_text'][i].lower())\n",
    "    no_stop_words = [token for token in combined_tokens if token not in stopwords.words('english')]\n",
    "    df['tokenized_combined'][i] = no_stop_words"
   ]
  },
  {
   "cell_type": "code",
   "execution_count": null,
   "metadata": {},
   "outputs": [],
   "source": [
    "# df.head()"
   ]
  },
  {
   "cell_type": "markdown",
   "metadata": {},
   "source": [
    "**Looking at Most Frequently Used Words**\n",
    "Using TfidfVectorizer"
   ]
  },
  {
   "cell_type": "code",
   "execution_count": null,
   "metadata": {},
   "outputs": [],
   "source": [
    "# Instantiate the transformer.\n",
    "tvec = TfidfVectorizer(stop_words='english')"
   ]
  },
  {
   "cell_type": "markdown",
   "metadata": {},
   "source": [
    "Ok need to work on getting the vectorizer inside the list!"
   ]
  },
  {
   "cell_type": "code",
   "execution_count": null,
   "metadata": {},
   "outputs": [],
   "source": [
    "tvec.fit_transform(df['combined_text']).toarray()"
   ]
  },
  {
   "cell_type": "code",
   "execution_count": null,
   "metadata": {},
   "outputs": [],
   "source": [
    "# creating the vectorized words dataframe\n",
    "word_vector_df = pd.DataFrame(tvec.fit_transform(df['combined_text']).toarray(),\n",
    "                  columns=tvec.get_feature_names())\n",
    "word_vector_df\n",
    "\n",
    "# Is there a way to get the word as the column? "
   ]
  },
  {
   "cell_type": "code",
   "execution_count": null,
   "metadata": {},
   "outputs": [],
   "source": [
    "df.shape"
   ]
  },
  {
   "cell_type": "code",
   "execution_count": null,
   "metadata": {},
   "outputs": [],
   "source": [
    "# get count of top-occurring words\n",
    "top_words_tf = {}\n",
    "for i in word_vector_df.columns:\n",
    "    top_words_tf[i] =  word_vector_df[i].sum()\n",
    "    \n",
    "# top_words to dataframe sorted by highest occurance\n",
    "most_freq_tf = pd.DataFrame(sorted(top_words_tf.items(), key = lambda x: x[1], reverse = True))"
   ]
  },
  {
   "cell_type": "code",
   "execution_count": null,
   "metadata": {},
   "outputs": [],
   "source": [
    "plt.figure(figsize = (10, 5))\n",
    "\n",
    "# visualize top 10 words\n",
    "plt.bar(most_freq_tf[0][:10], most_freq_tf[1][:10]);"
   ]
  },
  {
   "cell_type": "markdown",
   "metadata": {},
   "source": [
    "Need to get the stop words out of the combined text! "
   ]
  },
  {
   "cell_type": "code",
   "execution_count": null,
   "metadata": {},
   "outputs": [],
   "source": [
    "# df.head()"
   ]
  },
  {
   "cell_type": "markdown",
   "metadata": {},
   "source": [
    "**Making my own stop word lists**"
   ]
  },
  {
   "cell_type": "code",
   "execution_count": null,
   "metadata": {},
   "outputs": [],
   "source": [
    "stopwords = stopwords.words('english') + ['dog', 'toy', 'dogs', 'toys', 'one']"
   ]
  },
  {
   "cell_type": "code",
   "execution_count": null,
   "metadata": {},
   "outputs": [],
   "source": [
    "# Instantiate the transformer.\n",
    "tvec_stopwords = TfidfVectorizer(stop_words=stopwords)"
   ]
  },
  {
   "cell_type": "code",
   "execution_count": null,
   "metadata": {},
   "outputs": [],
   "source": [
    "# creating the vectorized words dataframe\n",
    "stopword_vector_df = pd.DataFrame(tvec_stopwords.fit_transform(df['combined_text']).toarray(),\n",
    "                  columns=tvec_stopwords.get_feature_names())\n",
    "stopword_vector_df"
   ]
  },
  {
   "cell_type": "code",
   "execution_count": null,
   "metadata": {},
   "outputs": [],
   "source": [
    "# get count of top-occurring words\n",
    "top_stopwords_tf = {}\n",
    "for i in stopword_vector_df.columns:\n",
    "    top_stopwords_tf[i] =  stopword_vector_df[i].sum()\n",
    "    \n",
    "# top_words to dataframe sorted by highest occurance\n",
    "most_stopfreq_tf = pd.DataFrame(sorted(top_stopwords_tf.items(), key = lambda x: x[1], reverse = True))"
   ]
  },
  {
   "cell_type": "code",
   "execution_count": null,
   "metadata": {},
   "outputs": [],
   "source": [
    "plt.figure(figsize = (10, 5))\n",
    "\n",
    "# visualize top 10 words\n",
    "plt.bar(most_stopfreq_tf[0][:10], most_stopfreq_tf[1][:10])\n",
    "plt.title('Looking at Most Common Words in Whole Dataframe')\n",
    "plt.xlabel('Words')\n",
    "plt.ylabel('Count');"
   ]
  },
  {
   "cell_type": "code",
   "execution_count": null,
   "metadata": {},
   "outputs": [],
   "source": [
    "plt.scatter(x=df['combined_word_leng'], y=df['rating'],\n",
    "           s=1.5)\n",
    "plt.title(\"Rating Score vs Total Word Length of Reviews\")\n",
    "plt.xlabel(\"Total Word Length\")\n",
    "plt.ylabel(\"Rating\");"
   ]
  },
  {
   "cell_type": "markdown",
   "metadata": {},
   "source": [
    "### Using spaCy for more cleaning and EDA "
   ]
  },
  {
   "cell_type": "code",
   "execution_count": null,
   "metadata": {},
   "outputs": [],
   "source": [
    "nlp_lg = spacy.load('en_core_web_lg')"
   ]
  },
  {
   "cell_type": "code",
   "execution_count": null,
   "metadata": {},
   "outputs": [],
   "source": [
    "# messing around on first review to see what the vectors look like \n",
    "tokens = nlp_lg(df['combined_text'][0])\n",
    "vect_list = list(tokens.vector)\n",
    "np.array(vect_list[:20]) # Don't want to look at all of them "
   ]
  },
  {
   "cell_type": "code",
   "execution_count": null,
   "metadata": {},
   "outputs": [],
   "source": [
    "# Creating a new column in dataframe that has all the vectors in one list\n",
    "df['token_vectors'] = ''\n",
    "for i in df.index:\n",
    "#     print(i)\n",
    "    doc = nlp_lg(df.loc[i, 'combined_text'])\n",
    "    df['token_vectors'][i] = list(doc.vector)\n",
    "# data['token_vectors']"
   ]
  },
  {
   "cell_type": "code",
   "execution_count": null,
   "metadata": {},
   "outputs": [],
   "source": [
    "# df.head()"
   ]
  },
  {
   "cell_type": "code",
   "execution_count": null,
   "metadata": {},
   "outputs": [],
   "source": [
    "# Going to average the vectors for each toy\n",
    "df['avg_vector'] = ''\n",
    "for i in df.index:\n",
    "    vector_sum = 0\n",
    "    for j in df['token_vectors'][i]:\n",
    "        vector_sum += j\n",
    "    avg = vector_sum / len(df['token_vectors'][i])\n",
    "    df['avg_vector'][i] = avg"
   ]
  },
  {
   "cell_type": "code",
   "execution_count": null,
   "metadata": {},
   "outputs": [],
   "source": [
    "# df.head()"
   ]
  },
  {
   "cell_type": "markdown",
   "metadata": {},
   "source": [
    "### Looking at Reviews and Description of Each category (maybe will look at subcategory) "
   ]
  },
  {
   "cell_type": "markdown",
   "metadata": {},
   "source": [
    "**Chew Toys**"
   ]
  },
  {
   "cell_type": "code",
   "execution_count": 124,
   "metadata": {},
   "outputs": [
    {
     "data": {
      "image/png": "[encoded data removed]",
      "text/plain": [
       "<Figure size 720x360 with 1 Axes>"
      ]
     },
     "metadata": {
      "needs_background": "light"
     },
     "output_type": "display_data"
    }
   ],
   "source": [
    "chew_reviews_df = df['combined_text'][df['cat'] == 'chew toys']\n",
    "chew_reviews_df = pd.DataFrame(chew_reviews_df)\n",
    "chew_reviews_df\n",
    "\n",
    "# creating the vectorized words dataframe\n",
    "chew_vector_df = pd.DataFrame(tvec_stopwords.fit_transform(chew_reviews_df['combined_text']).toarray(),\n",
    "                  columns=tvec_stopwords.get_feature_names())\n",
    "chew_vector_df\n",
    "\n",
    "# get count of top-occurring words in chew toys\n",
    "top_stopwords_tf = {}\n",
    "for i in chew_vector_df.columns:\n",
    "    top_stopwords_tf[i] =  chew_vector_df[i].sum()\n",
    "    \n",
    "# top_words to dataframe sorted by highest occurance\n",
    "most_stopfreq_tf = pd.DataFrame(sorted(top_stopwords_tf.items(), key = lambda x: x[1], reverse = True))\n",
    "\n",
    "plt.figure(figsize = (10, 5))\n",
    "\n",
    "# visualize top 10 words\n",
    "plt.bar(most_stopfreq_tf[0][:10], most_stopfreq_tf[1][:10]);"
   ]
  },
  {
   "cell_type": "markdown",
   "metadata": {},
   "source": [
    "**Fetch Toys**"
   ]
  },
  {
   "cell_type": "code",
   "execution_count": 125,
   "metadata": {},
   "outputs": [
    {
     "data": {
      "image/png": "[encoded data removed]",
      "text/plain": [
       "<Figure size 720x360 with 1 Axes>"
      ]
     },
     "metadata": {
      "needs_background": "light"
     },
     "output_type": "display_data"
    }
   ],
   "source": [
    "fetch_reviews_df = df['combined_text'][df['cat'] == 'fetch toys']\n",
    "fetch_reviews_df = pd.DataFrame(fetch_reviews_df)\n",
    "fetch_reviews_df\n",
    "\n",
    "# creating the vectorized words dataframe\n",
    "fetch_vector_df = pd.DataFrame(tvec_stopwords.fit_transform(fetch_reviews_df['combined_text']).toarray(),\n",
    "                  columns=tvec_stopwords.get_feature_names())\n",
    "# chew_vector_df\n",
    "\n",
    "# get count of top-occurring words in chew toys\n",
    "top_stopwords_tf = {}\n",
    "for i in fetch_vector_df.columns:\n",
    "    top_stopwords_tf[i] =  fetch_vector_df[i].sum()\n",
    "    \n",
    "# top_words to dataframe sorted by highest occurance\n",
    "most_stopfreq_tf = pd.DataFrame(sorted(top_stopwords_tf.items(), key = lambda x: x[1], reverse = True))\n",
    "\n",
    "plt.figure(figsize = (10, 5))\n",
    "\n",
    "# visualize top 10 words\n",
    "plt.bar(most_stopfreq_tf[0][:10], most_stopfreq_tf[1][:10]);"
   ]
  },
  {
   "cell_type": "markdown",
   "metadata": {},
   "source": [
    "**Interactive Toys**"
   ]
  },
  {
   "cell_type": "code",
   "execution_count": 126,
   "metadata": {},
   "outputs": [
    {
     "data": {
      "image/png": "[encoded data removed]",
      "text/plain": [
       "<Figure size 720x360 with 1 Axes>"
      ]
     },
     "metadata": {
      "needs_background": "light"
     },
     "output_type": "display_data"
    }
   ],
   "source": [
    "interactive_reviews_df = df['combined_text'][df['cat'] == 'interactive toys']\n",
    "interactive_reviews_df = pd.DataFrame(interactive_reviews_df)\n",
    "\n",
    "# creating the vectorized words dataframe\n",
    "interactive_vector_df = pd.DataFrame(tvec_stopwords.fit_transform(interactive_reviews_df['combined_text']).toarray(),\n",
    "                  columns=tvec_stopwords.get_feature_names())\n",
    "\n",
    "# get count of top-occurring words in chew toys\n",
    "top_stopwords_tf = {}\n",
    "for i in interactive_vector_df.columns:\n",
    "    top_stopwords_tf[i] =  interactive_vector_df[i].sum()\n",
    "    \n",
    "# top_words to dataframe sorted by highest occurance\n",
    "most_stopfreq_tf = pd.DataFrame(sorted(top_stopwords_tf.items(), key = lambda x: x[1], reverse = True))\n",
    "\n",
    "plt.figure(figsize = (10, 5))\n",
    "\n",
    "# visualize top 10 words\n",
    "plt.bar(most_stopfreq_tf[0][:10], most_stopfreq_tf[1][:10]);"
   ]
  },
  {
   "cell_type": "markdown",
   "metadata": {},
   "source": [
    "**Plush Toys**"
   ]
  },
  {
   "cell_type": "code",
   "execution_count": 127,
   "metadata": {},
   "outputs": [
    {
     "data": {
      "image/png": "[encoded data removed]",
      "text/plain": [
       "<Figure size 720x360 with 1 Axes>"
      ]
     },
     "metadata": {
      "needs_background": "light"
     },
     "output_type": "display_data"
    }
   ],
   "source": [
    "plush_reviews_df = df['combined_text'][df['cat'] == 'plush toys']\n",
    "plush_reviews_df = pd.DataFrame(plush_reviews_df)\n",
    "\n",
    "# creating the vectorized words dataframe\n",
    "plush_vector_df = pd.DataFrame(tvec_stopwords.fit_transform(plush_reviews_df['combined_text']).toarray(),\n",
    "                  columns=tvec_stopwords.get_feature_names())\n",
    "\n",
    "# get count of top-occurring words in chew toys\n",
    "top_stopwords_tf = {}\n",
    "for i in plush_vector_df.columns:\n",
    "    top_stopwords_tf[i] =  plush_vector_df[i].sum()\n",
    "    \n",
    "# top_words to dataframe sorted by highest occurance\n",
    "most_stopfreq_tf = pd.DataFrame(sorted(top_stopwords_tf.items(), key = lambda x: x[1], reverse = True))\n",
    "\n",
    "plt.figure(figsize = (10, 5))\n",
    "\n",
    "# visualize top 10 words\n",
    "plt.bar(most_stopfreq_tf[0][:10], most_stopfreq_tf[1][:10]);"
   ]
  },
  {
   "cell_type": "markdown",
   "metadata": {},
   "source": [
    "**Rope & Tug Toys**"
   ]
  },
  {
   "cell_type": "code",
   "execution_count": 128,
   "metadata": {},
   "outputs": [
    {
     "data": {
      "image/png": "[encoded data removed]",
      "text/plain": [
       "<Figure size 720x360 with 1 Axes>"
      ]
     },
     "metadata": {
      "needs_background": "light"
     },
     "output_type": "display_data"
    }
   ],
   "source": [
    "ropetug_reviews_df = df['combined_text'][df['cat'] == 'rope & tug toys']\n",
    "ropetug_reviews_df = pd.DataFrame(ropetug_reviews_df)\n",
    "\n",
    "# creating the vectorized words dataframe\n",
    "ropetug_vector_df = pd.DataFrame(tvec_stopwords.fit_transform(ropetug_reviews_df['combined_text']).toarray(),\n",
    "                  columns=tvec_stopwords.get_feature_names())\n",
    "\n",
    "# get count of top-occurring words in chew toys\n",
    "top_stopwords_tf = {}\n",
    "for i in ropetug_vector_df.columns:\n",
    "    top_stopwords_tf[i] =  ropetug_vector_df[i].sum()\n",
    "    \n",
    "# top_words to dataframe sorted by highest occurance\n",
    "most_stopfreq_tf = pd.DataFrame(sorted(top_stopwords_tf.items(), key = lambda x: x[1], reverse = True))\n",
    "\n",
    "plt.figure(figsize = (10, 5))\n",
    "\n",
    "# visualize top 10 words\n",
    "plt.bar(most_stopfreq_tf[0][:10], most_stopfreq_tf[1][:10]);"
   ]
  },
  {
   "cell_type": "code",
   "execution_count": 129,
   "metadata": {},
   "outputs": [],
   "source": [
    "# df.head()"
   ]
  },
  {
   "cell_type": "markdown",
   "metadata": {},
   "source": [
    "### Looking at plots of the different vectors with each category"
   ]
  },
  {
   "cell_type": "code",
   "execution_count": 130,
   "metadata": {},
   "outputs": [
    {
     "ename": "KeyError",
     "evalue": "'avg_vector'",
     "output_type": "error",
     "traceback": [
      "\u001b[0;31m---------------------------------------------------------------------------\u001b[0m",
      "\u001b[0;31mKeyError\u001b[0m                                  Traceback (most recent call last)",
      "\u001b[0;32m~/opt/anaconda3/envs/dsi/lib/python3.7/site-packages/pandas/core/indexes/base.py\u001b[0m in \u001b[0;36mget_loc\u001b[0;34m(self, key, method, tolerance)\u001b[0m\n\u001b[1;32m   2888\u001b[0m             \u001b[0;32mtry\u001b[0m\u001b[0;34m:\u001b[0m\u001b[0;34m\u001b[0m\u001b[0;34m\u001b[0m\u001b[0m\n\u001b[0;32m-> 2889\u001b[0;31m                 \u001b[0;32mreturn\u001b[0m \u001b[0mself\u001b[0m\u001b[0;34m.\u001b[0m\u001b[0m_engine\u001b[0m\u001b[0;34m.\u001b[0m\u001b[0mget_loc\u001b[0m\u001b[0;34m(\u001b[0m\u001b[0mcasted_key\u001b[0m\u001b[0;34m)\u001b[0m\u001b[0;34m\u001b[0m\u001b[0;34m\u001b[0m\u001b[0m\n\u001b[0m\u001b[1;32m   2890\u001b[0m             \u001b[0;32mexcept\u001b[0m \u001b[0mKeyError\u001b[0m \u001b[0;32mas\u001b[0m \u001b[0merr\u001b[0m\u001b[0;34m:\u001b[0m\u001b[0;34m\u001b[0m\u001b[0;34m\u001b[0m\u001b[0m\n",
      "\u001b[0;32mpandas/_libs/index.pyx\u001b[0m in \u001b[0;36mpandas._libs.index.IndexEngine.get_loc\u001b[0;34m()\u001b[0m\n",
      "\u001b[0;32mpandas/_libs/index.pyx\u001b[0m in \u001b[0;36mpandas._libs.index.IndexEngine.get_loc\u001b[0;34m()\u001b[0m\n",
      "\u001b[0;32mpandas/_libs/hashtable_class_helper.pxi\u001b[0m in \u001b[0;36mpandas._libs.hashtable.PyObjectHashTable.get_item\u001b[0;34m()\u001b[0m\n",
      "\u001b[0;32mpandas/_libs/hashtable_class_helper.pxi\u001b[0m in \u001b[0;36mpandas._libs.hashtable.PyObjectHashTable.get_item\u001b[0;34m()\u001b[0m\n",
      "\u001b[0;31mKeyError\u001b[0m: 'avg_vector'",
      "\nThe above exception was the direct cause of the following exception:\n",
      "\u001b[0;31mKeyError\u001b[0m                                  Traceback (most recent call last)",
      "\u001b[0;32m<ipython-input-130-c92e44c2e695>\u001b[0m in \u001b[0;36m<module>\u001b[0;34m\u001b[0m\n\u001b[1;32m      1\u001b[0m \u001b[0mplt\u001b[0m\u001b[0;34m.\u001b[0m\u001b[0mfigure\u001b[0m\u001b[0;34m(\u001b[0m\u001b[0mfigsize\u001b[0m\u001b[0;34m=\u001b[0m\u001b[0;34m(\u001b[0m\u001b[0;36m10\u001b[0m\u001b[0;34m,\u001b[0m \u001b[0;36m6\u001b[0m\u001b[0;34m)\u001b[0m\u001b[0;34m)\u001b[0m\u001b[0;34m\u001b[0m\u001b[0;34m\u001b[0m\u001b[0m\n\u001b[0;32m----> 2\u001b[0;31m \u001b[0mplt\u001b[0m\u001b[0;34m.\u001b[0m\u001b[0mhist\u001b[0m\u001b[0;34m(\u001b[0m\u001b[0mdf\u001b[0m\u001b[0;34m[\u001b[0m\u001b[0;34m'avg_vector'\u001b[0m\u001b[0;34m]\u001b[0m\u001b[0;34m,\u001b[0m \u001b[0mbins\u001b[0m\u001b[0;34m=\u001b[0m\u001b[0;36m30\u001b[0m\u001b[0;34m)\u001b[0m\u001b[0;34m\u001b[0m\u001b[0;34m\u001b[0m\u001b[0m\n\u001b[0m\u001b[1;32m      3\u001b[0m \u001b[0mplt\u001b[0m\u001b[0;34m.\u001b[0m\u001b[0mtitle\u001b[0m\u001b[0;34m(\u001b[0m\u001b[0;34m\"Average Vectors\"\u001b[0m\u001b[0;34m)\u001b[0m\u001b[0;34m\u001b[0m\u001b[0;34m\u001b[0m\u001b[0m\n\u001b[1;32m      4\u001b[0m \u001b[0mplt\u001b[0m\u001b[0;34m.\u001b[0m\u001b[0mxlabel\u001b[0m\u001b[0;34m(\u001b[0m\u001b[0;34m'Average Vector Values'\u001b[0m\u001b[0;34m)\u001b[0m\u001b[0;34m\u001b[0m\u001b[0;34m\u001b[0m\u001b[0m\n\u001b[1;32m      5\u001b[0m \u001b[0mplt\u001b[0m\u001b[0;34m.\u001b[0m\u001b[0mylabel\u001b[0m\u001b[0;34m(\u001b[0m\u001b[0;34m'Count'\u001b[0m\u001b[0;34m)\u001b[0m\u001b[0;34m;\u001b[0m\u001b[0;34m\u001b[0m\u001b[0;34m\u001b[0m\u001b[0m\n",
      "\u001b[0;32m~/opt/anaconda3/envs/dsi/lib/python3.7/site-packages/pandas/core/frame.py\u001b[0m in \u001b[0;36m__getitem__\u001b[0;34m(self, key)\u001b[0m\n\u001b[1;32m   2900\u001b[0m             \u001b[0;32mif\u001b[0m \u001b[0mself\u001b[0m\u001b[0;34m.\u001b[0m\u001b[0mcolumns\u001b[0m\u001b[0;34m.\u001b[0m\u001b[0mnlevels\u001b[0m \u001b[0;34m>\u001b[0m \u001b[0;36m1\u001b[0m\u001b[0;34m:\u001b[0m\u001b[0;34m\u001b[0m\u001b[0;34m\u001b[0m\u001b[0m\n\u001b[1;32m   2901\u001b[0m                 \u001b[0;32mreturn\u001b[0m \u001b[0mself\u001b[0m\u001b[0;34m.\u001b[0m\u001b[0m_getitem_multilevel\u001b[0m\u001b[0;34m(\u001b[0m\u001b[0mkey\u001b[0m\u001b[0;34m)\u001b[0m\u001b[0;34m\u001b[0m\u001b[0;34m\u001b[0m\u001b[0m\n\u001b[0;32m-> 2902\u001b[0;31m             \u001b[0mindexer\u001b[0m \u001b[0;34m=\u001b[0m \u001b[0mself\u001b[0m\u001b[0;34m.\u001b[0m\u001b[0mcolumns\u001b[0m\u001b[0;34m.\u001b[0m\u001b[0mget_loc\u001b[0m\u001b[0;34m(\u001b[0m\u001b[0mkey\u001b[0m\u001b[0;34m)\u001b[0m\u001b[0;34m\u001b[0m\u001b[0;34m\u001b[0m\u001b[0m\n\u001b[0m\u001b[1;32m   2903\u001b[0m             \u001b[0;32mif\u001b[0m \u001b[0mis_integer\u001b[0m\u001b[0;34m(\u001b[0m\u001b[0mindexer\u001b[0m\u001b[0;34m)\u001b[0m\u001b[0;34m:\u001b[0m\u001b[0;34m\u001b[0m\u001b[0;34m\u001b[0m\u001b[0m\n\u001b[1;32m   2904\u001b[0m                 \u001b[0mindexer\u001b[0m \u001b[0;34m=\u001b[0m \u001b[0;34m[\u001b[0m\u001b[0mindexer\u001b[0m\u001b[0;34m]\u001b[0m\u001b[0;34m\u001b[0m\u001b[0;34m\u001b[0m\u001b[0m\n",
      "\u001b[0;32m~/opt/anaconda3/envs/dsi/lib/python3.7/site-packages/pandas/core/indexes/base.py\u001b[0m in \u001b[0;36mget_loc\u001b[0;34m(self, key, method, tolerance)\u001b[0m\n\u001b[1;32m   2889\u001b[0m                 \u001b[0;32mreturn\u001b[0m \u001b[0mself\u001b[0m\u001b[0;34m.\u001b[0m\u001b[0m_engine\u001b[0m\u001b[0;34m.\u001b[0m\u001b[0mget_loc\u001b[0m\u001b[0;34m(\u001b[0m\u001b[0mcasted_key\u001b[0m\u001b[0;34m)\u001b[0m\u001b[0;34m\u001b[0m\u001b[0;34m\u001b[0m\u001b[0m\n\u001b[1;32m   2890\u001b[0m             \u001b[0;32mexcept\u001b[0m \u001b[0mKeyError\u001b[0m \u001b[0;32mas\u001b[0m \u001b[0merr\u001b[0m\u001b[0;34m:\u001b[0m\u001b[0;34m\u001b[0m\u001b[0;34m\u001b[0m\u001b[0m\n\u001b[0;32m-> 2891\u001b[0;31m                 \u001b[0;32mraise\u001b[0m \u001b[0mKeyError\u001b[0m\u001b[0;34m(\u001b[0m\u001b[0mkey\u001b[0m\u001b[0;34m)\u001b[0m \u001b[0;32mfrom\u001b[0m \u001b[0merr\u001b[0m\u001b[0;34m\u001b[0m\u001b[0;34m\u001b[0m\u001b[0m\n\u001b[0m\u001b[1;32m   2892\u001b[0m \u001b[0;34m\u001b[0m\u001b[0m\n\u001b[1;32m   2893\u001b[0m         \u001b[0;32mif\u001b[0m \u001b[0mtolerance\u001b[0m \u001b[0;32mis\u001b[0m \u001b[0;32mnot\u001b[0m \u001b[0;32mNone\u001b[0m\u001b[0;34m:\u001b[0m\u001b[0;34m\u001b[0m\u001b[0;34m\u001b[0m\u001b[0m\n",
      "\u001b[0;31mKeyError\u001b[0m: 'avg_vector'"
     ]
    },
    {
     "data": {
      "text/plain": [
       "<Figure size 720x432 with 0 Axes>"
      ]
     },
     "metadata": {},
     "output_type": "display_data"
    }
   ],
   "source": [
    "plt.figure(figsize=(10, 6))\n",
    "plt.hist(df['avg_vector'], bins=30)\n",
    "plt.title(\"Average Vectors\")\n",
    "plt.xlabel('Average Vector Values')\n",
    "plt.ylabel('Count');"
   ]
  },
  {
   "cell_type": "code",
   "execution_count": null,
   "metadata": {},
   "outputs": [],
   "source": [
    "plt.figure(figsize=(10, 6))\n",
    "plt.hist(df['avg_vector'], bins=30, color='blue')\n",
    "plt.hist(df[(df['cat'] == 'plush toys')]['avg_vector'], bins=30, color='orange')\n",
    "plt.hist(df[(df['cat'] == 'interactive toys')]['avg_vector'], bins=30, color='purple')\n",
    "plt.hist(df[(df['cat'] == 'fetch toys')]['avg_vector'], bins=30, color='yellow')\n",
    "plt.hist(df[(df['cat'] == 'rope & tug toys')]['avg_vector'], bins=30, color='red')\n",
    "plt.hist(df[(df['cat'] == 'chew toys')]['avg_vector'], bins=30, color='green');"
   ]
  },
  {
   "cell_type": "code",
   "execution_count": null,
   "metadata": {},
   "outputs": [],
   "source": [
    "plt.figure(figsize=(10, 6))\n",
    "ax = sns.boxplot(x=\"cat\", y=\"avg_vector\", data=df)\n",
    "ax.set_title('Average Vectors in Each Category')\n",
    "ax.set_xlabel('Categories')\n",
    "ax.set_ylabel('Average Vector Values');"
   ]
  },
  {
   "cell_type": "markdown",
   "metadata": {},
   "source": [
    "# Explorting dataframe"
   ]
  },
  {
   "cell_type": "code",
   "execution_count": null,
   "metadata": {},
   "outputs": [],
   "source": [
    "# Uncomment to run \n",
    "# df.to_csv('data/chewy.csv', index=False)"
   ]
  },
  {
   "cell_type": "code",
   "execution_count": null,
   "metadata": {},
   "outputs": [],
   "source": []
  },
  {
   "cell_type": "code",
   "execution_count": null,
   "metadata": {},
   "outputs": [],
   "source": []
  }
 ],
 "metadata": {
  "kernelspec": {
   "display_name": "Python 3",
   "language": "python",
   "name": "python3"
  },
  "language_info": {
   "codemirror_mode": {
    "name": "ipython",
    "version": 3
   },
   "file_extension": ".py",
   "mimetype": "text/x-python",
   "name": "python",
   "nbconvert_exporter": "python",
   "pygments_lexer": "ipython3",
   "version": "3.7.7"
  }
 },
 "nbformat": 4,
 "nbformat_minor": 4
}
