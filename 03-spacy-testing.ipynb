{
 "cells": [
  {
   "cell_type": "markdown",
   "metadata": {},
   "source": [
    "# Using spaCy for Capstone Project\n",
    "### This includes more cleaning and EDA with some modeling practice "
   ]
  },
  {
   "cell_type": "markdown",
   "metadata": {},
   "source": [
    "https://www.geeksforgeeks.org/python-sort-python-dictionaries-by-key-or-value/   \n",
    "https://medium.com/@armandj.olivares/building-nlp-content-based-recommender-systems-b104a709c042      \n",
    "https://towardsdatascience.com/so-whats-spacy-ad65aa1949e0   \n",
    "The following links from spacy.io were used to help create this system (note there are many links based off these that are used, but these are the main ones)  \n",
    "https://spacy.io/usage   \n",
    "https://spacy.io/usage/spacy-101   \n",
    "https://spacy.io/usage/vectors-similarity   \n",
    "https://spacy.io/api/span#vector    \n",
    "https://spacy.io/api/vectors     \n",
    "  "
   ]
  },
  {
   "cell_type": "code",
   "execution_count": 1,
   "metadata": {},
   "outputs": [],
   "source": [
    "import pandas as pd\n",
    "import numpy as np\n",
    "import matplotlib.pyplot as plt\n",
    "import seaborn as sns\n",
    "\n",
    "import spacy\n",
    "\n",
    "from nltk.tokenize import sent_tokenize, word_tokenize, RegexpTokenizer\n",
    "from nltk.corpus import stopwords \n",
    "from sklearn.feature_extraction.text import CountVectorizer, TfidfVectorizer"
   ]
  },
  {
   "cell_type": "code",
   "execution_count": 2,
   "metadata": {},
   "outputs": [],
   "source": [
    "# loading in spacy model -- using large version because I want to vectorize the text\n",
    "nlp_lg = spacy.load('en_core_web_lg')"
   ]
  },
  {
   "cell_type": "code",
   "execution_count": 3,
   "metadata": {},
   "outputs": [],
   "source": [
    "data = pd.read_csv('./data/chewy.csv')"
   ]
  },
  {
   "cell_type": "code",
   "execution_count": 4,
   "metadata": {},
   "outputs": [
    {
     "data": {
      "text/plain": [
       "(2730, 15)"
      ]
     },
     "execution_count": 4,
     "metadata": {},
     "output_type": "execute_result"
    }
   ],
   "source": [
    "data.shape"
   ]
  },
  {
   "cell_type": "code",
   "execution_count": 5,
   "metadata": {},
   "outputs": [
    {
     "data": {
      "text/html": [
       "<div>\n",
       "<style scoped>\n",
       "    .dataframe tbody tr th:only-of-type {\n",
       "        vertical-align: middle;\n",
       "    }\n",
       "\n",
       "    .dataframe tbody tr th {\n",
       "        vertical-align: top;\n",
       "    }\n",
       "\n",
       "    .dataframe thead th {\n",
       "        text-align: right;\n",
       "    }\n",
       "</style>\n",
       "<table border=\"1\" class=\"dataframe\">\n",
       "  <thead>\n",
       "    <tr style=\"text-align: right;\">\n",
       "      <th></th>\n",
       "      <th>title</th>\n",
       "      <th>price</th>\n",
       "      <th>descriptions</th>\n",
       "      <th>key_benefits</th>\n",
       "      <th>rating</th>\n",
       "      <th>reviews</th>\n",
       "      <th>link</th>\n",
       "      <th>subcat</th>\n",
       "      <th>cat</th>\n",
       "      <th>combined_text</th>\n",
       "      <th>combined_sent_len</th>\n",
       "      <th>combined_word_leng</th>\n",
       "      <th>tokenized_combined</th>\n",
       "      <th>token_vectors</th>\n",
       "      <th>avg_vector</th>\n",
       "    </tr>\n",
       "  </thead>\n",
       "  <tbody>\n",
       "    <tr>\n",
       "      <th>0</th>\n",
       "      <td>Nylabone Teething Pacifier Puppy Chew Toy</td>\n",
       "      <td>3.23</td>\n",
       "      <td>'Every puppy needs a pacifier to soothe teethi...</td>\n",
       "      <td>Designed to encourage positive play and teach ...</td>\n",
       "      <td>4.2</td>\n",
       "      <td>I read the reviews and thought we'd be safe. W...</td>\n",
       "      <td>https://www.chewy.com/nylabone-teething-pacifi...</td>\n",
       "      <td>moderate</td>\n",
       "      <td>chew toys</td>\n",
       "      <td>Every puppy needs a pacifier to soothe teethin...</td>\n",
       "      <td>49</td>\n",
       "      <td>1167</td>\n",
       "      <td>['every', 'puppy', 'needs', 'pacifier', 'sooth...</td>\n",
       "      <td>[-0.036094774, 0.16643533, -0.17682464, -0.101...</td>\n",
       "      <td>0.003221</td>\n",
       "    </tr>\n",
       "    <tr>\n",
       "      <th>1</th>\n",
       "      <td>KONG Puppy Dog Toy, Color Varies</td>\n",
       "      <td>6.99</td>\n",
       "      <td>\"The Puppy KONG dog toy is customized for a gr...</td>\n",
       "      <td>Unpredictable bounce is great for energetic pu...</td>\n",
       "      <td>4.3</td>\n",
       "      <td>I have had dozens of dogs over the years, and ...</td>\n",
       "      <td>https://www.chewy.com/kong-puppy-dog-toy-color...</td>\n",
       "      <td>moderate</td>\n",
       "      <td>chew toys</td>\n",
       "      <td>\"The Puppy KONG dog toy is customized for a gr...</td>\n",
       "      <td>38</td>\n",
       "      <td>907</td>\n",
       "      <td>['puppy', 'kong', 'dog', 'toy', 'customized', ...</td>\n",
       "      <td>[-0.054273944, 0.17632876, -0.15004495, -0.091...</td>\n",
       "      <td>0.002996</td>\n",
       "    </tr>\n",
       "    <tr>\n",
       "      <th>2</th>\n",
       "      <td>Petstages Dogwood Tough Dog Chew Toy</td>\n",
       "      <td>8.83</td>\n",
       "      <td>\"Chewing is a natural behavior in all dogs, as...</td>\n",
       "      <td>Chew toy that combines real wood with syntheti...</td>\n",
       "      <td>4.2</td>\n",
       "      <td>My dogs like chasing sticks and the two of the...</td>\n",
       "      <td>https://www.chewy.com/petstages-dogwood-tough-...</td>\n",
       "      <td>moderate</td>\n",
       "      <td>chew toys</td>\n",
       "      <td>\"Chewing is a natural behavior in all dogs, as...</td>\n",
       "      <td>50</td>\n",
       "      <td>1133</td>\n",
       "      <td>['chewing', 'natural', 'behavior', 'dogs', 'he...</td>\n",
       "      <td>[-0.053820234, 0.16249822, -0.17790341, -0.094...</td>\n",
       "      <td>0.004223</td>\n",
       "    </tr>\n",
       "    <tr>\n",
       "      <th>3</th>\n",
       "      <td>Nylabone Teething Rings Puppy Chew Toy</td>\n",
       "      <td>6.49</td>\n",
       "      <td>'Great for teething and tugging! The Puppy Tee...</td>\n",
       "      <td>Designed to encourage positive play and teach ...</td>\n",
       "      <td>4.1</td>\n",
       "      <td>It doesn't save fingers and hands as much from...</td>\n",
       "      <td>https://www.chewy.com/nylabone-teething-rings-...</td>\n",
       "      <td>moderate</td>\n",
       "      <td>chew toys</td>\n",
       "      <td>Great for teething and tugging! The Puppy Teet...</td>\n",
       "      <td>31</td>\n",
       "      <td>790</td>\n",
       "      <td>['great', 'teething', 'tugging', 'puppy', 'tee...</td>\n",
       "      <td>[-0.04568519, 0.16081789, -0.16212736, -0.0856...</td>\n",
       "      <td>0.003459</td>\n",
       "    </tr>\n",
       "    <tr>\n",
       "      <th>4</th>\n",
       "      <td>Nylabone Puppy Teething X Bone Beef Flavored P...</td>\n",
       "      <td>6.82</td>\n",
       "      <td>'Curious puppies have met their match with the...</td>\n",
       "      <td>Non-edible dog toy is made for teething puppie...</td>\n",
       "      <td>4.1</td>\n",
       "      <td>This is a great shoe for a tiny puppy in there...</td>\n",
       "      <td>https://www.chewy.com/nylabone-puppy-teething-...</td>\n",
       "      <td>moderate</td>\n",
       "      <td>chew toys</td>\n",
       "      <td>Curious puppies have met their match with the ...</td>\n",
       "      <td>27</td>\n",
       "      <td>786</td>\n",
       "      <td>['curious', 'puppies', 'met', 'match', 'nylabo...</td>\n",
       "      <td>[-0.03634293, 0.15598676, -0.14689486, -0.0651...</td>\n",
       "      <td>0.003303</td>\n",
       "    </tr>\n",
       "  </tbody>\n",
       "</table>\n",
       "</div>"
      ],
      "text/plain": [
       "                                               title  price  \\\n",
       "0          Nylabone Teething Pacifier Puppy Chew Toy   3.23   \n",
       "1                   KONG Puppy Dog Toy, Color Varies   6.99   \n",
       "2               Petstages Dogwood Tough Dog Chew Toy   8.83   \n",
       "3             Nylabone Teething Rings Puppy Chew Toy   6.49   \n",
       "4  Nylabone Puppy Teething X Bone Beef Flavored P...   6.82   \n",
       "\n",
       "                                        descriptions  \\\n",
       "0  'Every puppy needs a pacifier to soothe teethi...   \n",
       "1  \"The Puppy KONG dog toy is customized for a gr...   \n",
       "2  \"Chewing is a natural behavior in all dogs, as...   \n",
       "3  'Great for teething and tugging! The Puppy Tee...   \n",
       "4  'Curious puppies have met their match with the...   \n",
       "\n",
       "                                        key_benefits  rating  \\\n",
       "0  Designed to encourage positive play and teach ...     4.2   \n",
       "1  Unpredictable bounce is great for energetic pu...     4.3   \n",
       "2  Chew toy that combines real wood with syntheti...     4.2   \n",
       "3  Designed to encourage positive play and teach ...     4.1   \n",
       "4  Non-edible dog toy is made for teething puppie...     4.1   \n",
       "\n",
       "                                             reviews  \\\n",
       "0  I read the reviews and thought we'd be safe. W...   \n",
       "1  I have had dozens of dogs over the years, and ...   \n",
       "2  My dogs like chasing sticks and the two of the...   \n",
       "3  It doesn't save fingers and hands as much from...   \n",
       "4  This is a great shoe for a tiny puppy in there...   \n",
       "\n",
       "                                                link    subcat        cat  \\\n",
       "0  https://www.chewy.com/nylabone-teething-pacifi...  moderate  chew toys   \n",
       "1  https://www.chewy.com/kong-puppy-dog-toy-color...  moderate  chew toys   \n",
       "2  https://www.chewy.com/petstages-dogwood-tough-...  moderate  chew toys   \n",
       "3  https://www.chewy.com/nylabone-teething-rings-...  moderate  chew toys   \n",
       "4  https://www.chewy.com/nylabone-puppy-teething-...  moderate  chew toys   \n",
       "\n",
       "                                       combined_text  combined_sent_len  \\\n",
       "0  Every puppy needs a pacifier to soothe teethin...                 49   \n",
       "1  \"The Puppy KONG dog toy is customized for a gr...                 38   \n",
       "2  \"Chewing is a natural behavior in all dogs, as...                 50   \n",
       "3  Great for teething and tugging! The Puppy Teet...                 31   \n",
       "4  Curious puppies have met their match with the ...                 27   \n",
       "\n",
       "   combined_word_leng                                 tokenized_combined  \\\n",
       "0                1167  ['every', 'puppy', 'needs', 'pacifier', 'sooth...   \n",
       "1                 907  ['puppy', 'kong', 'dog', 'toy', 'customized', ...   \n",
       "2                1133  ['chewing', 'natural', 'behavior', 'dogs', 'he...   \n",
       "3                 790  ['great', 'teething', 'tugging', 'puppy', 'tee...   \n",
       "4                 786  ['curious', 'puppies', 'met', 'match', 'nylabo...   \n",
       "\n",
       "                                       token_vectors  avg_vector  \n",
       "0  [-0.036094774, 0.16643533, -0.17682464, -0.101...    0.003221  \n",
       "1  [-0.054273944, 0.17632876, -0.15004495, -0.091...    0.002996  \n",
       "2  [-0.053820234, 0.16249822, -0.17790341, -0.094...    0.004223  \n",
       "3  [-0.04568519, 0.16081789, -0.16212736, -0.0856...    0.003459  \n",
       "4  [-0.03634293, 0.15598676, -0.14689486, -0.0651...    0.003303  "
      ]
     },
     "execution_count": 5,
     "metadata": {},
     "output_type": "execute_result"
    }
   ],
   "source": [
    "data.head()"
   ]
  },
  {
   "cell_type": "markdown",
   "metadata": {},
   "source": [
    "# This next section will be usefull code for the actual recommendation system "
   ]
  },
  {
   "cell_type": "markdown",
   "metadata": {},
   "source": [
    "### User Input-- What will the user need to do?\n",
    "The user input will be a short paragraph answering the following the questions to the best of their abilities:\n",
    " - What type of dog do you have?\n",
    " - Is your dog a puppy, or older?\n",
    " - Is your dog super energetic and playful or more calm?\n",
    " - Would you say your dog is smarter than most dogs?\n",
    " - Does your dog like to chase after toys, cuddle toys, or chew on them? \n",
    " - Does your dog get pretty bored after playing with a toy for a bit? \n",
    " - Does your dog already have an ideal toy that is their absolute favorite? (If yes, describe it.)   \n",
    " Try to describe what your dog IS rather what you dog IS NOT so that the model works better. \n",
    " \n",
    "The paragraph of text describing their dog will be tokenized and stopwords removed so that it can then be compared to tokenized text for every dog toy to find the most similar toys based off the text. \n",
    "\n",
    "The text that I will use to create and test this will be about one of my own dogs Colby:  \n",
    "An okay example:   \n",
    "\"Colby is 9-year-old retriever. For the most part, he is pretty mellow, but sometimes he gets bursts of energy, especially when we go swimming and play fetch in the pool with a ball. He also really like treats and is very food oriented. I wouldn't say he's very smart and definielty prefers to chase toys more than cuddle or chew on them. He will get bored with a toy after a bit. His favorite toy is probably a ball and not sqeaky.\"\n",
    "\n",
    "A better example:\n",
    "\"Colby is 9-year-old retriever. For the most part, he is pretty mellow, but sometimes he gets bursts of energy, especially when we go swimming and play fetch in the pool with a ball. He also really like treats and is very food oriented. He is pretty dumn and definielty prefers to chase toys. He will get bored with a toy after a bit. His favorite toy is probably a ball and not sqeaky.\"\n",
    "\n",
    "A third example: \n",
    "\"Eli is a miniature dachshund that loves to run around and snuggle with soft toys. She is very active but also loves to cuddle and loves toys.\" "
   ]
  },
  {
   "cell_type": "code",
   "execution_count": 6,
   "metadata": {},
   "outputs": [],
   "source": [
    "# User input examples of each of my three dogs: \n",
    "user_input_colby = \"Colby is 9-year-old golden retriever. For the most part, he is pretty mellow, but sometimes gets bursts of energy, especially when we go swimming and playing fetch in the pool with a ball. He also really like treats and is very food oriented. He will get bored with a toy after a bit. His favorite toy is probably a ball.\"\n",
    "user_input_eli = \"Eli is a 7-year-old miniature dachshund. She loves to run and chase balls and toys. But at the same time, she also enjoys snuggling with soft toys. She can also be quite destructive and loves to chew on things and lick. The second she sees something she chases and barks after it like a little guard dog\"\n",
    "user_input_middy = \"Middy is an 8-year-old Golden Retriever. He is both an extremely active and mellow dog. He absolutely loves to chase things and play with us as well as swim after balls. He is also extremely destructive and destroys almost every toy we have. He loves squeaky toys and will chew and destroys them for hours.\"\n"
   ]
  },
  {
   "cell_type": "code",
   "execution_count": 7,
   "metadata": {},
   "outputs": [],
   "source": [
    "# https://medium.com/@armandj.olivares/building-nlp-content-based-recommender-systems-b104a709c042\n",
    "\n",
    "list_docs = []\n",
    "for i in range(len(data)):\n",
    "    if data['combined_text'][i] != '':\n",
    "        doc = nlp_lg(\"u\" + str(data['combined_text'][i]) + \"'\")\n",
    "        list_docs.append(doc)"
   ]
  },
  {
   "cell_type": "code",
   "execution_count": 8,
   "metadata": {},
   "outputs": [],
   "source": [
    "def calculate_similarity_with_spacy(nlp, df, user_text, n=6):\n",
    "    # Calculate similarity with Spacy \n",
    "    list_sim = [] \n",
    "    toy_score = []\n",
    "    doc1 = nlp(user_text + \"'\")\n",
    "    vectors = doc1.vector # not quite sure if this will be useful bc not sure how to use the .most_similar here\n",
    "    for i in df.index:\n",
    "        try: \n",
    "            doc2 = list_docs[i]\n",
    "            score = doc1.similarity(doc2)\n",
    "            list_sim.append((doc1, doc2, score)) # don't return this list but its here in case I want to look at it \n",
    "            toy_score.append((score, df['title'][i], df['cat'][i], df['link'][i])) #the link will not appear here but this is a future step\n",
    "        except:\n",
    "            continue\n",
    "    return toy_score"
   ]
  },
  {
   "cell_type": "code",
   "execution_count": 9,
   "metadata": {},
   "outputs": [],
   "source": [
    "def dog_toy_recommender(nlp, data, user_text):\n",
    "    # this function runs the recommender and ranks the toys and returns that final ordered list\n",
    "    ranking_list = calculate_similarity_with_spacy(nlp_lg, data, user_text)\n",
    "    ranked_dict = {}\n",
    "    for i, score_toy in enumerate(ranking_list):\n",
    "        ranked_dict[score_toy[0]] = {i : [score_toy[1], ranking_list[i][2]]}\n",
    "    final_dict = {}\n",
    "    for i in sorted(ranked_dict, reverse=True): \n",
    "        final_dict[i] =  ranked_dict[i]\n",
    "    return final_dict"
   ]
  },
  {
   "cell_type": "code",
   "execution_count": 10,
   "metadata": {},
   "outputs": [],
   "source": [
    "def run_recommender(nlp, data, user_text):\n",
    "    # this function takes the ordered list and returns only the top 10 \n",
    "    toys = dog_toy_recommender(nlp_lg, data, user_text)\n",
    "    toy_list = []\n",
    "    for i in list(toys)[:10]:\n",
    "        toy_list.append((i, toys[i]))\n",
    "    return toy_list"
   ]
  },
  {
   "cell_type": "code",
   "execution_count": 11,
   "metadata": {},
   "outputs": [
    {
     "data": {
      "text/plain": [
       "[(0.9814632827501275,\n",
       "  {416: [\"JW Pet iSqueak Bouncin' Baseball Dog Toy, Color Varies, Large\",\n",
       "    'fetch toys']}),\n",
       " (0.980571381642635,\n",
       "  {1204: ['Ethical Pet Soccer Ball Squeaky Plush Dog Toy', 'plush toys']}),\n",
       " (0.9805123543004775,\n",
       "  {945: ['PetSafe Sportsmen Football Treat Dispensing Tough Dog Chew Toy',\n",
       "    'interactive toys']}),\n",
       " (0.9799213183240278,\n",
       "  {2353: ['Mighty Squeaky Stuffing-Free Plush Ball Dog Toy, Orange, Large',\n",
       "    'plush toys']}),\n",
       " (0.97976265475306,\n",
       "  {1098: ['Jolly Pets Teaser Ball Dog Toy, Red', 'interactive toys']}),\n",
       " (0.979609159224325,\n",
       "  {312: ['KONG Squeezz Ball Dog Toy, Color Varies', 'fetch toys']}),\n",
       " (0.9795406871852733,\n",
       "  {387: ['Ethical Pet Latex Soccer Ball Squeaky Dog Chew Toy, Color Varies, 2-in',\n",
       "    'fetch toys']}),\n",
       " (0.9793151679488704,\n",
       "  {2337: ['Chuckit! Indoor Flying Squirrel Dog Toy', 'plush toys']}),\n",
       " (0.9792858821072271,\n",
       "  {558: ['West Paw Echo Collection Rando Ball Dog Toy', 'fetch toys']}),\n",
       " (0.9792680026751011, {684: ['KONG AirDog Donut Dog Toy', 'fetch toys']})]"
      ]
     },
     "execution_count": 11,
     "metadata": {},
     "output_type": "execute_result"
    }
   ],
   "source": [
    "# Running the system on Colby input \n",
    "run_recommender(nlp_lg, data, user_text=user_input_colby)"
   ]
  },
  {
   "cell_type": "code",
   "execution_count": 12,
   "metadata": {},
   "outputs": [
    {
     "data": {
      "text/plain": [
       "[(0.9755991992477805,\n",
       "  {344: ['All Kind Squeaky Football Dog Toy', 'fetch toys']}),\n",
       " (0.974459031179541,\n",
       "  {945: ['PetSafe Sportsmen Football Treat Dispensing Tough Dog Chew Toy',\n",
       "    'interactive toys']}),\n",
       " (0.9740395971322395,\n",
       "  {1648: ['Petlou Monkey Stick Plush Dog Toy, 26-in', 'plush toys']}),\n",
       " (0.9739317168012707,\n",
       "  {393: ['JW Pet iSqueak Funble Football Dog Toy, Color Varies',\n",
       "    'fetch toys']}),\n",
       " (0.9738388950789447,\n",
       "  {1212: ['Frisco Muscle Plush Squeaking Unicorn Dog Toy', 'plush toys']}),\n",
       " (0.9738076465552218,\n",
       "  {25: ['Outward Hound Triple Jack Squeaky Dog Chew Toy', 'chew toys']}),\n",
       " (0.9737597360016708,\n",
       "  {2489: ['Ethical Pet Play Strong Ball & Rope Tough Dog Chew Toy',\n",
       "    'rope & tug toys']}),\n",
       " (0.9737056888323712,\n",
       "  {2512: ['Mammoth Denim 3 Knot Rope Tug with Tennis Ball Dog Toy, Medium',\n",
       "    'rope & tug toys']}),\n",
       " (0.9734631994629767,\n",
       "  {12: ['JW Pet Play Place Butterfly Puppy Teether, Color Varies',\n",
       "    'chew toys']}),\n",
       " (0.9734487514470396,\n",
       "  {1247: ['Frisco Plush with Inside Rope Squeaking Bear Dog Toy',\n",
       "    'plush toys']})]"
      ]
     },
     "execution_count": 12,
     "metadata": {},
     "output_type": "execute_result"
    }
   ],
   "source": [
    "# Running the system on Middy input \n",
    "run_recommender(nlp_lg, data, user_text=user_input_middy)"
   ]
  },
  {
   "cell_type": "code",
   "execution_count": 13,
   "metadata": {},
   "outputs": [
    {
     "data": {
      "text/plain": [
       "[(0.9758448370558819,\n",
       "  {1182: ['Frisco Fur Really Real Squirrel Dog Toy', 'plush toys']}),\n",
       " (0.9746307677951922,\n",
       "  {1102: ['ZippyPaws Zippy Burrow Pig Barn Dog Toy', 'interactive toys']}),\n",
       " (0.9742235417266696,\n",
       "  {1821: ['Outward Hound Floppyz Donkey Squeaky Plush Dog Toy',\n",
       "    'plush toys']}),\n",
       " (0.9735159213487884,\n",
       "  {1588: ['Ethical Pet Fun Sloth Squeaky Plush Dog Toy, Color Varies',\n",
       "    'plush toys']}),\n",
       " (0.9732204010009505,\n",
       "  {1222: ['Frisco Fur Really Real Rabbit Dog Toy', 'plush toys']}),\n",
       " (0.9731067931941596,\n",
       "  {1484: ['Multipet Swingin Slevins Squeaky Plush Dog Toy', 'plush toys']}),\n",
       " (0.9728508849063767,\n",
       "  {2498: ['Dogzilla Monster Tug Dog Toy', 'rope & tug toys']}),\n",
       " (0.9727337837789289,\n",
       "  {1282: ['Frisco Bobberz Plush Squeaking Unicorn Dog Toy', 'plush toys']}),\n",
       " (0.9726797319921872,\n",
       "  {1327: ['Frisco Skinny Plush Squeaking Penguin Dog Toy', 'plush toys']}),\n",
       " (0.9726548274565907,\n",
       "  {1963: ['Ethical Pet Chirpies Dog Toy, Character Varie', 'plush toys']})]"
      ]
     },
     "execution_count": 13,
     "metadata": {},
     "output_type": "execute_result"
    }
   ],
   "source": [
    "# Running the system on Eli input \n",
    "run_recommender(nlp_lg, data, user_text=user_input_eli)"
   ]
  },
  {
   "cell_type": "code",
   "execution_count": null,
   "metadata": {},
   "outputs": [],
   "source": []
  }
 ],
 "metadata": {
  "kernelspec": {
   "display_name": "Python 3",
   "language": "python",
   "name": "python3"
  },
  "language_info": {
   "codemirror_mode": {
    "name": "ipython",
    "version": 3
   },
   "file_extension": ".py",
   "mimetype": "text/x-python",
   "name": "python",
   "nbconvert_exporter": "python",
   "pygments_lexer": "ipython3",
   "version": "3.7.7"
  }
 },
 "nbformat": 4,
 "nbformat_minor": 4
}
