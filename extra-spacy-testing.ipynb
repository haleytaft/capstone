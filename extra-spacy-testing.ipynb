{
 "cells": [
  {
   "cell_type": "markdown",
   "metadata": {},
   "source": [
    "Testing spaCy for Capstone Project"
   ]
  },
  {
   "cell_type": "markdown",
   "metadata": {},
   "source": [
    "https://www.geeksforgeeks.org/python-sort-python-dictionaries-by-key-or-value/\n"
   ]
  },
  {
   "cell_type": "code",
   "execution_count": 1,
   "metadata": {},
   "outputs": [],
   "source": [
    "import pandas as pd\n",
    "import numpy as np\n",
    "import matplotlib.pyplot as plt\n",
    "\n",
    "import spacy"
   ]
  },
  {
   "cell_type": "code",
   "execution_count": 2,
   "metadata": {},
   "outputs": [],
   "source": [
    "nlp_sm = spacy.load('en_core_web_sm')\n",
    "nlp_lg = spacy.load('en_core_web_lg')"
   ]
  },
  {
   "cell_type": "code",
   "execution_count": 3,
   "metadata": {},
   "outputs": [],
   "source": [
    "data = pd.read_csv('./data/chewy.csv')"
   ]
  },
  {
   "cell_type": "code",
   "execution_count": 4,
   "metadata": {},
   "outputs": [
    {
     "data": {
      "text/html": [
       "<div>\n",
       "<style scoped>\n",
       "    .dataframe tbody tr th:only-of-type {\n",
       "        vertical-align: middle;\n",
       "    }\n",
       "\n",
       "    .dataframe tbody tr th {\n",
       "        vertical-align: top;\n",
       "    }\n",
       "\n",
       "    .dataframe thead th {\n",
       "        text-align: right;\n",
       "    }\n",
       "</style>\n",
       "<table border=\"1\" class=\"dataframe\">\n",
       "  <thead>\n",
       "    <tr style=\"text-align: right;\">\n",
       "      <th></th>\n",
       "      <th>title</th>\n",
       "      <th>price</th>\n",
       "      <th>descriptions</th>\n",
       "      <th>key_benefits</th>\n",
       "      <th>rating</th>\n",
       "      <th>reviews</th>\n",
       "      <th>subcat</th>\n",
       "      <th>cat</th>\n",
       "      <th>combined_text</th>\n",
       "      <th>combined_sent_len</th>\n",
       "      <th>combined_word_leng</th>\n",
       "      <th>tokenized_combined</th>\n",
       "    </tr>\n",
       "  </thead>\n",
       "  <tbody>\n",
       "    <tr>\n",
       "      <th>0</th>\n",
       "      <td>Nylabone Teething Pacifier Puppy Chew Toy</td>\n",
       "      <td>3.59</td>\n",
       "      <td>'Every puppy needs a pacifier to soothe teethi...</td>\n",
       "      <td>Designed to encourage positive play and teach ...</td>\n",
       "      <td>4.2</td>\n",
       "      <td>I do not know how to rate this. The puppy this...</td>\n",
       "      <td>moderate</td>\n",
       "      <td>chew toys</td>\n",
       "      <td>Every puppy needs a pacifier to soothe teethin...</td>\n",
       "      <td>50</td>\n",
       "      <td>1146</td>\n",
       "      <td>['every', 'puppy', 'needs', 'pacifier', 'sooth...</td>\n",
       "    </tr>\n",
       "    <tr>\n",
       "      <th>1</th>\n",
       "      <td>KONG Puppy Dog Toy, Color Varies</td>\n",
       "      <td>6.99</td>\n",
       "      <td>\"The Puppy KONG dog toy is customized for a gr...</td>\n",
       "      <td>Unpredictable bounce is great for energetic pu...</td>\n",
       "      <td>4.3</td>\n",
       "      <td>I have had dozens of dogs over the years, and ...</td>\n",
       "      <td>moderate</td>\n",
       "      <td>chew toys</td>\n",
       "      <td>\"The Puppy KONG dog toy is customized for a gr...</td>\n",
       "      <td>43</td>\n",
       "      <td>964</td>\n",
       "      <td>['puppy', 'kong', 'dog', 'toy', 'customized', ...</td>\n",
       "    </tr>\n",
       "    <tr>\n",
       "      <th>2</th>\n",
       "      <td>Petstages Dogwood Tough Dog Chew Toy</td>\n",
       "      <td>8.83</td>\n",
       "      <td>\"Chewing is a natural behavior in all dogs, as...</td>\n",
       "      <td>Chew toy that combines real wood with syntheti...</td>\n",
       "      <td>4.2</td>\n",
       "      <td>Our 8 month old, shepherd/mastiff has had this...</td>\n",
       "      <td>moderate</td>\n",
       "      <td>chew toys</td>\n",
       "      <td>\"Chewing is a natural behavior in all dogs, as...</td>\n",
       "      <td>48</td>\n",
       "      <td>1144</td>\n",
       "      <td>['chewing', 'natural', 'behavior', 'dogs', 'he...</td>\n",
       "    </tr>\n",
       "    <tr>\n",
       "      <th>3</th>\n",
       "      <td>Nylabone Teething Rings Puppy Chew Toy</td>\n",
       "      <td>6.57</td>\n",
       "      <td>'Great for teething and tugging! The Puppy Tee...</td>\n",
       "      <td>Designed to encourage positive play and teach ...</td>\n",
       "      <td>4.1</td>\n",
       "      <td>I have a small shih tzu who absolutely loves t...</td>\n",
       "      <td>moderate</td>\n",
       "      <td>chew toys</td>\n",
       "      <td>Great for teething and tugging! The Puppy Teet...</td>\n",
       "      <td>32</td>\n",
       "      <td>772</td>\n",
       "      <td>['great', 'teething', 'tugging', 'puppy', 'tee...</td>\n",
       "    </tr>\n",
       "    <tr>\n",
       "      <th>4</th>\n",
       "      <td>Nylabone Puppy Teething X Bone Beef Flavored P...</td>\n",
       "      <td>6.89</td>\n",
       "      <td>'Curious puppies have met their match with the...</td>\n",
       "      <td>Non-edible dog toy is made for teething puppie...</td>\n",
       "      <td>4.1</td>\n",
       "      <td>This is a great shoe for a tiny puppy in there...</td>\n",
       "      <td>moderate</td>\n",
       "      <td>chew toys</td>\n",
       "      <td>Curious puppies have met their match with the ...</td>\n",
       "      <td>25</td>\n",
       "      <td>804</td>\n",
       "      <td>['curious', 'puppies', 'met', 'match', 'nylabo...</td>\n",
       "    </tr>\n",
       "  </tbody>\n",
       "</table>\n",
       "</div>"
      ],
      "text/plain": [
       "                                               title  price  \\\n",
       "0          Nylabone Teething Pacifier Puppy Chew Toy   3.59   \n",
       "1                   KONG Puppy Dog Toy, Color Varies   6.99   \n",
       "2               Petstages Dogwood Tough Dog Chew Toy   8.83   \n",
       "3             Nylabone Teething Rings Puppy Chew Toy   6.57   \n",
       "4  Nylabone Puppy Teething X Bone Beef Flavored P...   6.89   \n",
       "\n",
       "                                        descriptions  \\\n",
       "0  'Every puppy needs a pacifier to soothe teethi...   \n",
       "1  \"The Puppy KONG dog toy is customized for a gr...   \n",
       "2  \"Chewing is a natural behavior in all dogs, as...   \n",
       "3  'Great for teething and tugging! The Puppy Tee...   \n",
       "4  'Curious puppies have met their match with the...   \n",
       "\n",
       "                                        key_benefits  rating  \\\n",
       "0  Designed to encourage positive play and teach ...     4.2   \n",
       "1  Unpredictable bounce is great for energetic pu...     4.3   \n",
       "2  Chew toy that combines real wood with syntheti...     4.2   \n",
       "3  Designed to encourage positive play and teach ...     4.1   \n",
       "4  Non-edible dog toy is made for teething puppie...     4.1   \n",
       "\n",
       "                                             reviews    subcat        cat  \\\n",
       "0  I do not know how to rate this. The puppy this...  moderate  chew toys   \n",
       "1  I have had dozens of dogs over the years, and ...  moderate  chew toys   \n",
       "2  Our 8 month old, shepherd/mastiff has had this...  moderate  chew toys   \n",
       "3  I have a small shih tzu who absolutely loves t...  moderate  chew toys   \n",
       "4  This is a great shoe for a tiny puppy in there...  moderate  chew toys   \n",
       "\n",
       "                                       combined_text  combined_sent_len  \\\n",
       "0  Every puppy needs a pacifier to soothe teethin...                 50   \n",
       "1  \"The Puppy KONG dog toy is customized for a gr...                 43   \n",
       "2  \"Chewing is a natural behavior in all dogs, as...                 48   \n",
       "3  Great for teething and tugging! The Puppy Teet...                 32   \n",
       "4  Curious puppies have met their match with the ...                 25   \n",
       "\n",
       "   combined_word_leng                                 tokenized_combined  \n",
       "0                1146  ['every', 'puppy', 'needs', 'pacifier', 'sooth...  \n",
       "1                 964  ['puppy', 'kong', 'dog', 'toy', 'customized', ...  \n",
       "2                1144  ['chewing', 'natural', 'behavior', 'dogs', 'he...  \n",
       "3                 772  ['great', 'teething', 'tugging', 'puppy', 'tee...  \n",
       "4                 804  ['curious', 'puppies', 'met', 'match', 'nylabo...  "
      ]
     },
     "execution_count": 4,
     "metadata": {},
     "output_type": "execute_result"
    }
   ],
   "source": [
    "data.head()"
   ]
  },
  {
   "cell_type": "code",
   "execution_count": 5,
   "metadata": {},
   "outputs": [],
   "source": [
    "# If 'Unnamed: 0' column is in the data frame, run this cell \n",
    "# data.drop(columns='Unnamed: 0', inplace=True)"
   ]
  },
  {
   "cell_type": "code",
   "execution_count": 6,
   "metadata": {},
   "outputs": [
    {
     "data": {
      "text/plain": [
       "array([-0.07346556,  0.32907858,  0.23233019, -0.89639986,  0.4671562 ,\n",
       "       -0.6119794 ,  0.29080743,  1.0835066 , -0.33472645,  0.45602024,\n",
       "       -0.22903268, -0.29929656, -0.30467167,  0.55770713,  0.06414268,\n",
       "        0.6807582 , -0.05252575, -0.600858  ,  0.013548  ,  0.20873564,\n",
       "       -0.02805013, -0.14847271,  0.5313398 , -0.26918706,  0.45909977,\n",
       "        0.6260124 , -1.0093218 , -0.58515084, -1.1434448 , -0.46030828,\n",
       "        0.04741814, -0.6644133 ,  0.08378425, -0.565938  , -0.4599834 ,\n",
       "       -0.45093608, -0.35570854,  0.29872698, -0.10212831, -0.19153658,\n",
       "        1.0857    ,  0.1583459 ,  0.22125351, -0.54544175,  0.84657055,\n",
       "       -0.32853115,  0.0811836 ,  0.9412147 ,  0.1691789 , -0.26174822,\n",
       "       -0.5205527 , -0.4742399 , -0.44689083, -0.15484595,  0.00544872,\n",
       "        0.6020739 ,  0.6129036 ,  0.64260995, -0.72209847,  0.4469184 ,\n",
       "        0.5314473 , -0.8459748 ,  0.5859006 , -0.17050962, -0.62157863,\n",
       "        1.3216199 ,  1.0755416 , -0.667737  ,  0.4431577 , -0.09948666,\n",
       "       -0.07955123, -0.03162891,  0.73818356, -0.09789065,  0.5515447 ,\n",
       "        0.34269246,  0.56047875, -0.04391478, -0.3128508 ,  0.32766363,\n",
       "       -0.21587522,  0.08635578,  0.47491455, -0.6726688 , -0.3589734 ,\n",
       "        0.09430548,  0.80677444,  0.5649785 , -0.02522786,  0.30079296,\n",
       "        0.01065878, -0.30455825,  0.26540616,  0.17157371, -0.03041532,\n",
       "       -0.5331073 ], dtype=float32)"
      ]
     },
     "execution_count": 6,
     "metadata": {},
     "output_type": "execute_result"
    }
   ],
   "source": [
    "# messing around on first review\n",
    "tokens = nlp_sm(data['combined_text'][0])\n",
    "vect_list = list(tokens.vector)\n",
    "np.array(vect_list)\n",
    "# token_list = []\n",
    "# for token in tokens[:10]:\n",
    "#     token_list.append(token.text)\n",
    "\n",
    "# # token_list \n",
    "# #     print(type(token))\n",
    "#     print(token.text, token.has_vector, token.vector_norm, token.is_oov)"
   ]
  },
  {
   "cell_type": "code",
   "execution_count": 7,
   "metadata": {},
   "outputs": [
    {
     "name": "stderr",
     "output_type": "stream",
     "text": [
      "/Users/haleytaft/opt/anaconda3/envs/dsi/lib/python3.7/site-packages/ipykernel_launcher.py:5: SettingWithCopyWarning: \n",
      "A value is trying to be set on a copy of a slice from a DataFrame\n",
      "\n",
      "See the caveats in the documentation: https://pandas.pydata.org/pandas-docs/stable/user_guide/indexing.html#returning-a-view-versus-a-copy\n",
      "  \"\"\"\n"
     ]
    }
   ],
   "source": [
    "data['token_vectors'] = ''\n",
    "for i in data.index:\n",
    "#     print(i)\n",
    "    doc = nlp_lg(data.loc[i, 'combined_text'])\n",
    "    data['token_vectors'][i] = list(doc.vector)\n",
    "# data['token_vectors']"
   ]
  },
  {
   "cell_type": "code",
   "execution_count": 8,
   "metadata": {},
   "outputs": [],
   "source": [
    "# def spacy(index, df):\n",
    "#     tokens = nlp_sm(df['reviews'][i])\n",
    "#     for token in tokens:\n",
    "#         type(token)\n",
    "# #         token = str(token)\n",
    "# #         df['token_text'][i] = token.text\n",
    "#         df['token_has_vector'][i] = token.has_vector\n",
    "#         df['token_vector_norm'][i] = token.vector_norm\n",
    "#         df['token_is_oov'][i] = token.is_oov"
   ]
  },
  {
   "cell_type": "code",
   "execution_count": 9,
   "metadata": {},
   "outputs": [],
   "source": [
    "# # need to create the columns I want to add before putting the values in them \n",
    "# # data['token_text'] = 0\n",
    "# data['token_has_vector'] = 0\n",
    "# data['token_vector_norm'] = 0\n",
    "# data['token_is_oov'] = 0"
   ]
  },
  {
   "cell_type": "code",
   "execution_count": 10,
   "metadata": {},
   "outputs": [],
   "source": [
    "# for i in data.index:\n",
    "#     spacy(data.loc[i, 'reviews'], data)\n",
    "# data.head(11)"
   ]
  },
  {
   "cell_type": "code",
   "execution_count": 11,
   "metadata": {},
   "outputs": [],
   "source": [
    "# def spacy_function(review, dataframe):\n",
    "#     tokens = nlp_sm(review)\n",
    "#     tokens_text = []\n",
    "#     tokens_has_vector = []\n",
    "#     tokens_vector_norm = []\n",
    "#     tokens_is_oov = []\n",
    "    \n",
    "#     for token in tokens:\n",
    "#         text = []\n",
    "#         has_vector = []\n",
    "#         vector_norm = []\n",
    "#         is_oov = []\n",
    "        \n",
    "#         text.append(token.text)\n",
    "#         has_vector.append(token.has_vector)\n",
    "#         vector_norms.append(token.vector_norm)\n",
    "#         is_oov.append(token.is_oov)\n",
    "        \n",
    "#         tokens_text.append(text)\n",
    "#         tokens_has_vectors.append(has_vectors)\n",
    "#         tokens_vector_norms.append(vector_norms)\n",
    "#         tokens_is_oov.append(is_oov)"
   ]
  },
  {
   "cell_type": "code",
   "execution_count": 12,
   "metadata": {},
   "outputs": [],
   "source": [
    "# df['reviews'].apply(lambda x: spacy_function(x, df))"
   ]
  },
  {
   "cell_type": "code",
   "execution_count": 13,
   "metadata": {},
   "outputs": [
    {
     "data": {
      "text/html": [
       "<div>\n",
       "<style scoped>\n",
       "    .dataframe tbody tr th:only-of-type {\n",
       "        vertical-align: middle;\n",
       "    }\n",
       "\n",
       "    .dataframe tbody tr th {\n",
       "        vertical-align: top;\n",
       "    }\n",
       "\n",
       "    .dataframe thead th {\n",
       "        text-align: right;\n",
       "    }\n",
       "</style>\n",
       "<table border=\"1\" class=\"dataframe\">\n",
       "  <thead>\n",
       "    <tr style=\"text-align: right;\">\n",
       "      <th></th>\n",
       "      <th>title</th>\n",
       "      <th>price</th>\n",
       "      <th>descriptions</th>\n",
       "      <th>key_benefits</th>\n",
       "      <th>rating</th>\n",
       "      <th>reviews</th>\n",
       "      <th>subcat</th>\n",
       "      <th>cat</th>\n",
       "      <th>combined_text</th>\n",
       "      <th>combined_sent_len</th>\n",
       "      <th>combined_word_leng</th>\n",
       "      <th>tokenized_combined</th>\n",
       "      <th>token_vectors</th>\n",
       "    </tr>\n",
       "  </thead>\n",
       "  <tbody>\n",
       "    <tr>\n",
       "      <th>0</th>\n",
       "      <td>Nylabone Teething Pacifier Puppy Chew Toy</td>\n",
       "      <td>3.59</td>\n",
       "      <td>'Every puppy needs a pacifier to soothe teethi...</td>\n",
       "      <td>Designed to encourage positive play and teach ...</td>\n",
       "      <td>4.2</td>\n",
       "      <td>I do not know how to rate this. The puppy this...</td>\n",
       "      <td>moderate</td>\n",
       "      <td>chew toys</td>\n",
       "      <td>Every puppy needs a pacifier to soothe teethin...</td>\n",
       "      <td>50</td>\n",
       "      <td>1146</td>\n",
       "      <td>['every', 'puppy', 'needs', 'pacifier', 'sooth...</td>\n",
       "      <td>[-0.04003238, 0.16376925, -0.17635255, -0.0941...</td>\n",
       "    </tr>\n",
       "    <tr>\n",
       "      <th>1</th>\n",
       "      <td>KONG Puppy Dog Toy, Color Varies</td>\n",
       "      <td>6.99</td>\n",
       "      <td>\"The Puppy KONG dog toy is customized for a gr...</td>\n",
       "      <td>Unpredictable bounce is great for energetic pu...</td>\n",
       "      <td>4.3</td>\n",
       "      <td>I have had dozens of dogs over the years, and ...</td>\n",
       "      <td>moderate</td>\n",
       "      <td>chew toys</td>\n",
       "      <td>\"The Puppy KONG dog toy is customized for a gr...</td>\n",
       "      <td>43</td>\n",
       "      <td>964</td>\n",
       "      <td>['puppy', 'kong', 'dog', 'toy', 'customized', ...</td>\n",
       "      <td>[-0.04645431, 0.17621087, -0.15408944, -0.0865...</td>\n",
       "    </tr>\n",
       "    <tr>\n",
       "      <th>2</th>\n",
       "      <td>Petstages Dogwood Tough Dog Chew Toy</td>\n",
       "      <td>8.83</td>\n",
       "      <td>\"Chewing is a natural behavior in all dogs, as...</td>\n",
       "      <td>Chew toy that combines real wood with syntheti...</td>\n",
       "      <td>4.2</td>\n",
       "      <td>Our 8 month old, shepherd/mastiff has had this...</td>\n",
       "      <td>moderate</td>\n",
       "      <td>chew toys</td>\n",
       "      <td>\"Chewing is a natural behavior in all dogs, as...</td>\n",
       "      <td>48</td>\n",
       "      <td>1144</td>\n",
       "      <td>['chewing', 'natural', 'behavior', 'dogs', 'he...</td>\n",
       "      <td>[-0.043032583, 0.16056213, -0.17279097, -0.084...</td>\n",
       "    </tr>\n",
       "    <tr>\n",
       "      <th>3</th>\n",
       "      <td>Nylabone Teething Rings Puppy Chew Toy</td>\n",
       "      <td>6.57</td>\n",
       "      <td>'Great for teething and tugging! The Puppy Tee...</td>\n",
       "      <td>Designed to encourage positive play and teach ...</td>\n",
       "      <td>4.1</td>\n",
       "      <td>I have a small shih tzu who absolutely loves t...</td>\n",
       "      <td>moderate</td>\n",
       "      <td>chew toys</td>\n",
       "      <td>Great for teething and tugging! The Puppy Teet...</td>\n",
       "      <td>32</td>\n",
       "      <td>772</td>\n",
       "      <td>['great', 'teething', 'tugging', 'puppy', 'tee...</td>\n",
       "      <td>[-0.040631622, 0.15921111, -0.15474631, -0.073...</td>\n",
       "    </tr>\n",
       "    <tr>\n",
       "      <th>4</th>\n",
       "      <td>Nylabone Puppy Teething X Bone Beef Flavored P...</td>\n",
       "      <td>6.89</td>\n",
       "      <td>'Curious puppies have met their match with the...</td>\n",
       "      <td>Non-edible dog toy is made for teething puppie...</td>\n",
       "      <td>4.1</td>\n",
       "      <td>This is a great shoe for a tiny puppy in there...</td>\n",
       "      <td>moderate</td>\n",
       "      <td>chew toys</td>\n",
       "      <td>Curious puppies have met their match with the ...</td>\n",
       "      <td>25</td>\n",
       "      <td>804</td>\n",
       "      <td>['curious', 'puppies', 'met', 'match', 'nylabo...</td>\n",
       "      <td>[-0.03072327, 0.15317601, -0.14757921, -0.0565...</td>\n",
       "    </tr>\n",
       "  </tbody>\n",
       "</table>\n",
       "</div>"
      ],
      "text/plain": [
       "                                               title  price  \\\n",
       "0          Nylabone Teething Pacifier Puppy Chew Toy   3.59   \n",
       "1                   KONG Puppy Dog Toy, Color Varies   6.99   \n",
       "2               Petstages Dogwood Tough Dog Chew Toy   8.83   \n",
       "3             Nylabone Teething Rings Puppy Chew Toy   6.57   \n",
       "4  Nylabone Puppy Teething X Bone Beef Flavored P...   6.89   \n",
       "\n",
       "                                        descriptions  \\\n",
       "0  'Every puppy needs a pacifier to soothe teethi...   \n",
       "1  \"The Puppy KONG dog toy is customized for a gr...   \n",
       "2  \"Chewing is a natural behavior in all dogs, as...   \n",
       "3  'Great for teething and tugging! The Puppy Tee...   \n",
       "4  'Curious puppies have met their match with the...   \n",
       "\n",
       "                                        key_benefits  rating  \\\n",
       "0  Designed to encourage positive play and teach ...     4.2   \n",
       "1  Unpredictable bounce is great for energetic pu...     4.3   \n",
       "2  Chew toy that combines real wood with syntheti...     4.2   \n",
       "3  Designed to encourage positive play and teach ...     4.1   \n",
       "4  Non-edible dog toy is made for teething puppie...     4.1   \n",
       "\n",
       "                                             reviews    subcat        cat  \\\n",
       "0  I do not know how to rate this. The puppy this...  moderate  chew toys   \n",
       "1  I have had dozens of dogs over the years, and ...  moderate  chew toys   \n",
       "2  Our 8 month old, shepherd/mastiff has had this...  moderate  chew toys   \n",
       "3  I have a small shih tzu who absolutely loves t...  moderate  chew toys   \n",
       "4  This is a great shoe for a tiny puppy in there...  moderate  chew toys   \n",
       "\n",
       "                                       combined_text  combined_sent_len  \\\n",
       "0  Every puppy needs a pacifier to soothe teethin...                 50   \n",
       "1  \"The Puppy KONG dog toy is customized for a gr...                 43   \n",
       "2  \"Chewing is a natural behavior in all dogs, as...                 48   \n",
       "3  Great for teething and tugging! The Puppy Teet...                 32   \n",
       "4  Curious puppies have met their match with the ...                 25   \n",
       "\n",
       "   combined_word_leng                                 tokenized_combined  \\\n",
       "0                1146  ['every', 'puppy', 'needs', 'pacifier', 'sooth...   \n",
       "1                 964  ['puppy', 'kong', 'dog', 'toy', 'customized', ...   \n",
       "2                1144  ['chewing', 'natural', 'behavior', 'dogs', 'he...   \n",
       "3                 772  ['great', 'teething', 'tugging', 'puppy', 'tee...   \n",
       "4                 804  ['curious', 'puppies', 'met', 'match', 'nylabo...   \n",
       "\n",
       "                                       token_vectors  \n",
       "0  [-0.04003238, 0.16376925, -0.17635255, -0.0941...  \n",
       "1  [-0.04645431, 0.17621087, -0.15408944, -0.0865...  \n",
       "2  [-0.043032583, 0.16056213, -0.17279097, -0.084...  \n",
       "3  [-0.040631622, 0.15921111, -0.15474631, -0.073...  \n",
       "4  [-0.03072327, 0.15317601, -0.14757921, -0.0565...  "
      ]
     },
     "execution_count": 13,
     "metadata": {},
     "output_type": "execute_result"
    }
   ],
   "source": [
    "data.head()"
   ]
  },
  {
   "cell_type": "markdown",
   "metadata": {},
   "source": [
    "This next section will be usefull code for the actual recommendation system "
   ]
  },
  {
   "cell_type": "code",
   "execution_count": 14,
   "metadata": {},
   "outputs": [],
   "source": [
    "# https://medium.com/@armandj.olivares/building-nlp-content-based-recommender-systems-b104a709c042\n",
    "\n",
    "list_docs = []\n",
    "for i in range(len(data)):\n",
    "    if data['combined_text'][i] != '':\n",
    "        doc = nlp_lg(\"u'\" + str(data['combined_text'][i]) + \"'\")\n",
    "        list_docs.append(doc)"
   ]
  },
  {
   "cell_type": "code",
   "execution_count": 15,
   "metadata": {},
   "outputs": [],
   "source": [
    "# https://medium.com/@armandj.olivares/building-nlp-content-based-recommender-systems-b104a709c042\n",
    "# This will take in what the users says and then score it based off that \n",
    "# I have added to this as well\n",
    "def calculate_similarity_with_spacy(nlp, df, user_text, n=6):\n",
    "    # Calculate similarity with Spacy \n",
    "    list_sim = []\n",
    "    toy_score = []\n",
    "    doc1 = nlp(user_text + \"'\")\n",
    "    vectors = doc1.vector # not quite sure if this will be useful bc not sure how to use the .most_similar here\n",
    "    for i in df.index:\n",
    "        try: \n",
    "            doc2 = list_docs[i]\n",
    "            score = doc1.similarity(doc2)\n",
    "            list_sim.append((doc1, doc2, score))\n",
    "            toy_score.append((score, df['title'][i]))\n",
    "        except:\n",
    "            continue\n",
    "    return toy_score #, vect_list  #list_sim"
   ]
  },
  {
   "cell_type": "code",
   "execution_count": 16,
   "metadata": {},
   "outputs": [],
   "source": [
    "ranking_list = calculate_similarity_with_spacy(nlp_lg, data, 'My dog is a puppy but will be bigger when it grows up. I want a toy for a dog that is energetic and a chewer. He also loves to fetch and run around a lot.')\n",
    "# , vectors"
   ]
  },
  {
   "cell_type": "code",
   "execution_count": 17,
   "metadata": {},
   "outputs": [],
   "source": [
    "# queries = numpy.asarray([numpy.random.uniform(-1, 1, (300,))])\n",
    "# most_similar = nlp_lg.vocab.vectors.most_similar(np.array(vectors), n=10)"
   ]
  },
  {
   "cell_type": "code",
   "execution_count": 18,
   "metadata": {},
   "outputs": [
    {
     "name": "stdout",
     "output_type": "stream",
     "text": [
      "0 0.9688176644941587\n",
      "1 0.966536147483859\n",
      "2 0.9636709649519845\n",
      "3 0.9695489134673047\n",
      "4 0.9682883131269454\n",
      "5 0.9676257582120139\n",
      "6 0.9659972169900718\n",
      "7 0.9646559007202359\n",
      "8 0.971437733232033\n",
      "9 0.9667909655396298\n"
     ]
    }
   ],
   "source": [
    "ranked_dict = {}\n",
    "for i, score_toy in enumerate(ranking_list[:10]):\n",
    "    print(i, score_toy[0])\n",
    "    ranked_dict[score_toy[0]] = {i : score_toy[1]}"
   ]
  },
  {
   "cell_type": "code",
   "execution_count": 19,
   "metadata": {},
   "outputs": [
    {
     "name": "stdout",
     "output_type": "stream",
     "text": [
      "(0.971437733232033, {8: 'KONG Puppy Goodie Bone Dog Toy, Color Varies'})\n",
      "(0.9695489134673047, {3: 'Nylabone Teething Rings Puppy Chew Toy'})\n",
      "(0.9688176644941587, {0: 'Nylabone Teething Pacifier Puppy Chew Toy'})\n",
      "(0.9682883131269454, {4: 'Nylabone Puppy Teething X Bone Beef Flavored Puppy Chew Toy, Small'})\n",
      "(0.9676257582120139, {5: 'Nylabone Puppy Petite Dental Puppy Chew Toy'})\n",
      "(0.9667909655396298, {9: \"Hartz Chew 'n Clean Tuff Bone Tough Dog Chew Toy Toy, Color Varies\"})\n",
      "(0.966536147483859, {1: 'KONG Puppy Dog Toy, Color Varies'})\n",
      "(0.9659972169900718, {6: 'Nylabone Puppy Chicken Flavored Teething Dinosaur Puppy Chew Toy, Petite'})\n",
      "(0.9646559007202359, {7: 'Petstages Cool Teething Stick Tough Dog Chew Toy'})\n",
      "(0.9636709649519845, {2: 'Petstages Dogwood Tough Dog Chew Toy'})\n"
     ]
    }
   ],
   "source": [
    "# https://www.geeksforgeeks.org/python-sort-python-dictionaries-by-key-or-value/\n",
    "final_dict = {}\n",
    "for i in sorted(ranked_dict, reverse=True) : \n",
    "    print ((i, ranked_dict[i]), end ='\\n')\n",
    "#     final_dict[i] = ranked_dict[i]\n",
    "# final_dict"
   ]
  },
  {
   "cell_type": "code",
   "execution_count": null,
   "metadata": {},
   "outputs": [],
   "source": []
  }
 ],
 "metadata": {
  "kernelspec": {
   "display_name": "Python 3",
   "language": "python",
   "name": "python3"
  },
  "language_info": {
   "codemirror_mode": {
    "name": "ipython",
    "version": 3
   },
   "file_extension": ".py",
   "mimetype": "text/x-python",
   "name": "python",
   "nbconvert_exporter": "python",
   "pygments_lexer": "ipython3",
   "version": "3.7.7"
  }
 },
 "nbformat": 4,
 "nbformat_minor": 4
}
