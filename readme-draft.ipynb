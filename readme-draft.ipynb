{
 "cells": [
  {
   "cell_type": "markdown",
   "metadata": {},
   "source": [
    "# Readme Draft"
   ]
  },
  {
   "cell_type": "markdown",
   "metadata": {},
   "source": [
    "# General Assembly Capstone Project: Dog Toy Recommendation System"
   ]
  },
  {
   "cell_type": "markdown",
   "metadata": {},
   "source": [
    "## Table of Contents:\n",
    "- Project Directory \n",
    "- Problem Statement\n",
    "- Executive Summary \n",
    "- Conclusions and Recommendations"
   ]
  },
  {
   "cell_type": "markdown",
   "metadata": {},
   "source": [
    "## Project Directory \n",
    ".\n",
    "├── 00-capstone-checkin2.ipynb\n",
    "├── 01-data-collection.ipynb\n",
    "├── 02-data-cleaning-eda.ipynb\n",
    "├── 03-spacy-testing.ipynb\n",
    "├── README.md\n",
    "├── data\n",
    "│   ├── chewtoy_df.csv\n",
    "│   ├── chewy.csv\n",
    "│   ├── fetchtoy_df.csv\n",
    "│   ├── interactivetoy_df.csv\n",
    "│   ├── plushtoy_df.csv\n",
    "│   └── ropetugtoy_df.csv\n",
    "├── images\n",
    "│   ├── vect-cat-box.png\n",
    "│   └── vect-cat-hist.png\n",
    "└── recommender_app.py"
   ]
  },
  {
   "cell_type": "markdown",
   "metadata": {},
   "source": [
    "## Problem Statement"
   ]
  },
  {
   "cell_type": "markdown",
   "metadata": {},
   "source": [
    "Based off the reviews, descriptions and key benefits of dog toys, and a person's description of their dog's general personality, I will create a recommendation system that will suggest ten dog toys that the dog might enjoy based off the similarity in what was written and the text provided about each toy. "
   ]
  },
  {
   "cell_type": "markdown",
   "metadata": {},
   "source": [
    "## Executive Summary "
   ]
  },
  {
   "cell_type": "markdown",
   "metadata": {},
   "source": [
    "**Data Collection** \n",
    " - Using Selenium and BeautifulSoup, scraped dog toys from [Chewy.com](https://www.chewy.com) The categories of toys I scraped are chew toys, plush toys, fetch toys, interactive toys and rope and tug toys. \n",
    " - The features that I scraped include: title, price, overall rating, description, key benefits (if this section exists), and reviews as well as the link to the toy's webpage. \n",
    " - This process was definitely the greatest challenge due to overloading the website and computer capacity. I had to make sure to take it step by step in order to ensure that I did not overwhelm Chewy as well as my computer. \n",
    " - Cleaned unneccessary characters from each column. For example, the \"\\$\" in the price and some html characters that got collected in the scraping process by accident. \n",
    " - Since I scraped toys by each category, I had to combine them all into one large dataframe to use. "
   ]
  },
  {
   "cell_type": "markdown",
   "metadata": {},
   "source": [
    "**Preprocessing & EDA**  \n",
    "Preprocessing:\n",
    " - I created a new column, combining the text from the toys' description, key benefits (if present) and reviews which would then be used in analyzing the toys. \n",
    " - I then tokenized this column and removed stop words and other words I thought would not hold much meaning such as various forms of 'dog' and 'toy' since all the text was talking about dog toys. \n",
    " - I used spaCy to vectorize and then manually calculated the average vector for each toy's text for EDA. \n",
    "\n",
    "EDA: **ADD IN SOME FINDINGS**\n",
    " - Looked at the count of toys in each category and subcategory. This showed me that for some reason, there was only one toy in the ball subcategory and that I would have to rescrape data once more toys were added back to the website. \n",
    " - I also used CountVectorization to look at most commons words amongst the whole dataframe and then among each category to see if there were any words that were or were not common among all categories. \n",
    " - I also looked at the overall rating and how they were distributed amongst each category and how those categories compared to each other. \n",
    " - Lastly, I looked at how the vectors were distributed in the whole dataframe and then by category to again see if there were any major differences in the text of each category. "
   ]
  },
  {
   "cell_type": "markdown",
   "metadata": {},
   "source": [
    "Here are the two plots, for the average vector distributions. The first image are histograms of the average vector distributions for the whole dataframe and then broken up by each category. For the most part they all seem to follow they same general pattern.      \n",
    "![Average Vector Distribution of Whole Dataframe and Categories](./images/vect-cat-hist.png)   \n",
    "\n",
    "The next image are box plots of the average vector distributions of just the categories to observe how they related to just each other. As you can see here, the distributions are for the most part very similar except you can see that chew toys and interactive toys have a slightly different distribution from the rest of the categories.     \n",
    "![Average Vector Distrubtion Boxplots of Each Category](./images/vect-cat-box.png)"
   ]
  },
  {
   "cell_type": "markdown",
   "metadata": {},
   "source": [
    "**Recommendation System** \n",
    " - To use the system, a user writes a short paragraph (1-2 sentences) describing their dog. I offer some prompt questions which I have listed below:\n",
    "     - What type of dog do you have?\n",
    "     - Is your dog a puppy, or older?\n",
    "     - Is your dog super energetic and playful or calmer?\n",
    "     - Would you say your dog is smarter than most dogs?\n",
    "     - Does your dog like to chase after toys, cuddle toys, or chew on them?\n",
    "     - Does your dog get pretty bored after playing with a toy for a bit?\n",
    "     - Does your dog already have an ideal toy that is their absolute favorite? (If yes, describe it.)\n",
    "\n",
    "- spaCy then takes this input, tokenizes it and then assigns vectors to each word. \n",
    "- It then uses the spaCy similarity function to compare the input with the vectors of each toy in the data frame. \n",
    "- Based off the similarity, spaCy then provides a score ranging from 0-1 where 0 is not very similar and 1 means the exact same. \n",
    "- The system then ranks these toy based off the scores from highest to lowest and then returns the top 10 highest ranking toys to the user. \n"
   ]
  },
  {
   "cell_type": "markdown",
   "metadata": {},
   "source": [
    "**Results**\n",
    "To test this system, I used my 3 dogs as examples. Below are my inputs and the top toy suggested to them with the corresponding score.\n",
    "- Colby: \"Colby is 9-year-old golden retriever. For the most part, he is pretty mellow, but sometimes gets bursts of energy, especially when we go swimming and playing fetch in the pool with a ball. He also really like treats and is very food oriented. He will get bored with a toy after a bit. His favorite toy is probably a ball.\"\n",
    "    - Top toy: “JW Pet iSqueak Bouncin’ Baseball Dog Toy” with a score of 0.9814\n",
    "- Middy: “Middy is an 8-year-old Golden Retriever. He is both an extremely active and mellow dog. He absolutely loves to chase things and play with us as well as swim after balls. He is also extremely destructive and destroys almost every toy we have. He loves squeaky toys and will chew and destroys them for hours.”\n",
    "    - Top toy: “All Kind Squeaky Football Dog Toy” with a score of 0.9755\n",
    "- Eli: \"Eli is a 7-year-old miniature dachshund. She loves to run and chase balls and toys. But at the same time, she also enjoys snuggling with soft toys. She can also be quite destructive and loves to chew on things and lick. The second she sees something she chases and barks after it like a little guard dog\"\n",
    "    - “Frisco Fur Really Real Squirrel Dog Toy” with a score of 0.9758 \n",
    "    \n",
    "Since this is a recommendation system, there is no real way to test how well this sytem does in its recommendation, but I did buy these suggested toys for my dogs and after they do seem to like them.\n",
    "\n"
   ]
  },
  {
   "cell_type": "markdown",
   "metadata": {},
   "source": [
    "## Conclusions and Recommendations\n",
    "**Conclusions**\n",
    "- I was able to create a working system. There is definitely room for improvement like with most projects, but for where it stands now I am very happy with it because it provides pretty good results from my opinion. \n",
    "- I have also created a web app for users to be able to use my system. Hopeufully I will be able to turn this into a website or some sort of app for people to be able to access, since now it is only able to run with the streamlit library. \n",
    "  \n",
    "**Future Steps** \n",
    "- I definitely want to work on my web app to make it more efficient and appealing for users both visually and informatively. \n",
    "- I would also like to look into including more stores or more animals in my system beyond Chewy and dogs so that more people could use it. \n",
    "- Due to timing issues, I was not able to scrape all reviews from the products, so I would like to be able to go back and do that so then I can conduct sentiment analysis on the reviews.\n",
    "- Lastly, I would really like to incorporate more features in system more than just comparing the text to see if that would make more of an impact. I could also just allow the user to be able to filter the dataset by features like price or ratings. \n"
   ]
  },
  {
   "cell_type": "code",
   "execution_count": null,
   "metadata": {},
   "outputs": [],
   "source": []
  }
 ],
 "metadata": {
  "kernelspec": {
   "display_name": "Python 3",
   "language": "python",
   "name": "python3"
  },
  "language_info": {
   "codemirror_mode": {
    "name": "ipython",
    "version": 3
   },
   "file_extension": ".py",
   "mimetype": "text/x-python",
   "name": "python",
   "nbconvert_exporter": "python",
   "pygments_lexer": "ipython3",
   "version": "3.7.7"
  }
 },
 "nbformat": 4,
 "nbformat_minor": 4
}
